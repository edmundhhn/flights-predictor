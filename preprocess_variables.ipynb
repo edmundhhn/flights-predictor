{
 "cells": [
  {
   "cell_type": "markdown",
   "id": "e5a994ef-1a5a-4901-8caf-f373ed93d751",
   "metadata": {},
   "source": [
    "# Preprocess Data"
   ]
  },
  {
   "cell_type": "markdown",
   "id": "e07324ff-5151-4daf-9209-d53bf5dec2fe",
   "metadata": {},
   "source": [
    "---"
   ]
  },
  {
   "cell_type": "markdown",
   "id": "e3e95c35-c982-4690-b450-57cc3ea6f1af",
   "metadata": {},
   "source": [
    "In this notebook, we will edit the data to include only columns that we want. "
   ]
  },
  {
   "cell_type": "markdown",
   "id": "402218af-f624-4489-85b9-9a67f2af19ff",
   "metadata": {},
   "source": [
    "There are two types of variables that we want to keep:\n",
    "- Those which are practical for the user to input when looking up a price prediction\n",
    "- Those which would actually contribute to the price of a flight"
   ]
  },
  {
   "cell_type": "markdown",
   "id": "419c6435-0dcc-4b8f-b6c2-146b8e698d20",
   "metadata": {},
   "source": [
    "---"
   ]
  },
  {
   "cell_type": "markdown",
   "id": "f043b592-70e0-4c63-8a73-83386027bd88",
   "metadata": {},
   "source": [
    "## Data Dictionary Reminder"
   ]
  },
  {
   "cell_type": "markdown",
   "id": "d1a5faef-4eed-4614-ac9d-37813c657af1",
   "metadata": {},
   "source": [
    "below is a reminder of what variables we have, next to each we indicate what we want to do with each column"
   ]
  },
  {
   "cell_type": "markdown",
   "id": "6d702f5e-a702-455b-9906-0a70e3ad0664",
   "metadata": {},
   "source": [
    "- legId: An identifier for the flight. // Not needed\n",
    "- searchDate: The date (YYYY-MM-DD) on which this entry was taken from Expedia. // Change search date and flight date into one variable - days before flight\n",
    "- flightDate: The date (YYYY-MM-DD) of the flight. // Potentially separate this into just the day. Month is meaningless as the data is not even for a full year\n",
    "- startingAirport: Three-character IATA airport code for the initial location. // One hot encoding\n",
    "- destinationAirport: Three-character IATA airport code for the arrival location. // One hot encoding\n",
    "- fareBasisCode: The fare basis code. // Not required\n",
    "- travelDuration: The travel duration in hours and minutes. // Not required\n",
    "- elapsedDays: The number of elapsed days (usually 0). // Not required\n",
    "- isBasicEconomy: Boolean for whether the ticket is for basic economy. // Change into binary\n",
    "- isRefundable: Boolean for whether the ticket is refundable. // Change into binary \n",
    "- isNonStop: Boolean for whether the flight is non-stop. // Change into binary \n",
    "- baseFare: The price of the ticket (in USD). // Not required\n",
    "- totalFare: The price of the ticket (in USD) including taxes and other fees. // No change needed\n",
    "- seatsRemaining: Integer for the number of seats remaining. // Not required\n",
    "- totalTravelDistance: The total travel distance in miles. This data is sometimes missing. // Not required\n",
    "- segmentsDepartureTimeEpochSeconds: String containing the departure time (Unix time) for each leg of the trip. The entries for each of the legs are separated by '||'. // Not required\n",
    "- segmentsDepartureTimeRaw: String containing the departure time (ISO 8601 format: YYYY-MM-DDThh:mm:ss.000±[hh]:00) for each leg of the trip. The entries for each of the legs are separated by '||'. // Not required\n",
    "- segmentsArrivalTimeEpochSeconds: String containing the arrival time (Unix time) for each leg of the trip. The entries for each of the legs are separated by '||'. // Not required\n",
    "- segmentsArrivalTimeRaw: String containing the arrival time (ISO 8601 format: YYYY-MM-DDThh:mm:ss.000±[hh]:00) for each leg of the trip. The entries for each of the legs are separated by '||'. // Not required\n",
    "- segmentsArrivalAirportCode: String containing the IATA airport code for the arrival location for each leg of the trip. The entries for each of the legs are separated by '||'. // Not required\n",
    "- segmentsDepartureAirportCode: String containing the IATA airport code for the departure location for each leg of the trip. The entries for each of the legs are separated by '||'. // Not required\n",
    "- segmentsAirlineName: String containing the name of the airline that services each leg of the trip. The entries for each of the legs are separated by '||'. // Most trips use the same airlines the whole way, drop trips that don't do this and change trips that do into one hot encoding. We can also use this to count how many layovers there are.\n",
    "- segmentsAirlineCode: String containing the two-letter airline code that services each leg of the trip. The entries for each of the legs are separated by '||'. // Not required\n",
    "- segmentsEquipmentDescription: String containing the type of airplane used for each leg of the trip (e.g. \"Airbus A321\" or \"Boeing 737-800\"). The entries for each of the legs are separated by '||'. // Not required\n",
    "- segmentsDurationInSeconds: String containing the duration of the flight (in seconds) for each leg of the trip. The entries for each of the legs are separated by '||'. // Not required\n",
    "- segmentsDistance: String containing the distance traveled (in miles) for each leg of the trip. The entries for each of the legs are separated by '||'. // Not required\n",
    "- segmentsCabinCode: String containing the cabin for each leg of the trip (e.g. \"coach\"). The entries for each of the legs are separated by '||'. // Not required"
   ]
  },
  {
   "cell_type": "markdown",
   "id": "ec30d748-2989-44e4-9020-58197f0c0821",
   "metadata": {},
   "source": [
    "## Load Spark and Data"
   ]
  },
  {
   "cell_type": "code",
   "execution_count": 18,
   "id": "efb444d5-e232-4a68-a390-837922fd9dc3",
   "metadata": {},
   "outputs": [],
   "source": [
    "from itertools import groupby\n",
    "\n",
    "from pyspark.sql import SparkSession\n",
    "from pyspark.sql.functions import col, datediff, dayofmonth, when, udf, split, size\n",
    "from pyspark.ml.feature import StringIndexer, OneHotEncoder\n",
    "from pyspark.ml import Pipeline\n",
    "\n",
    "from pyspark.sql.types import IntegerType, StringType"
   ]
  },
  {
   "cell_type": "code",
   "execution_count": 19,
   "id": "dbcd0942-a36b-4c84-93e2-fac0cc80d1e7",
   "metadata": {},
   "outputs": [],
   "source": [
    "spark = SparkSession.builder.appName(\"flights\").getOrCreate()\n",
    "\n",
    "# REPLACE WITH DATA FILEPATH\n",
    "DATA_PATH = \"../data/itineraries.csv\"\n",
    "\n",
    "df = spark.read.csv(DATA_PATH, header=True, inferSchema=True)"
   ]
  },
  {
   "cell_type": "markdown",
   "id": "f3fa7afd-e41c-4471-a124-8a0e5389c324",
   "metadata": {},
   "source": [
    "## Drop the Uneccessary Columns"
   ]
  },
  {
   "cell_type": "code",
   "execution_count": 20,
   "id": "526cf67d-c9d8-4547-a009-ecb1c03f706e",
   "metadata": {},
   "outputs": [],
   "source": [
    "cols_to_drop = [\"legId\", \"fareBasisCode\", \"travelDuration\", \"elapsedDays\", \"baseFare\", \"seatsRemaining\", \"totalTravelDistance\",\\\n",
    "                \"segmentsDepartureTimeEpochSeconds\",\"segmentsDepartureTimeRaw\", \"segmentsArrivalTimeEpochSeconds\", \"segmentsArrivalTimeRaw\",\\\n",
    "                \"segmentsArrivalAirportCode\", \"segmentsDepartureAirportCode\",\"segmentsAirlineCode\", \"segmentsEquipmentDescription\", \\\n",
    "                \"segmentsDurationInSeconds\", \"segmentsDistance\", \"segmentsCabinCode\"]"
   ]
  },
  {
   "cell_type": "code",
   "execution_count": 21,
   "id": "8ba82933-640a-4b01-a58b-ec48ed658eaa",
   "metadata": {},
   "outputs": [],
   "source": [
    "# drop cols\n",
    "df = df.drop(*cols_to_drop)"
   ]
  },
  {
   "cell_type": "code",
   "execution_count": 22,
   "id": "2e8f4bc2-4b40-43d7-8561-c6f5cd5138f6",
   "metadata": {},
   "outputs": [
    {
     "name": "stdout",
     "output_type": "stream",
     "text": [
      "+----------+----------+---------------+------------------+--------------+------------+---------+---------+--------------------+\n",
      "|searchDate|flightDate|startingAirport|destinationAirport|isBasicEconomy|isRefundable|isNonStop|totalFare| segmentsAirlineName|\n",
      "+----------+----------+---------------+------------------+--------------+------------+---------+---------+--------------------+\n",
      "|2022-04-16|2022-04-17|            ATL|               BOS|         false|       false|     true|    248.6|               Delta|\n",
      "|2022-04-16|2022-04-17|            ATL|               BOS|         false|       false|     true|    248.6|               Delta|\n",
      "|2022-04-16|2022-04-17|            ATL|               BOS|         false|       false|     true|    248.6|               Delta|\n",
      "|2022-04-16|2022-04-17|            ATL|               BOS|         false|       false|     true|    248.6|               Delta|\n",
      "|2022-04-16|2022-04-17|            ATL|               BOS|         false|       false|     true|    248.6|               Delta|\n",
      "|2022-04-16|2022-04-17|            ATL|               BOS|         false|       false|     true|    248.6|     JetBlue Airways|\n",
      "|2022-04-16|2022-04-17|            ATL|               BOS|         false|       false|    false|    251.1|American Airlines...|\n",
      "|2022-04-16|2022-04-17|            ATL|               BOS|         false|       false|    false|    251.1|American Airlines...|\n",
      "|2022-04-16|2022-04-17|            ATL|               BOS|         false|       false|    false|    251.1|American Airlines...|\n",
      "|2022-04-16|2022-04-17|            ATL|               BOS|         false|       false|    false|    251.1|American Airlines...|\n",
      "|2022-04-16|2022-04-17|            ATL|               BOS|         false|       false|    false|    252.6|      United||United|\n",
      "|2022-04-16|2022-04-17|            ATL|               BOS|         false|       false|    false|    252.6|American Airlines...|\n",
      "|2022-04-16|2022-04-17|            ATL|               BOS|         false|       false|    false|    252.6|American Airlines...|\n",
      "|2022-04-16|2022-04-17|            ATL|               BOS|         false|       false|    false|    252.6|American Airlines...|\n",
      "|2022-04-16|2022-04-17|            ATL|               BOS|         false|       false|    false|    252.6|      United||United|\n",
      "|2022-04-16|2022-04-17|            ATL|               BOS|         false|       false|    false|   290.58|Spirit Airlines||...|\n",
      "|2022-04-16|2022-04-17|            ATL|               BOS|         false|       false|     true|    300.1|   American Airlines|\n",
      "|2022-04-16|2022-04-17|            ATL|               BOS|         false|       false|    false|   302.11|American Airlines...|\n",
      "|2022-04-16|2022-04-17|            ATL|               BOS|         false|       false|    false|   302.11|American Airlines...|\n",
      "|2022-04-16|2022-04-17|            ATL|               BOS|         false|       false|    false|   302.11|American Airlines...|\n",
      "+----------+----------+---------------+------------------+--------------+------------+---------+---------+--------------------+\n",
      "only showing top 20 rows\n",
      "\n"
     ]
    }
   ],
   "source": [
    "df.show()"
   ]
  },
  {
   "cell_type": "markdown",
   "id": "386fe086-6d9c-4e1b-b312-e41f2cc87358",
   "metadata": {},
   "source": [
    "## Days before flight Column"
   ]
  },
  {
   "cell_type": "code",
   "execution_count": 23,
   "id": "e38dcd9c-4eb2-4c5b-9847-25248371c1c9",
   "metadata": {},
   "outputs": [],
   "source": [
    "df = df.withColumn(\"days_before_flight\", datediff(col(\"flightDate\"), col(\"searchDate\")))"
   ]
  },
  {
   "cell_type": "markdown",
   "id": "c9f35deb-ad31-4083-a3d0-cccb2f99f08a",
   "metadata": {},
   "source": [
    "## DayofMonth Column"
   ]
  },
  {
   "cell_type": "code",
   "execution_count": 24,
   "id": "efcd6fed-7a29-4479-8f9a-f89f41e4560d",
   "metadata": {},
   "outputs": [],
   "source": [
    "df = df.withColumn(\"day\", dayofmonth(col(\"flightDate\")))"
   ]
  },
  {
   "cell_type": "markdown",
   "id": "50c815be-6f04-4102-b009-dd94ceb623f1",
   "metadata": {},
   "source": [
    "## Drop: searchDay and FlightDay"
   ]
  },
  {
   "cell_type": "code",
   "execution_count": 25,
   "id": "67f1b049-b988-45e3-865e-52bbd2acc3a3",
   "metadata": {},
   "outputs": [],
   "source": [
    "df = df.drop(*[\"searchDate\", \"flightDate\"])"
   ]
  },
  {
   "cell_type": "code",
   "execution_count": 26,
   "id": "d7c502d7-7c04-4b9e-874d-55ac9a7b66a5",
   "metadata": {},
   "outputs": [
    {
     "name": "stdout",
     "output_type": "stream",
     "text": [
      "+---------------+------------------+--------------+------------+---------+---------+--------------------+------------------+---+\n",
      "|startingAirport|destinationAirport|isBasicEconomy|isRefundable|isNonStop|totalFare| segmentsAirlineName|days_before_flight|day|\n",
      "+---------------+------------------+--------------+------------+---------+---------+--------------------+------------------+---+\n",
      "|            ATL|               BOS|         false|       false|     true|    248.6|               Delta|                 1| 17|\n",
      "|            ATL|               BOS|         false|       false|     true|    248.6|               Delta|                 1| 17|\n",
      "|            ATL|               BOS|         false|       false|     true|    248.6|               Delta|                 1| 17|\n",
      "|            ATL|               BOS|         false|       false|     true|    248.6|               Delta|                 1| 17|\n",
      "|            ATL|               BOS|         false|       false|     true|    248.6|               Delta|                 1| 17|\n",
      "|            ATL|               BOS|         false|       false|     true|    248.6|     JetBlue Airways|                 1| 17|\n",
      "|            ATL|               BOS|         false|       false|    false|    251.1|American Airlines...|                 1| 17|\n",
      "|            ATL|               BOS|         false|       false|    false|    251.1|American Airlines...|                 1| 17|\n",
      "|            ATL|               BOS|         false|       false|    false|    251.1|American Airlines...|                 1| 17|\n",
      "|            ATL|               BOS|         false|       false|    false|    251.1|American Airlines...|                 1| 17|\n",
      "|            ATL|               BOS|         false|       false|    false|    252.6|      United||United|                 1| 17|\n",
      "|            ATL|               BOS|         false|       false|    false|    252.6|American Airlines...|                 1| 17|\n",
      "|            ATL|               BOS|         false|       false|    false|    252.6|American Airlines...|                 1| 17|\n",
      "|            ATL|               BOS|         false|       false|    false|    252.6|American Airlines...|                 1| 17|\n",
      "|            ATL|               BOS|         false|       false|    false|    252.6|      United||United|                 1| 17|\n",
      "|            ATL|               BOS|         false|       false|    false|   290.58|Spirit Airlines||...|                 1| 17|\n",
      "|            ATL|               BOS|         false|       false|     true|    300.1|   American Airlines|                 1| 17|\n",
      "|            ATL|               BOS|         false|       false|    false|   302.11|American Airlines...|                 1| 17|\n",
      "|            ATL|               BOS|         false|       false|    false|   302.11|American Airlines...|                 1| 17|\n",
      "|            ATL|               BOS|         false|       false|    false|   302.11|American Airlines...|                 1| 17|\n",
      "+---------------+------------------+--------------+------------+---------+---------+--------------------+------------------+---+\n",
      "only showing top 20 rows\n",
      "\n"
     ]
    }
   ],
   "source": [
    "df.show()"
   ]
  },
  {
   "cell_type": "markdown",
   "id": "501df872-a87d-4cc6-9f57-8a8d366e0fd1",
   "metadata": {},
   "source": [
    "## One Hot Encode Starting and Destination Airport"
   ]
  },
  {
   "cell_type": "code",
   "execution_count": 27,
   "id": "e7e7048e-1f9c-438f-83b9-15d079bb105f",
   "metadata": {},
   "outputs": [],
   "source": [
    "# string indexers\n",
    "string_indexer = StringIndexer(inputCol=\"startingAirport\", outputCol=\"startingAirport_index\")\n",
    "string_indexer_2 = StringIndexer(inputCol=\"destinationAirport\", outputCol=\"destinationAirport_index\")\n",
    "\n",
    "# encoders\n",
    "encoder = OneHotEncoder(inputCol=\"startingAirport_index\", outputCol=\"startingAirport_encoded\")\n",
    "encoder_2 = OneHotEncoder(inputCol=\"destinationAirport_index\", outputCol=\"destinationAirport_encoded\")\n",
    "\n",
    "# pipeline\n",
    "pipeline = Pipeline(stages=[string_indexer, string_indexer_2, encoder, encoder_2])\n",
    "pipeline_model = pipeline.fit(df)\n",
    "df = pipeline_model.transform(df)"
   ]
  },
  {
   "cell_type": "markdown",
   "id": "d66e0330-455c-4b32-a552-2ffb0312def4",
   "metadata": {},
   "source": [
    "## Drop: startingAirport, destinationAirport, startingAirport_index, destinationAirport_index"
   ]
  },
  {
   "cell_type": "code",
   "execution_count": 28,
   "id": "10c5b3ad-9e0b-4245-92f0-e5fb17b16150",
   "metadata": {},
   "outputs": [],
   "source": [
    "df = df.drop(*[\"startingAirport\", \"destinationAirport\", \"startingAirport_index\", \"destinationAirport_index\"])"
   ]
  },
  {
   "cell_type": "markdown",
   "id": "716d193f-1c64-4118-b1b3-8bcacf95f972",
   "metadata": {},
   "source": [
    "## Convert Boolean Columns into Binary"
   ]
  },
  {
   "cell_type": "code",
   "execution_count": 29,
   "id": "2644363b-404d-4ecf-a4cb-2dc9a928798f",
   "metadata": {},
   "outputs": [],
   "source": [
    "bool_columns = [\"isBasicEconomy\", \"isRefundable\", \"isNonStop\"]"
   ]
  },
  {
   "cell_type": "code",
   "execution_count": 30,
   "id": "9ee1befa-abf9-4c47-a263-e9013c772741",
   "metadata": {},
   "outputs": [],
   "source": [
    "for col_name in bool_columns:\n",
    "    df = df.withColumn(col_name, when(col(col_name), 1).otherwise(0))"
   ]
  },
  {
   "cell_type": "code",
   "execution_count": 31,
   "id": "a4c8f540-2654-4a05-b390-d74523aa2c11",
   "metadata": {},
   "outputs": [
    {
     "name": "stdout",
     "output_type": "stream",
     "text": [
      "+--------------+------------+---------+---------+--------------------+------------------+---+-----------------------+--------------------------+\n",
      "|isBasicEconomy|isRefundable|isNonStop|totalFare| segmentsAirlineName|days_before_flight|day|startingAirport_encoded|destinationAirport_encoded|\n",
      "+--------------+------------+---------+---------+--------------------+------------------+---+-----------------------+--------------------------+\n",
      "|             0|           0|        1|    248.6|               Delta|                 1| 17|         (15,[1],[1.0])|            (15,[2],[1.0])|\n",
      "|             0|           0|        1|    248.6|               Delta|                 1| 17|         (15,[1],[1.0])|            (15,[2],[1.0])|\n",
      "|             0|           0|        1|    248.6|               Delta|                 1| 17|         (15,[1],[1.0])|            (15,[2],[1.0])|\n",
      "|             0|           0|        1|    248.6|               Delta|                 1| 17|         (15,[1],[1.0])|            (15,[2],[1.0])|\n",
      "|             0|           0|        1|    248.6|               Delta|                 1| 17|         (15,[1],[1.0])|            (15,[2],[1.0])|\n",
      "|             0|           0|        1|    248.6|     JetBlue Airways|                 1| 17|         (15,[1],[1.0])|            (15,[2],[1.0])|\n",
      "|             0|           0|        0|    251.1|American Airlines...|                 1| 17|         (15,[1],[1.0])|            (15,[2],[1.0])|\n",
      "|             0|           0|        0|    251.1|American Airlines...|                 1| 17|         (15,[1],[1.0])|            (15,[2],[1.0])|\n",
      "|             0|           0|        0|    251.1|American Airlines...|                 1| 17|         (15,[1],[1.0])|            (15,[2],[1.0])|\n",
      "|             0|           0|        0|    251.1|American Airlines...|                 1| 17|         (15,[1],[1.0])|            (15,[2],[1.0])|\n",
      "|             0|           0|        0|    252.6|      United||United|                 1| 17|         (15,[1],[1.0])|            (15,[2],[1.0])|\n",
      "|             0|           0|        0|    252.6|American Airlines...|                 1| 17|         (15,[1],[1.0])|            (15,[2],[1.0])|\n",
      "|             0|           0|        0|    252.6|American Airlines...|                 1| 17|         (15,[1],[1.0])|            (15,[2],[1.0])|\n",
      "|             0|           0|        0|    252.6|American Airlines...|                 1| 17|         (15,[1],[1.0])|            (15,[2],[1.0])|\n",
      "|             0|           0|        0|    252.6|      United||United|                 1| 17|         (15,[1],[1.0])|            (15,[2],[1.0])|\n",
      "|             0|           0|        0|   290.58|Spirit Airlines||...|                 1| 17|         (15,[1],[1.0])|            (15,[2],[1.0])|\n",
      "|             0|           0|        1|    300.1|   American Airlines|                 1| 17|         (15,[1],[1.0])|            (15,[2],[1.0])|\n",
      "|             0|           0|        0|   302.11|American Airlines...|                 1| 17|         (15,[1],[1.0])|            (15,[2],[1.0])|\n",
      "|             0|           0|        0|   302.11|American Airlines...|                 1| 17|         (15,[1],[1.0])|            (15,[2],[1.0])|\n",
      "|             0|           0|        0|   302.11|American Airlines...|                 1| 17|         (15,[1],[1.0])|            (15,[2],[1.0])|\n",
      "+--------------+------------+---------+---------+--------------------+------------------+---+-----------------------+--------------------------+\n",
      "only showing top 20 rows\n",
      "\n"
     ]
    }
   ],
   "source": [
    "df.show()"
   ]
  },
  {
   "cell_type": "markdown",
   "id": "5807c7d0-876a-4af8-95b5-4e2cecfdd265",
   "metadata": {},
   "source": [
    "## Create Number of Flights and Airline Name\n",
    "## TODO: FIX THIS"
   ]
  },
  {
   "cell_type": "code",
   "execution_count": 32,
   "id": "c7abb4bf-6bf9-4a66-9633-4274ee41d8f3",
   "metadata": {},
   "outputs": [],
   "source": [
    "# THESE UDF FUNCTIONS DON'T SEEM TO WORK, IGNORE FOR NOW\n",
    "\n",
    "def all_equal(iterable):\n",
    "    g = groupby(iterable)\n",
    "    return next(g, True) and not next(g, False)\n",
    "\n",
    "# get airline name\n",
    "def get_airline(segmentsAirlineName):\n",
    "    splits = segmentsAirlineName.split(\"||\")\n",
    "    if all_equal(splits):\n",
    "        return splits[0]\n",
    "    else:\n",
    "        return \"Multi-Airline\"\n",
    "\n",
    "# get number of splits\n",
    "def get_nsplits(segmentsAirlineName):\n",
    "    splits = segmentsAirlineName.split(\"||\")\n",
    "    return len(splits)\n",
    "\n",
    "# register as udf \n",
    "airline_udf = udf(get_airline)\n",
    "nsplit_udf = udf(get_nsplits, IntegerType())"
   ]
  },
  {
   "cell_type": "code",
   "execution_count": 33,
   "id": "042d05f1-54b5-44ed-a418-76e4ce71cfd4",
   "metadata": {},
   "outputs": [],
   "source": [
    "# convert segments airline name into a list\n",
    "df = df.withColumn(\"segmentsAirlineName\", split(col(\"segmentsAirlineName\"), r'\\|\\|'))\n",
    "\n",
    "# count the number of legs in the trip\n",
    "df = df.withColumn(\"num_legs\", size(col(\"segmentsAirlineName\")))\n",
    "\n",
    "# check whether all the flights in the list are the same\n",
    "df = df.withColumn(\"All_Same\", col(\"segmentsAirlineName\")[0] == col(\"segmentsAirlineName\")[1])\n",
    "\n",
    "# change the null results to true (for flights with only one leg)\n",
    "df = df.withColumn(\"All_Same\", when(col(\"All_Same\").isNull(), True).otherwise(col(\"All_Same\")))\n",
    "\n",
    "# get the name of the airline\n",
    "df = df.withColumn(\"airline_name\", col(\"segmentsAirlineName\").getItem(0))\n",
    "\n",
    "# filter out unneccesary columns\n",
    "df = df.filter(col(\"All_Same\") != False)"
   ]
  },
  {
   "cell_type": "code",
   "execution_count": 34,
   "id": "2fb2ab69-b663-4f16-8a4a-3bc5a0bd4568",
   "metadata": {},
   "outputs": [],
   "source": [
    "# drop segmentsAirlineName\n",
    "df = df.drop(\"segmentsAirlineName\")"
   ]
  },
  {
   "cell_type": "code",
   "execution_count": 35,
   "id": "8ba2bf20-b65b-4a13-a0f6-82f86a81490a",
   "metadata": {},
   "outputs": [],
   "source": [
    "# convert all_same into bool\n",
    "df = df.withColumn(\"All_Same\", when(col(\"All_Same\"), 1).otherwise(0))"
   ]
  },
  {
   "cell_type": "code",
   "execution_count": 36,
   "id": "b7e5eb9f-bd36-4abd-9419-84a8ecd84166",
   "metadata": {},
   "outputs": [
    {
     "name": "stderr",
     "output_type": "stream",
     "text": [
      "                                                                                \r"
     ]
    }
   ],
   "source": [
    "# convert airline_name into one hot encoded\n",
    "string_indexer_3 = StringIndexer(inputCol=\"airline_name\", outputCol=\"airline_name_index\")\n",
    "encoder_3 = OneHotEncoder(inputCol=\"airline_name_index\", outputCol=\"airline_name_encoded\")\n",
    "pipeline_2 = Pipeline(stages=[string_indexer_3, encoder_3])\n",
    "\n",
    "pipeline_model_2 = pipeline_2.fit(df)\n",
    "df = pipeline_model_2.transform(df)"
   ]
  },
  {
   "cell_type": "code",
   "execution_count": 37,
   "id": "26f7883a-0a96-4987-b842-74ed3baaf635",
   "metadata": {},
   "outputs": [],
   "source": [
    "# drop airline_name, airline_name_index\n",
    "df = df.drop(*[\"airline_name\", \"airline_name_index\"])"
   ]
  },
  {
   "cell_type": "code",
   "execution_count": 38,
   "id": "5737b028-168b-4171-8b6f-c822e49f2bd5",
   "metadata": {},
   "outputs": [
    {
     "name": "stdout",
     "output_type": "stream",
     "text": [
      "+--------------+------------+---------+---------+------------------+---+-----------------------+--------------------------+--------+--------+--------------------+\n",
      "|isBasicEconomy|isRefundable|isNonStop|totalFare|days_before_flight|day|startingAirport_encoded|destinationAirport_encoded|num_legs|All_Same|airline_name_encoded|\n",
      "+--------------+------------+---------+---------+------------------+---+-----------------------+--------------------------+--------+--------+--------------------+\n",
      "|             0|           0|        1|    248.6|                 1| 17|         (15,[1],[1.0])|            (15,[2],[1.0])|       1|       1|      (12,[1],[1.0])|\n",
      "|             0|           0|        1|    248.6|                 1| 17|         (15,[1],[1.0])|            (15,[2],[1.0])|       1|       1|      (12,[1],[1.0])|\n",
      "|             0|           0|        1|    248.6|                 1| 17|         (15,[1],[1.0])|            (15,[2],[1.0])|       1|       1|      (12,[1],[1.0])|\n",
      "|             0|           0|        1|    248.6|                 1| 17|         (15,[1],[1.0])|            (15,[2],[1.0])|       1|       1|      (12,[1],[1.0])|\n",
      "|             0|           0|        1|    248.6|                 1| 17|         (15,[1],[1.0])|            (15,[2],[1.0])|       1|       1|      (12,[1],[1.0])|\n",
      "|             0|           0|        1|    248.6|                 1| 17|         (15,[1],[1.0])|            (15,[2],[1.0])|       1|       1|      (12,[3],[1.0])|\n",
      "|             0|           0|        0|    251.1|                 1| 17|         (15,[1],[1.0])|            (15,[2],[1.0])|       2|       1|      (12,[0],[1.0])|\n",
      "|             0|           0|        0|    251.1|                 1| 17|         (15,[1],[1.0])|            (15,[2],[1.0])|       2|       1|      (12,[0],[1.0])|\n",
      "|             0|           0|        0|    251.1|                 1| 17|         (15,[1],[1.0])|            (15,[2],[1.0])|       2|       1|      (12,[0],[1.0])|\n",
      "|             0|           0|        0|    251.1|                 1| 17|         (15,[1],[1.0])|            (15,[2],[1.0])|       2|       1|      (12,[0],[1.0])|\n",
      "|             0|           0|        0|    252.6|                 1| 17|         (15,[1],[1.0])|            (15,[2],[1.0])|       2|       1|      (12,[2],[1.0])|\n",
      "|             0|           0|        0|    252.6|                 1| 17|         (15,[1],[1.0])|            (15,[2],[1.0])|       2|       1|      (12,[0],[1.0])|\n",
      "|             0|           0|        0|    252.6|                 1| 17|         (15,[1],[1.0])|            (15,[2],[1.0])|       2|       1|      (12,[0],[1.0])|\n",
      "|             0|           0|        0|    252.6|                 1| 17|         (15,[1],[1.0])|            (15,[2],[1.0])|       2|       1|      (12,[0],[1.0])|\n",
      "|             0|           0|        0|    252.6|                 1| 17|         (15,[1],[1.0])|            (15,[2],[1.0])|       2|       1|      (12,[2],[1.0])|\n",
      "|             0|           0|        0|   290.58|                 1| 17|         (15,[1],[1.0])|            (15,[2],[1.0])|       2|       1|      (12,[4],[1.0])|\n",
      "|             0|           0|        1|    300.1|                 1| 17|         (15,[1],[1.0])|            (15,[2],[1.0])|       1|       1|      (12,[0],[1.0])|\n",
      "|             0|           0|        0|   302.11|                 1| 17|         (15,[1],[1.0])|            (15,[2],[1.0])|       2|       1|      (12,[0],[1.0])|\n",
      "|             0|           0|        0|   302.11|                 1| 17|         (15,[1],[1.0])|            (15,[2],[1.0])|       2|       1|      (12,[0],[1.0])|\n",
      "|             0|           0|        0|   302.11|                 1| 17|         (15,[1],[1.0])|            (15,[2],[1.0])|       2|       1|      (12,[0],[1.0])|\n",
      "+--------------+------------+---------+---------+------------------+---+-----------------------+--------------------------+--------+--------+--------------------+\n",
      "only showing top 20 rows\n",
      "\n"
     ]
    }
   ],
   "source": [
    "df.show()"
   ]
  },
  {
   "cell_type": "markdown",
   "id": "977abb31-db4d-4678-b052-f3e455bacf37",
   "metadata": {},
   "source": [
    "## Save the final Data"
   ]
  },
  {
   "cell_type": "code",
   "execution_count": 42,
   "id": "e21f95a6-8978-40dc-b08c-26177755689a",
   "metadata": {},
   "outputs": [],
   "source": [
    "# Where the file should be saved\n",
    "TARGET_PATH = \"../data/itineraries_processed.csv\"\n",
    "TARGET_PATH_PAR = \"../data/itineraries_processed.parquet\""
   ]
  },
  {
   "cell_type": "code",
   "execution_count": 40,
   "id": "c3021438-9860-4dca-83d8-87d06d976aa6",
   "metadata": {},
   "outputs": [
    {
     "name": "stderr",
     "output_type": "stream",
     "text": [
      "                                                                                \r"
     ]
    }
   ],
   "source": [
    "df.toPandas().to_csv(TARGET_PATH, header=True, index=False)"
   ]
  },
  {
   "cell_type": "code",
   "execution_count": 43,
   "id": "245fd664-9898-44cb-a828-213403011ea1",
   "metadata": {},
   "outputs": [
    {
     "name": "stderr",
     "output_type": "stream",
     "text": [
      "                                                                                \r"
     ]
    }
   ],
   "source": [
    "# writing to parquet makes loading the data easier\n",
    "df.write.parquet(TARGET_PATH_PAR)"
   ]
  },
  {
   "cell_type": "code",
   "execution_count": 41,
   "id": "d8fe63a1-645c-4351-a6e1-104c13e0e317",
   "metadata": {},
   "outputs": [
    {
     "name": "stdout",
     "output_type": "stream",
     "text": [
      "root\n",
      " |-- isBasicEconomy: integer (nullable = false)\n",
      " |-- isRefundable: integer (nullable = false)\n",
      " |-- isNonStop: integer (nullable = false)\n",
      " |-- totalFare: double (nullable = true)\n",
      " |-- days_before_flight: integer (nullable = true)\n",
      " |-- day: integer (nullable = true)\n",
      " |-- startingAirport_encoded: vector (nullable = true)\n",
      " |-- destinationAirport_encoded: vector (nullable = true)\n",
      " |-- num_legs: integer (nullable = false)\n",
      " |-- All_Same: integer (nullable = false)\n",
      " |-- airline_name_encoded: vector (nullable = true)\n",
      "\n"
     ]
    }
   ],
   "source": [
    "df.printSchema()"
   ]
  },
  {
   "cell_type": "code",
   "execution_count": null,
   "id": "4c69c46d-4528-4d1f-aa09-ed48894b1389",
   "metadata": {},
   "outputs": [],
   "source": []
  }
 ],
 "metadata": {
  "kernelspec": {
   "display_name": "Python 3 (ipykernel)",
   "language": "python",
   "name": "python3"
  },
  "language_info": {
   "codemirror_mode": {
    "name": "ipython",
    "version": 3
   },
   "file_extension": ".py",
   "mimetype": "text/x-python",
   "name": "python",
   "nbconvert_exporter": "python",
   "pygments_lexer": "ipython3",
   "version": "3.12.1"
  }
 },
 "nbformat": 4,
 "nbformat_minor": 5
}
