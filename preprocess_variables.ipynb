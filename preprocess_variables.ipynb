{
 "cells": [
  {
   "cell_type": "markdown",
   "id": "e5a994ef-1a5a-4901-8caf-f373ed93d751",
   "metadata": {},
   "source": [
    "# Preprocess Data (Milestone 2)"
   ]
  },
  {
   "cell_type": "markdown",
   "id": "e07324ff-5151-4daf-9209-d53bf5dec2fe",
   "metadata": {},
   "source": [
    "---"
   ]
  },
  {
   "cell_type": "markdown",
   "id": "e3e95c35-c982-4690-b450-57cc3ea6f1af",
   "metadata": {},
   "source": [
    "In this notebook, we will edit the data to include only columns that we want. "
   ]
  },
  {
   "cell_type": "markdown",
   "id": "402218af-f624-4489-85b9-9a67f2af19ff",
   "metadata": {},
   "source": [
    "There are two types of variables that we want to keep:\n",
    "- Those which are practical for the user to input when looking up a price prediction\n",
    "- Those which would actually contribute to the price of a flight"
   ]
  },
  {
   "cell_type": "markdown",
   "id": "419c6435-0dcc-4b8f-b6c2-146b8e698d20",
   "metadata": {},
   "source": [
    "---"
   ]
  },
  {
   "cell_type": "markdown",
   "id": "f043b592-70e0-4c63-8a73-83386027bd88",
   "metadata": {},
   "source": [
    "## Data Dictionary Reminder"
   ]
  },
  {
   "cell_type": "markdown",
   "id": "d1a5faef-4eed-4614-ac9d-37813c657af1",
   "metadata": {},
   "source": [
    "below is a reminder of what variables we have, next to each we indicate what we want to do with each column"
   ]
  },
  {
   "cell_type": "markdown",
   "id": "6d702f5e-a702-455b-9906-0a70e3ad0664",
   "metadata": {},
   "source": [
    "- legId: An identifier for the flight. // Not needed\n",
    "- searchDate: The date (YYYY-MM-DD) on which this entry was taken from Expedia. // Change search date and flight date into one variable - days before flight\n",
    "- flightDate: The date (YYYY-MM-DD) of the flight. // Potentially separate this into just the day. Month is meaningless as the data is not even for a full year\n",
    "- startingAirport: Three-character IATA airport code for the initial location. // One hot encoding\n",
    "- destinationAirport: Three-character IATA airport code for the arrival location. // One hot encoding\n",
    "- fareBasisCode: The fare basis code. // Not required\n",
    "- travelDuration: The travel duration in hours and minutes. // Not required\n",
    "- elapsedDays: The number of elapsed days (usually 0). // Not required\n",
    "- isBasicEconomy: Boolean for whether the ticket is for basic economy. // Change into binary\n",
    "- isRefundable: Boolean for whether the ticket is refundable. // Change into binary \n",
    "- isNonStop: Boolean for whether the flight is non-stop. // Change into binary \n",
    "- baseFare: The price of the ticket (in USD). // Not required\n",
    "- totalFare: The price of the ticket (in USD) including taxes and other fees. // No change needed\n",
    "- seatsRemaining: Integer for the number of seats remaining. // Not required\n",
    "- totalTravelDistance: The total travel distance in miles. This data is sometimes missing. // Not required\n",
    "- segmentsDepartureTimeEpochSeconds: String containing the departure time (Unix time) for each leg of the trip. The entries for each of the legs are separated by '||'. // Not required\n",
    "- segmentsDepartureTimeRaw: String containing the departure time (ISO 8601 format: YYYY-MM-DDThh:mm:ss.000±[hh]:00) for each leg of the trip. The entries for each of the legs are separated by '||'. // Not required\n",
    "- segmentsArrivalTimeEpochSeconds: String containing the arrival time (Unix time) for each leg of the trip. The entries for each of the legs are separated by '||'. // Not required\n",
    "- segmentsArrivalTimeRaw: String containing the arrival time (ISO 8601 format: YYYY-MM-DDThh:mm:ss.000±[hh]:00) for each leg of the trip. The entries for each of the legs are separated by '||'. // Not required\n",
    "- segmentsArrivalAirportCode: String containing the IATA airport code for the arrival location for each leg of the trip. The entries for each of the legs are separated by '||'. // Not required\n",
    "- segmentsDepartureAirportCode: String containing the IATA airport code for the departure location for each leg of the trip. The entries for each of the legs are separated by '||'. // Not required\n",
    "- segmentsAirlineName: String containing the name of the airline that services each leg of the trip. The entries for each of the legs are separated by '||'. // Most trips use the same airlines the whole way, drop trips that don't do this and change trips that do into one hot encoding. We can also use this to count how many layovers there are.\n",
    "- segmentsAirlineCode: String containing the two-letter airline code that services each leg of the trip. The entries for each of the legs are separated by '||'. // Not required\n",
    "- segmentsEquipmentDescription: String containing the type of airplane used for each leg of the trip (e.g. \"Airbus A321\" or \"Boeing 737-800\"). The entries for each of the legs are separated by '||'. // Not required\n",
    "- segmentsDurationInSeconds: String containing the duration of the flight (in seconds) for each leg of the trip. The entries for each of the legs are separated by '||'. // Not required\n",
    "- segmentsDistance: String containing the distance traveled (in miles) for each leg of the trip. The entries for each of the legs are separated by '||'. // Not required\n",
    "- segmentsCabinCode: String containing the cabin for each leg of the trip (e.g. \"coach\"). The entries for each of the legs are separated by '||'. // Not required"
   ]
  },
  {
   "cell_type": "markdown",
   "id": "ec30d748-2989-44e4-9020-58197f0c0821",
   "metadata": {},
   "source": [
    "## Load Spark and Data"
   ]
  },
  {
   "cell_type": "code",
   "execution_count": 182,
   "id": "efb444d5-e232-4a68-a390-837922fd9dc3",
   "metadata": {},
   "outputs": [],
   "source": [
    "from itertools import groupby\n",
    "from math import radians, cos, sin, sqrt, atan2\n",
    "\n",
    "from pyspark.sql import SparkSession\n",
    "from pyspark.sql.functions import col, datediff, dayofmonth, when, udf, split, size\n",
    "from pyspark.ml.feature import StringIndexer, OneHotEncoder\n",
    "from pyspark.ml import Pipeline\n",
    "\n",
    "from pyspark.sql.types import IntegerType, StringType, FloatType"
   ]
  },
  {
   "cell_type": "code",
   "execution_count": 183,
   "id": "dbcd0942-a36b-4c84-93e2-fac0cc80d1e7",
   "metadata": {},
   "outputs": [],
   "source": [
    "spark = SparkSession.builder.appName(\"flights\").getOrCreate()\n",
    "\n",
    "# REPLACE WITH DATA FILEPATH\n",
    "DATA_PATH = \"../data/itineraries.csv\"\n",
    "\n",
    "raw_df = spark.read.csv(DATA_PATH, header=True, inferSchema=True)"
   ]
  },
  {
   "cell_type": "markdown",
   "id": "f3fa7afd-e41c-4471-a124-8a0e5389c324",
   "metadata": {},
   "source": [
    "## Drop the Uneccessary Columns"
   ]
  },
  {
   "cell_type": "code",
   "execution_count": 184,
   "id": "5d773818-d621-47ce-8322-f13690baa66d",
   "metadata": {},
   "outputs": [],
   "source": [
    "# added back in \n",
    "# \"segmentsArrivalTimeRaw\", \"segmentsDepartureTimeRaw\""
   ]
  },
  {
   "cell_type": "code",
   "execution_count": 185,
   "id": "526cf67d-c9d8-4547-a009-ecb1c03f706e",
   "metadata": {},
   "outputs": [],
   "source": [
    "cols_to_drop = [\"legId\", \"fareBasisCode\", \"travelDuration\", \"elapsedDays\", \"baseFare\", \"seatsRemaining\", \"totalTravelDistance\",\\\n",
    "                \"segmentsDepartureTimeEpochSeconds\", \"segmentsArrivalTimeEpochSeconds\", \\\n",
    "                \"segmentsArrivalAirportCode\", \"segmentsDepartureAirportCode\",\"segmentsAirlineCode\", \"segmentsEquipmentDescription\", \\\n",
    "                \"segmentsDurationInSeconds\", \"segmentsDistance\", \"segmentsCabinCode\"]"
   ]
  },
  {
   "cell_type": "code",
   "execution_count": 186,
   "id": "8ba82933-640a-4b01-a58b-ec48ed658eaa",
   "metadata": {},
   "outputs": [],
   "source": [
    "# drop cols\n",
    "df = raw_df.drop(*cols_to_drop)"
   ]
  },
  {
   "cell_type": "code",
   "execution_count": 187,
   "id": "2e8f4bc2-4b40-43d7-8561-c6f5cd5138f6",
   "metadata": {},
   "outputs": [
    {
     "name": "stdout",
     "output_type": "stream",
     "text": [
      "+----------+----------+---------------+------------------+--------------+------------+---------+---------+------------------------+----------------------+--------------------+\n",
      "|searchDate|flightDate|startingAirport|destinationAirport|isBasicEconomy|isRefundable|isNonStop|totalFare|segmentsDepartureTimeRaw|segmentsArrivalTimeRaw| segmentsAirlineName|\n",
      "+----------+----------+---------------+------------------+--------------+------------+---------+---------+------------------------+----------------------+--------------------+\n",
      "|2022-04-16|2022-04-17|            ATL|               BOS|         false|       false|     true|    248.6|    2022-04-17T12:57:...|  2022-04-17T15:26:...|               Delta|\n",
      "|2022-04-16|2022-04-17|            ATL|               BOS|         false|       false|     true|    248.6|    2022-04-17T06:30:...|  2022-04-17T09:00:...|               Delta|\n",
      "|2022-04-16|2022-04-17|            ATL|               BOS|         false|       false|     true|    248.6|    2022-04-17T11:35:...|  2022-04-17T14:05:...|               Delta|\n",
      "|2022-04-16|2022-04-17|            ATL|               BOS|         false|       false|     true|    248.6|    2022-04-17T13:59:...|  2022-04-17T16:31:...|               Delta|\n",
      "|2022-04-16|2022-04-17|            ATL|               BOS|         false|       false|     true|    248.6|    2022-04-17T09:59:...|  2022-04-17T12:33:...|               Delta|\n",
      "|2022-04-16|2022-04-17|            ATL|               BOS|         false|       false|     true|    248.6|    2022-04-17T10:45:...|  2022-04-17T13:23:...|     JetBlue Airways|\n",
      "|2022-04-16|2022-04-17|            ATL|               BOS|         false|       false|    false|    251.1|    2022-04-17T08:20:...|  2022-04-17T09:50:...|American Airlines...|\n",
      "|2022-04-16|2022-04-17|            ATL|               BOS|         false|       false|    false|    251.1|    2022-04-17T08:20:...|  2022-04-17T09:50:...|American Airlines...|\n",
      "|2022-04-16|2022-04-17|            ATL|               BOS|         false|       false|    false|    251.1|    2022-04-17T07:00:...|  2022-04-17T08:21:...|American Airlines...|\n",
      "|2022-04-16|2022-04-17|            ATL|               BOS|         false|       false|    false|    251.1|    2022-04-17T07:00:...|  2022-04-17T08:21:...|American Airlines...|\n",
      "|2022-04-16|2022-04-17|            ATL|               BOS|         false|       false|    false|    252.6|    2022-04-17T05:30:...|  2022-04-17T07:18:...|      United||United|\n",
      "|2022-04-16|2022-04-17|            ATL|               BOS|         false|       false|    false|    252.6|    2022-04-17T14:39:...|  2022-04-17T15:54:...|American Airlines...|\n",
      "|2022-04-16|2022-04-17|            ATL|               BOS|         false|       false|    false|    252.6|    2022-04-17T18:00:...|  2022-04-17T19:11:...|American Airlines...|\n",
      "|2022-04-16|2022-04-17|            ATL|               BOS|         false|       false|    false|    252.6|    2022-04-17T14:39:...|  2022-04-17T15:54:...|American Airlines...|\n",
      "|2022-04-16|2022-04-17|            ATL|               BOS|         false|       false|    false|    252.6|    2022-04-17T06:10:...|  2022-04-17T07:20:...|      United||United|\n",
      "|2022-04-16|2022-04-17|            ATL|               BOS|         false|       false|    false|   290.58|    2022-04-17T05:26:...|  2022-04-17T07:20:...|Spirit Airlines||...|\n",
      "|2022-04-16|2022-04-17|            ATL|               BOS|         false|       false|     true|    300.1|    2022-04-17T10:45:...|  2022-04-17T13:23:...|   American Airlines|\n",
      "|2022-04-16|2022-04-17|            ATL|               BOS|         false|       false|    false|   302.11|    2022-04-17T18:15:...|  2022-04-17T19:37:...|American Airlines...|\n",
      "|2022-04-16|2022-04-17|            ATL|               BOS|         false|       false|    false|   302.11|    2022-04-17T11:02:...|  2022-04-17T12:28:...|American Airlines...|\n",
      "|2022-04-16|2022-04-17|            ATL|               BOS|         false|       false|    false|   302.11|    2022-04-17T16:18:...|  2022-04-17T17:26:...|American Airlines...|\n",
      "+----------+----------+---------------+------------------+--------------+------------+---------+---------+------------------------+----------------------+--------------------+\n",
      "only showing top 20 rows\n",
      "\n"
     ]
    }
   ],
   "source": [
    "df.show()"
   ]
  },
  {
   "cell_type": "markdown",
   "id": "386fe086-6d9c-4e1b-b312-e41f2cc87358",
   "metadata": {},
   "source": [
    "## Days before flight Column"
   ]
  },
  {
   "cell_type": "code",
   "execution_count": 188,
   "id": "e38dcd9c-4eb2-4c5b-9847-25248371c1c9",
   "metadata": {},
   "outputs": [],
   "source": [
    "df = df.withColumn(\"days_before_flight\", datediff(col(\"flightDate\"), col(\"searchDate\")))"
   ]
  },
  {
   "cell_type": "markdown",
   "id": "c9f35deb-ad31-4083-a3d0-cccb2f99f08a",
   "metadata": {},
   "source": [
    "## DayofMonth Column"
   ]
  },
  {
   "cell_type": "code",
   "execution_count": 189,
   "id": "efcd6fed-7a29-4479-8f9a-f89f41e4560d",
   "metadata": {},
   "outputs": [],
   "source": [
    "df = df.withColumn(\"day\", dayofmonth(col(\"flightDate\")))"
   ]
  },
  {
   "cell_type": "markdown",
   "id": "50c815be-6f04-4102-b009-dd94ceb623f1",
   "metadata": {},
   "source": [
    "## Drop: searchDay and FlightDay"
   ]
  },
  {
   "cell_type": "code",
   "execution_count": 190,
   "id": "67f1b049-b988-45e3-865e-52bbd2acc3a3",
   "metadata": {},
   "outputs": [],
   "source": [
    "#df = df.drop(*[\"searchDate\", \"flightDate\"])\n",
    "df = df.drop(\"searchDate\")"
   ]
  },
  {
   "cell_type": "code",
   "execution_count": 191,
   "id": "d7c502d7-7c04-4b9e-874d-55ac9a7b66a5",
   "metadata": {},
   "outputs": [
    {
     "name": "stdout",
     "output_type": "stream",
     "text": [
      "+----------+---------------+------------------+--------------+------------+---------+---------+------------------------+----------------------+--------------------+------------------+---+\n",
      "|flightDate|startingAirport|destinationAirport|isBasicEconomy|isRefundable|isNonStop|totalFare|segmentsDepartureTimeRaw|segmentsArrivalTimeRaw| segmentsAirlineName|days_before_flight|day|\n",
      "+----------+---------------+------------------+--------------+------------+---------+---------+------------------------+----------------------+--------------------+------------------+---+\n",
      "|2022-04-17|            ATL|               BOS|         false|       false|     true|    248.6|    2022-04-17T12:57:...|  2022-04-17T15:26:...|               Delta|                 1| 17|\n",
      "|2022-04-17|            ATL|               BOS|         false|       false|     true|    248.6|    2022-04-17T06:30:...|  2022-04-17T09:00:...|               Delta|                 1| 17|\n",
      "|2022-04-17|            ATL|               BOS|         false|       false|     true|    248.6|    2022-04-17T11:35:...|  2022-04-17T14:05:...|               Delta|                 1| 17|\n",
      "|2022-04-17|            ATL|               BOS|         false|       false|     true|    248.6|    2022-04-17T13:59:...|  2022-04-17T16:31:...|               Delta|                 1| 17|\n",
      "|2022-04-17|            ATL|               BOS|         false|       false|     true|    248.6|    2022-04-17T09:59:...|  2022-04-17T12:33:...|               Delta|                 1| 17|\n",
      "|2022-04-17|            ATL|               BOS|         false|       false|     true|    248.6|    2022-04-17T10:45:...|  2022-04-17T13:23:...|     JetBlue Airways|                 1| 17|\n",
      "|2022-04-17|            ATL|               BOS|         false|       false|    false|    251.1|    2022-04-17T08:20:...|  2022-04-17T09:50:...|American Airlines...|                 1| 17|\n",
      "|2022-04-17|            ATL|               BOS|         false|       false|    false|    251.1|    2022-04-17T08:20:...|  2022-04-17T09:50:...|American Airlines...|                 1| 17|\n",
      "|2022-04-17|            ATL|               BOS|         false|       false|    false|    251.1|    2022-04-17T07:00:...|  2022-04-17T08:21:...|American Airlines...|                 1| 17|\n",
      "|2022-04-17|            ATL|               BOS|         false|       false|    false|    251.1|    2022-04-17T07:00:...|  2022-04-17T08:21:...|American Airlines...|                 1| 17|\n",
      "|2022-04-17|            ATL|               BOS|         false|       false|    false|    252.6|    2022-04-17T05:30:...|  2022-04-17T07:18:...|      United||United|                 1| 17|\n",
      "|2022-04-17|            ATL|               BOS|         false|       false|    false|    252.6|    2022-04-17T14:39:...|  2022-04-17T15:54:...|American Airlines...|                 1| 17|\n",
      "|2022-04-17|            ATL|               BOS|         false|       false|    false|    252.6|    2022-04-17T18:00:...|  2022-04-17T19:11:...|American Airlines...|                 1| 17|\n",
      "|2022-04-17|            ATL|               BOS|         false|       false|    false|    252.6|    2022-04-17T14:39:...|  2022-04-17T15:54:...|American Airlines...|                 1| 17|\n",
      "|2022-04-17|            ATL|               BOS|         false|       false|    false|    252.6|    2022-04-17T06:10:...|  2022-04-17T07:20:...|      United||United|                 1| 17|\n",
      "|2022-04-17|            ATL|               BOS|         false|       false|    false|   290.58|    2022-04-17T05:26:...|  2022-04-17T07:20:...|Spirit Airlines||...|                 1| 17|\n",
      "|2022-04-17|            ATL|               BOS|         false|       false|     true|    300.1|    2022-04-17T10:45:...|  2022-04-17T13:23:...|   American Airlines|                 1| 17|\n",
      "|2022-04-17|            ATL|               BOS|         false|       false|    false|   302.11|    2022-04-17T18:15:...|  2022-04-17T19:37:...|American Airlines...|                 1| 17|\n",
      "|2022-04-17|            ATL|               BOS|         false|       false|    false|   302.11|    2022-04-17T11:02:...|  2022-04-17T12:28:...|American Airlines...|                 1| 17|\n",
      "|2022-04-17|            ATL|               BOS|         false|       false|    false|   302.11|    2022-04-17T16:18:...|  2022-04-17T17:26:...|American Airlines...|                 1| 17|\n",
      "+----------+---------------+------------------+--------------+------------+---------+---------+------------------------+----------------------+--------------------+------------------+---+\n",
      "only showing top 20 rows\n",
      "\n"
     ]
    }
   ],
   "source": [
    "df.show()"
   ]
  },
  {
   "cell_type": "markdown",
   "id": "501df872-a87d-4cc6-9f57-8a8d366e0fd1",
   "metadata": {},
   "source": [
    "## One Hot Encode Starting and Destination Airport"
   ]
  },
  {
   "cell_type": "code",
   "execution_count": 192,
   "id": "e7e7048e-1f9c-438f-83b9-15d079bb105f",
   "metadata": {},
   "outputs": [],
   "source": [
    "# string indexers\n",
    "string_indexer = StringIndexer(inputCol=\"startingAirport\", outputCol=\"startingAirport_index\")\n",
    "string_indexer_2 = StringIndexer(inputCol=\"destinationAirport\", outputCol=\"destinationAirport_index\")\n",
    "\n",
    "# encoders\n",
    "encoder = OneHotEncoder(inputCol=\"startingAirport_index\", outputCol=\"startingAirport_encoded\")\n",
    "encoder_2 = OneHotEncoder(inputCol=\"destinationAirport_index\", outputCol=\"destinationAirport_encoded\")\n",
    "\n",
    "# pipeline\n",
    "pipeline = Pipeline(stages=[string_indexer, string_indexer_2, encoder, encoder_2])\n",
    "pipeline_model = pipeline.fit(df)\n",
    "df = pipeline_model.transform(df)\n"
   ]
  },
  {
   "cell_type": "markdown",
   "id": "d66e0330-455c-4b32-a552-2ffb0312def4",
   "metadata": {},
   "source": [
    "## Drop: startingAirport, destinationAirport, startingAirport_index, destinationAirport_index"
   ]
  },
  {
   "cell_type": "code",
   "execution_count": 193,
   "id": "10c5b3ad-9e0b-4245-92f0-e5fb17b16150",
   "metadata": {},
   "outputs": [],
   "source": [
    "\"\"\"\n",
    "df = df.drop(*[\"startingAirport\", \"destinationAirport\", \"startingAirport_index\", \"destinationAirport_index\"])\n",
    "\"\"\"\n",
    "df = df.drop(*[\"startingAirport_index\", \"destinationAirport_index\"])"
   ]
  },
  {
   "cell_type": "markdown",
   "id": "716d193f-1c64-4118-b1b3-8bcacf95f972",
   "metadata": {},
   "source": [
    "## Convert Boolean Columns into Binary"
   ]
  },
  {
   "cell_type": "code",
   "execution_count": 194,
   "id": "2644363b-404d-4ecf-a4cb-2dc9a928798f",
   "metadata": {},
   "outputs": [],
   "source": [
    "bool_columns = [\"isBasicEconomy\", \"isRefundable\", \"isNonStop\"]"
   ]
  },
  {
   "cell_type": "code",
   "execution_count": 195,
   "id": "9ee1befa-abf9-4c47-a263-e9013c772741",
   "metadata": {},
   "outputs": [],
   "source": [
    "for col_name in bool_columns:\n",
    "    df = df.withColumn(col_name, when(col(col_name), 1).otherwise(0))"
   ]
  },
  {
   "cell_type": "code",
   "execution_count": 196,
   "id": "a4c8f540-2654-4a05-b390-d74523aa2c11",
   "metadata": {},
   "outputs": [
    {
     "name": "stdout",
     "output_type": "stream",
     "text": [
      "+----------+---------------+------------------+--------------+------------+---------+---------+------------------------+----------------------+--------------------+------------------+---+-----------------------+--------------------------+\n",
      "|flightDate|startingAirport|destinationAirport|isBasicEconomy|isRefundable|isNonStop|totalFare|segmentsDepartureTimeRaw|segmentsArrivalTimeRaw| segmentsAirlineName|days_before_flight|day|startingAirport_encoded|destinationAirport_encoded|\n",
      "+----------+---------------+------------------+--------------+------------+---------+---------+------------------------+----------------------+--------------------+------------------+---+-----------------------+--------------------------+\n",
      "|2022-04-17|            ATL|               BOS|             0|           0|        1|    248.6|    2022-04-17T12:57:...|  2022-04-17T15:26:...|               Delta|                 1| 17|         (15,[1],[1.0])|            (15,[2],[1.0])|\n",
      "|2022-04-17|            ATL|               BOS|             0|           0|        1|    248.6|    2022-04-17T06:30:...|  2022-04-17T09:00:...|               Delta|                 1| 17|         (15,[1],[1.0])|            (15,[2],[1.0])|\n",
      "|2022-04-17|            ATL|               BOS|             0|           0|        1|    248.6|    2022-04-17T11:35:...|  2022-04-17T14:05:...|               Delta|                 1| 17|         (15,[1],[1.0])|            (15,[2],[1.0])|\n",
      "|2022-04-17|            ATL|               BOS|             0|           0|        1|    248.6|    2022-04-17T13:59:...|  2022-04-17T16:31:...|               Delta|                 1| 17|         (15,[1],[1.0])|            (15,[2],[1.0])|\n",
      "|2022-04-17|            ATL|               BOS|             0|           0|        1|    248.6|    2022-04-17T09:59:...|  2022-04-17T12:33:...|               Delta|                 1| 17|         (15,[1],[1.0])|            (15,[2],[1.0])|\n",
      "|2022-04-17|            ATL|               BOS|             0|           0|        1|    248.6|    2022-04-17T10:45:...|  2022-04-17T13:23:...|     JetBlue Airways|                 1| 17|         (15,[1],[1.0])|            (15,[2],[1.0])|\n",
      "|2022-04-17|            ATL|               BOS|             0|           0|        0|    251.1|    2022-04-17T08:20:...|  2022-04-17T09:50:...|American Airlines...|                 1| 17|         (15,[1],[1.0])|            (15,[2],[1.0])|\n",
      "|2022-04-17|            ATL|               BOS|             0|           0|        0|    251.1|    2022-04-17T08:20:...|  2022-04-17T09:50:...|American Airlines...|                 1| 17|         (15,[1],[1.0])|            (15,[2],[1.0])|\n",
      "|2022-04-17|            ATL|               BOS|             0|           0|        0|    251.1|    2022-04-17T07:00:...|  2022-04-17T08:21:...|American Airlines...|                 1| 17|         (15,[1],[1.0])|            (15,[2],[1.0])|\n",
      "|2022-04-17|            ATL|               BOS|             0|           0|        0|    251.1|    2022-04-17T07:00:...|  2022-04-17T08:21:...|American Airlines...|                 1| 17|         (15,[1],[1.0])|            (15,[2],[1.0])|\n",
      "|2022-04-17|            ATL|               BOS|             0|           0|        0|    252.6|    2022-04-17T05:30:...|  2022-04-17T07:18:...|      United||United|                 1| 17|         (15,[1],[1.0])|            (15,[2],[1.0])|\n",
      "|2022-04-17|            ATL|               BOS|             0|           0|        0|    252.6|    2022-04-17T14:39:...|  2022-04-17T15:54:...|American Airlines...|                 1| 17|         (15,[1],[1.0])|            (15,[2],[1.0])|\n",
      "|2022-04-17|            ATL|               BOS|             0|           0|        0|    252.6|    2022-04-17T18:00:...|  2022-04-17T19:11:...|American Airlines...|                 1| 17|         (15,[1],[1.0])|            (15,[2],[1.0])|\n",
      "|2022-04-17|            ATL|               BOS|             0|           0|        0|    252.6|    2022-04-17T14:39:...|  2022-04-17T15:54:...|American Airlines...|                 1| 17|         (15,[1],[1.0])|            (15,[2],[1.0])|\n",
      "|2022-04-17|            ATL|               BOS|             0|           0|        0|    252.6|    2022-04-17T06:10:...|  2022-04-17T07:20:...|      United||United|                 1| 17|         (15,[1],[1.0])|            (15,[2],[1.0])|\n",
      "|2022-04-17|            ATL|               BOS|             0|           0|        0|   290.58|    2022-04-17T05:26:...|  2022-04-17T07:20:...|Spirit Airlines||...|                 1| 17|         (15,[1],[1.0])|            (15,[2],[1.0])|\n",
      "|2022-04-17|            ATL|               BOS|             0|           0|        1|    300.1|    2022-04-17T10:45:...|  2022-04-17T13:23:...|   American Airlines|                 1| 17|         (15,[1],[1.0])|            (15,[2],[1.0])|\n",
      "|2022-04-17|            ATL|               BOS|             0|           0|        0|   302.11|    2022-04-17T18:15:...|  2022-04-17T19:37:...|American Airlines...|                 1| 17|         (15,[1],[1.0])|            (15,[2],[1.0])|\n",
      "|2022-04-17|            ATL|               BOS|             0|           0|        0|   302.11|    2022-04-17T11:02:...|  2022-04-17T12:28:...|American Airlines...|                 1| 17|         (15,[1],[1.0])|            (15,[2],[1.0])|\n",
      "|2022-04-17|            ATL|               BOS|             0|           0|        0|   302.11|    2022-04-17T16:18:...|  2022-04-17T17:26:...|American Airlines...|                 1| 17|         (15,[1],[1.0])|            (15,[2],[1.0])|\n",
      "+----------+---------------+------------------+--------------+------------+---------+---------+------------------------+----------------------+--------------------+------------------+---+-----------------------+--------------------------+\n",
      "only showing top 20 rows\n",
      "\n"
     ]
    }
   ],
   "source": [
    "df.show()"
   ]
  },
  {
   "cell_type": "markdown",
   "id": "5807c7d0-876a-4af8-95b5-4e2cecfdd265",
   "metadata": {},
   "source": [
    "## Create Number of Flights and Airline Name\n",
    "## TODO: FIX THIS"
   ]
  },
  {
   "cell_type": "code",
   "execution_count": 197,
   "id": "c7abb4bf-6bf9-4a66-9633-4274ee41d8f3",
   "metadata": {},
   "outputs": [],
   "source": [
    "# THESE UDF FUNCTIONS DON'T SEEM TO WORK, IGNORE FOR NOW\n",
    "\n",
    "def all_equal(iterable):\n",
    "    g = groupby(iterable)\n",
    "    return next(g, True) and not next(g, False)\n",
    "\n",
    "# get airline name\n",
    "def get_airline(segmentsAirlineName):\n",
    "    splits = segmentsAirlineName.split(\"||\")\n",
    "    if all_equal(splits):\n",
    "        return splits[0]\n",
    "    else:\n",
    "        return \"Multi-Airline\"\n",
    "\n",
    "# get number of splits\n",
    "def get_nsplits(segmentsAirlineName):\n",
    "    splits = segmentsAirlineName.split(\"||\")\n",
    "    return len(splits)\n",
    "\n",
    "# register as udf \n",
    "airline_udf = udf(get_airline)\n",
    "nsplit_udf = udf(get_nsplits, IntegerType())"
   ]
  },
  {
   "cell_type": "code",
   "execution_count": 198,
   "id": "042d05f1-54b5-44ed-a418-76e4ce71cfd4",
   "metadata": {},
   "outputs": [],
   "source": [
    "# convert segments airline name into a list\n",
    "df = df.withColumn(\"segmentsAirlineName\", split(col(\"segmentsAirlineName\"), r'\\|\\|'))\n",
    "\n",
    "# count the number of legs in the trip\n",
    "df = df.withColumn(\"num_legs\", size(col(\"segmentsAirlineName\")))\n",
    "\n",
    "# check whether all the flights in the list are the same\n",
    "df = df.withColumn(\"All_Same\", col(\"segmentsAirlineName\")[0] == col(\"segmentsAirlineName\")[1])\n",
    "\n",
    "# change the null results to true (for flights with only one leg)\n",
    "df = df.withColumn(\"All_Same\", when(col(\"All_Same\").isNull(), True).otherwise(col(\"All_Same\")))\n",
    "\n",
    "# get the name of the airline\n",
    "df = df.withColumn(\"airline_name\", col(\"segmentsAirlineName\").getItem(0))\n",
    "\n",
    "# filter out unneccesary columns\n",
    "df = df.filter(col(\"All_Same\") != False)"
   ]
  },
  {
   "cell_type": "code",
   "execution_count": 199,
   "id": "2fb2ab69-b663-4f16-8a4a-3bc5a0bd4568",
   "metadata": {},
   "outputs": [],
   "source": [
    "# drop segmentsAirlineName\n",
    "df = df.drop(\"segmentsAirlineName\")"
   ]
  },
  {
   "cell_type": "code",
   "execution_count": 200,
   "id": "8ba2bf20-b65b-4a13-a0f6-82f86a81490a",
   "metadata": {},
   "outputs": [],
   "source": [
    "# convert all_same into bool\n",
    "df = df.withColumn(\"All_Same\", when(col(\"All_Same\"), 1).otherwise(0))"
   ]
  },
  {
   "cell_type": "code",
   "execution_count": 201,
   "id": "b7e5eb9f-bd36-4abd-9419-84a8ecd84166",
   "metadata": {},
   "outputs": [],
   "source": [
    "# convert airline_name into one hot encoded\n",
    "string_indexer_3 = StringIndexer(inputCol=\"airline_name\", outputCol=\"airline_name_index\")\n",
    "encoder_3 = OneHotEncoder(inputCol=\"airline_name_index\", outputCol=\"airline_name_encoded\")\n",
    "pipeline_2 = Pipeline(stages=[string_indexer_3, encoder_3])\n",
    "\n",
    "pipeline_model_2 = pipeline_2.fit(df)\n",
    "df = pipeline_model_2.transform(df)"
   ]
  },
  {
   "cell_type": "code",
   "execution_count": 202,
   "id": "26f7883a-0a96-4987-b842-74ed3baaf635",
   "metadata": {},
   "outputs": [],
   "source": [
    "# drop airline_name, airline_name_index\n",
    "df = df.drop(*[\"airline_name\", \"airline_name_index\"])"
   ]
  },
  {
   "cell_type": "code",
   "execution_count": 203,
   "id": "5737b028-168b-4171-8b6f-c822e49f2bd5",
   "metadata": {},
   "outputs": [
    {
     "name": "stdout",
     "output_type": "stream",
     "text": [
      "+----------+---------------+------------------+--------------+------------+---------+---------+------------------------+----------------------+------------------+---+-----------------------+--------------------------+--------+--------+--------------------+\n",
      "|flightDate|startingAirport|destinationAirport|isBasicEconomy|isRefundable|isNonStop|totalFare|segmentsDepartureTimeRaw|segmentsArrivalTimeRaw|days_before_flight|day|startingAirport_encoded|destinationAirport_encoded|num_legs|All_Same|airline_name_encoded|\n",
      "+----------+---------------+------------------+--------------+------------+---------+---------+------------------------+----------------------+------------------+---+-----------------------+--------------------------+--------+--------+--------------------+\n",
      "|2022-04-17|            ATL|               BOS|             0|           0|        1|    248.6|    2022-04-17T12:57:...|  2022-04-17T15:26:...|                 1| 17|         (15,[1],[1.0])|            (15,[2],[1.0])|       1|       1|      (12,[1],[1.0])|\n",
      "|2022-04-17|            ATL|               BOS|             0|           0|        1|    248.6|    2022-04-17T06:30:...|  2022-04-17T09:00:...|                 1| 17|         (15,[1],[1.0])|            (15,[2],[1.0])|       1|       1|      (12,[1],[1.0])|\n",
      "|2022-04-17|            ATL|               BOS|             0|           0|        1|    248.6|    2022-04-17T11:35:...|  2022-04-17T14:05:...|                 1| 17|         (15,[1],[1.0])|            (15,[2],[1.0])|       1|       1|      (12,[1],[1.0])|\n",
      "|2022-04-17|            ATL|               BOS|             0|           0|        1|    248.6|    2022-04-17T13:59:...|  2022-04-17T16:31:...|                 1| 17|         (15,[1],[1.0])|            (15,[2],[1.0])|       1|       1|      (12,[1],[1.0])|\n",
      "|2022-04-17|            ATL|               BOS|             0|           0|        1|    248.6|    2022-04-17T09:59:...|  2022-04-17T12:33:...|                 1| 17|         (15,[1],[1.0])|            (15,[2],[1.0])|       1|       1|      (12,[1],[1.0])|\n",
      "|2022-04-17|            ATL|               BOS|             0|           0|        1|    248.6|    2022-04-17T10:45:...|  2022-04-17T13:23:...|                 1| 17|         (15,[1],[1.0])|            (15,[2],[1.0])|       1|       1|      (12,[3],[1.0])|\n",
      "|2022-04-17|            ATL|               BOS|             0|           0|        0|    251.1|    2022-04-17T08:20:...|  2022-04-17T09:50:...|                 1| 17|         (15,[1],[1.0])|            (15,[2],[1.0])|       2|       1|      (12,[0],[1.0])|\n",
      "|2022-04-17|            ATL|               BOS|             0|           0|        0|    251.1|    2022-04-17T08:20:...|  2022-04-17T09:50:...|                 1| 17|         (15,[1],[1.0])|            (15,[2],[1.0])|       2|       1|      (12,[0],[1.0])|\n",
      "|2022-04-17|            ATL|               BOS|             0|           0|        0|    251.1|    2022-04-17T07:00:...|  2022-04-17T08:21:...|                 1| 17|         (15,[1],[1.0])|            (15,[2],[1.0])|       2|       1|      (12,[0],[1.0])|\n",
      "|2022-04-17|            ATL|               BOS|             0|           0|        0|    251.1|    2022-04-17T07:00:...|  2022-04-17T08:21:...|                 1| 17|         (15,[1],[1.0])|            (15,[2],[1.0])|       2|       1|      (12,[0],[1.0])|\n",
      "|2022-04-17|            ATL|               BOS|             0|           0|        0|    252.6|    2022-04-17T05:30:...|  2022-04-17T07:18:...|                 1| 17|         (15,[1],[1.0])|            (15,[2],[1.0])|       2|       1|      (12,[2],[1.0])|\n",
      "|2022-04-17|            ATL|               BOS|             0|           0|        0|    252.6|    2022-04-17T14:39:...|  2022-04-17T15:54:...|                 1| 17|         (15,[1],[1.0])|            (15,[2],[1.0])|       2|       1|      (12,[0],[1.0])|\n",
      "|2022-04-17|            ATL|               BOS|             0|           0|        0|    252.6|    2022-04-17T18:00:...|  2022-04-17T19:11:...|                 1| 17|         (15,[1],[1.0])|            (15,[2],[1.0])|       2|       1|      (12,[0],[1.0])|\n",
      "|2022-04-17|            ATL|               BOS|             0|           0|        0|    252.6|    2022-04-17T14:39:...|  2022-04-17T15:54:...|                 1| 17|         (15,[1],[1.0])|            (15,[2],[1.0])|       2|       1|      (12,[0],[1.0])|\n",
      "|2022-04-17|            ATL|               BOS|             0|           0|        0|    252.6|    2022-04-17T06:10:...|  2022-04-17T07:20:...|                 1| 17|         (15,[1],[1.0])|            (15,[2],[1.0])|       2|       1|      (12,[2],[1.0])|\n",
      "|2022-04-17|            ATL|               BOS|             0|           0|        0|   290.58|    2022-04-17T05:26:...|  2022-04-17T07:20:...|                 1| 17|         (15,[1],[1.0])|            (15,[2],[1.0])|       2|       1|      (12,[4],[1.0])|\n",
      "|2022-04-17|            ATL|               BOS|             0|           0|        1|    300.1|    2022-04-17T10:45:...|  2022-04-17T13:23:...|                 1| 17|         (15,[1],[1.0])|            (15,[2],[1.0])|       1|       1|      (12,[0],[1.0])|\n",
      "|2022-04-17|            ATL|               BOS|             0|           0|        0|   302.11|    2022-04-17T18:15:...|  2022-04-17T19:37:...|                 1| 17|         (15,[1],[1.0])|            (15,[2],[1.0])|       2|       1|      (12,[0],[1.0])|\n",
      "|2022-04-17|            ATL|               BOS|             0|           0|        0|   302.11|    2022-04-17T11:02:...|  2022-04-17T12:28:...|                 1| 17|         (15,[1],[1.0])|            (15,[2],[1.0])|       2|       1|      (12,[0],[1.0])|\n",
      "|2022-04-17|            ATL|               BOS|             0|           0|        0|   302.11|    2022-04-17T16:18:...|  2022-04-17T17:26:...|                 1| 17|         (15,[1],[1.0])|            (15,[2],[1.0])|       2|       1|      (12,[0],[1.0])|\n",
      "+----------+---------------+------------------+--------------+------------+---------+---------+------------------------+----------------------+------------------+---+-----------------------+--------------------------+--------+--------+--------------------+\n",
      "only showing top 20 rows\n",
      "\n"
     ]
    }
   ],
   "source": [
    "df.show()"
   ]
  },
  {
   "cell_type": "markdown",
   "id": "ceb0737a-18f3-4a88-94be-e151bd5b74f3",
   "metadata": {},
   "source": [
    "# Feature Engineering (Milestone 3)"
   ]
  },
  {
   "cell_type": "markdown",
   "id": "5fbf51bc-9c9c-484b-8dbe-a082121362fd",
   "metadata": {},
   "source": [
    "## Distances instead of or in addition to One Hot Encoding Airport codes"
   ]
  },
  {
   "cell_type": "markdown",
   "id": "26bac6c7-fe00-48dd-b930-6a374dd48e7e",
   "metadata": {},
   "source": [
    "Previously, we used one hot encoding to encode the beginning and ending airports. \n",
    "\n",
    "This is not ideal because not only does it require the model to learn the relationships between many different flight paths, but it does not represent one very important factor that impacts the flight of prices - distance"
   ]
  },
  {
   "cell_type": "code",
   "execution_count": 205,
   "id": "54a7df2b-8f1e-4da2-83a1-35a1bc065020",
   "metadata": {},
   "outputs": [],
   "source": [
    "# Approximate coordinates of the airports (latitude, longitude)\n",
    "airport_coords = {\n",
    "    'ATL': (33.6367, -84.4281),\n",
    "    'DFW': (32.8968, -97.0380),\n",
    "    'DEN': (39.8561, -104.6737),\n",
    "    'ORD': (41.9742, -87.9073),\n",
    "    'LAX': (33.9416, -118.4085),\n",
    "    'CLT': (35.2140, -80.9431),\n",
    "    'MIA': (25.7959, -80.2870),\n",
    "    'JFK': (40.6413, -73.7781),\n",
    "    'EWR': (40.6895, -74.1745),\n",
    "    'SFO': (37.6188, -122.375),\n",
    "    'DTW': (42.2124, -83.3534),\n",
    "    'BOS': (42.3656, -71.0096),\n",
    "    'PHL': (39.8719, -75.2411),\n",
    "    'LGA': (40.7769, -73.8740),\n",
    "    'IAD': (38.9531, -77.4565),\n",
    "    'OAK': (37.7213, -122.221),\n",
    "}\n",
    "\n",
    "def haversine(lat1, lon1, lat2, lon2):\n",
    "    # Convert latitude and longitude from degrees to radians\n",
    "    lat1, lon1, lat2, lon2 = map(radians, [lat1, lon1, lat2, lon2])\n",
    "\n",
    "    # Haversine formula\n",
    "    dlat = lat2 - lat1\n",
    "    dlon = lon2 - lon1\n",
    "    a = sin(dlat/2)**2 + cos(lat1) * cos(lat2) * sin(dlon/2)**2\n",
    "    c = 2 * atan2(sqrt(a), sqrt(1-a))\n",
    "    R = 6371 # Radius of Earth in kilometers\n",
    "    distance = R * c\n",
    "    return distance\n",
    "\n",
    "# Calculate the distance for each pair and store it in a dictionary\n",
    "distances = {}\n",
    "for airport1 in airport_coords:\n",
    "    for airport2 in airport_coords:\n",
    "        if airport1 != airport2:\n",
    "            coord1 = airport_coords[airport1]\n",
    "            coord2 = airport_coords[airport2]\n",
    "            distance = haversine(coord1[0], coord1[1], coord2[0], coord2[1])\n",
    "            key1 = f\"{airport1}-{airport2}\"\n",
    "            key2 = f\"{airport2}-{airport1}\"\n",
    "            distances[key1] = distance\n",
    "            distances[key2] = distance\n",
    "\n",
    "# Save distances between start and ending locations in a dictionary\n",
    "dist_dict = {key: distances[key] for key in list(distances)}"
   ]
  },
  {
   "cell_type": "code",
   "execution_count": 206,
   "id": "c862420d-5f79-445e-a715-991459917aea",
   "metadata": {},
   "outputs": [],
   "source": [
    "from pyspark.sql.functions import concat_ws"
   ]
  },
  {
   "cell_type": "code",
   "execution_count": 207,
   "id": "21191cce-c12c-42e7-9c1b-99ad0ac2e744",
   "metadata": {},
   "outputs": [],
   "source": [
    "df = df.withColumn(\"route\", concat_ws(\"-\",col(\"startingAirport\"),col(\"destinationAirport\")))"
   ]
  },
  {
   "cell_type": "code",
   "execution_count": 208,
   "id": "311c191a-ffca-4b60-97ae-dbb23f29059f",
   "metadata": {},
   "outputs": [],
   "source": [
    "def get_dist(val):\n",
    "    # Return the mapped value if it exists, else return the original value\n",
    "    return dist_dict.get(val, val)\n",
    "\n",
    "# instantiate the udf\n",
    "get_dist_udf = udf(get_dist, FloatType())"
   ]
  },
  {
   "cell_type": "code",
   "execution_count": 209,
   "id": "3c4a7df8-0615-460d-b16d-42e230b71a3b",
   "metadata": {
    "scrolled": true
   },
   "outputs": [
    {
     "name": "stdout",
     "output_type": "stream",
     "text": [
      "+----------+---------------+------------------+--------------+------------+---------+---------+------------------------+----------------------+------------------+---+-----------------------+--------------------------+--------+--------+--------------------+-------+--------+\n",
      "|flightDate|startingAirport|destinationAirport|isBasicEconomy|isRefundable|isNonStop|totalFare|segmentsDepartureTimeRaw|segmentsArrivalTimeRaw|days_before_flight|day|startingAirport_encoded|destinationAirport_encoded|num_legs|All_Same|airline_name_encoded|  route|distance|\n",
      "+----------+---------------+------------------+--------------+------------+---------+---------+------------------------+----------------------+------------------+---+-----------------------+--------------------------+--------+--------+--------------------+-------+--------+\n",
      "|2022-04-17|            ATL|               BOS|             0|           0|        1|    248.6|    2022-04-17T12:57:...|  2022-04-17T15:26:...|                 1| 17|         (15,[1],[1.0])|            (15,[2],[1.0])|       1|       1|      (12,[1],[1.0])|ATL-BOS|1521.342|\n",
      "|2022-04-17|            ATL|               BOS|             0|           0|        1|    248.6|    2022-04-17T06:30:...|  2022-04-17T09:00:...|                 1| 17|         (15,[1],[1.0])|            (15,[2],[1.0])|       1|       1|      (12,[1],[1.0])|ATL-BOS|1521.342|\n",
      "|2022-04-17|            ATL|               BOS|             0|           0|        1|    248.6|    2022-04-17T11:35:...|  2022-04-17T14:05:...|                 1| 17|         (15,[1],[1.0])|            (15,[2],[1.0])|       1|       1|      (12,[1],[1.0])|ATL-BOS|1521.342|\n",
      "|2022-04-17|            ATL|               BOS|             0|           0|        1|    248.6|    2022-04-17T13:59:...|  2022-04-17T16:31:...|                 1| 17|         (15,[1],[1.0])|            (15,[2],[1.0])|       1|       1|      (12,[1],[1.0])|ATL-BOS|1521.342|\n",
      "|2022-04-17|            ATL|               BOS|             0|           0|        1|    248.6|    2022-04-17T09:59:...|  2022-04-17T12:33:...|                 1| 17|         (15,[1],[1.0])|            (15,[2],[1.0])|       1|       1|      (12,[1],[1.0])|ATL-BOS|1521.342|\n",
      "|2022-04-17|            ATL|               BOS|             0|           0|        1|    248.6|    2022-04-17T10:45:...|  2022-04-17T13:23:...|                 1| 17|         (15,[1],[1.0])|            (15,[2],[1.0])|       1|       1|      (12,[3],[1.0])|ATL-BOS|1521.342|\n",
      "|2022-04-17|            ATL|               BOS|             0|           0|        0|    251.1|    2022-04-17T08:20:...|  2022-04-17T09:50:...|                 1| 17|         (15,[1],[1.0])|            (15,[2],[1.0])|       2|       1|      (12,[0],[1.0])|ATL-BOS|1521.342|\n",
      "|2022-04-17|            ATL|               BOS|             0|           0|        0|    251.1|    2022-04-17T08:20:...|  2022-04-17T09:50:...|                 1| 17|         (15,[1],[1.0])|            (15,[2],[1.0])|       2|       1|      (12,[0],[1.0])|ATL-BOS|1521.342|\n",
      "|2022-04-17|            ATL|               BOS|             0|           0|        0|    251.1|    2022-04-17T07:00:...|  2022-04-17T08:21:...|                 1| 17|         (15,[1],[1.0])|            (15,[2],[1.0])|       2|       1|      (12,[0],[1.0])|ATL-BOS|1521.342|\n",
      "|2022-04-17|            ATL|               BOS|             0|           0|        0|    251.1|    2022-04-17T07:00:...|  2022-04-17T08:21:...|                 1| 17|         (15,[1],[1.0])|            (15,[2],[1.0])|       2|       1|      (12,[0],[1.0])|ATL-BOS|1521.342|\n",
      "|2022-04-17|            ATL|               BOS|             0|           0|        0|    252.6|    2022-04-17T05:30:...|  2022-04-17T07:18:...|                 1| 17|         (15,[1],[1.0])|            (15,[2],[1.0])|       2|       1|      (12,[2],[1.0])|ATL-BOS|1521.342|\n",
      "|2022-04-17|            ATL|               BOS|             0|           0|        0|    252.6|    2022-04-17T14:39:...|  2022-04-17T15:54:...|                 1| 17|         (15,[1],[1.0])|            (15,[2],[1.0])|       2|       1|      (12,[0],[1.0])|ATL-BOS|1521.342|\n",
      "|2022-04-17|            ATL|               BOS|             0|           0|        0|    252.6|    2022-04-17T18:00:...|  2022-04-17T19:11:...|                 1| 17|         (15,[1],[1.0])|            (15,[2],[1.0])|       2|       1|      (12,[0],[1.0])|ATL-BOS|1521.342|\n",
      "|2022-04-17|            ATL|               BOS|             0|           0|        0|    252.6|    2022-04-17T14:39:...|  2022-04-17T15:54:...|                 1| 17|         (15,[1],[1.0])|            (15,[2],[1.0])|       2|       1|      (12,[0],[1.0])|ATL-BOS|1521.342|\n",
      "|2022-04-17|            ATL|               BOS|             0|           0|        0|    252.6|    2022-04-17T06:10:...|  2022-04-17T07:20:...|                 1| 17|         (15,[1],[1.0])|            (15,[2],[1.0])|       2|       1|      (12,[2],[1.0])|ATL-BOS|1521.342|\n",
      "|2022-04-17|            ATL|               BOS|             0|           0|        0|   290.58|    2022-04-17T05:26:...|  2022-04-17T07:20:...|                 1| 17|         (15,[1],[1.0])|            (15,[2],[1.0])|       2|       1|      (12,[4],[1.0])|ATL-BOS|1521.342|\n",
      "|2022-04-17|            ATL|               BOS|             0|           0|        1|    300.1|    2022-04-17T10:45:...|  2022-04-17T13:23:...|                 1| 17|         (15,[1],[1.0])|            (15,[2],[1.0])|       1|       1|      (12,[0],[1.0])|ATL-BOS|1521.342|\n",
      "|2022-04-17|            ATL|               BOS|             0|           0|        0|   302.11|    2022-04-17T18:15:...|  2022-04-17T19:37:...|                 1| 17|         (15,[1],[1.0])|            (15,[2],[1.0])|       2|       1|      (12,[0],[1.0])|ATL-BOS|1521.342|\n",
      "|2022-04-17|            ATL|               BOS|             0|           0|        0|   302.11|    2022-04-17T11:02:...|  2022-04-17T12:28:...|                 1| 17|         (15,[1],[1.0])|            (15,[2],[1.0])|       2|       1|      (12,[0],[1.0])|ATL-BOS|1521.342|\n",
      "|2022-04-17|            ATL|               BOS|             0|           0|        0|   302.11|    2022-04-17T16:18:...|  2022-04-17T17:26:...|                 1| 17|         (15,[1],[1.0])|            (15,[2],[1.0])|       2|       1|      (12,[0],[1.0])|ATL-BOS|1521.342|\n",
      "+----------+---------------+------------------+--------------+------------+---------+---------+------------------------+----------------------+------------------+---+-----------------------+--------------------------+--------+--------+--------------------+-------+--------+\n",
      "only showing top 20 rows\n",
      "\n"
     ]
    }
   ],
   "source": [
    "df = df.withColumn(\"distance\", get_dist_udf(\"route\"))\n",
    "df.show()"
   ]
  },
  {
   "cell_type": "code",
   "execution_count": 210,
   "id": "c379da11-7d0a-4e2c-8215-9da5a1656738",
   "metadata": {},
   "outputs": [],
   "source": [
    "# TODO: drop the route column\n",
    "#df = df.drop(*[\"startingAirport\", \"destinationAirport\", \"route\"])\n",
    "df = df.drop(\"route\")"
   ]
  },
  {
   "cell_type": "markdown",
   "id": "c41eaf87-5db0-4ea7-a93d-b88f12d1c09d",
   "metadata": {},
   "source": [
    "## Day of Week, Time of Day"
   ]
  },
  {
   "cell_type": "markdown",
   "id": "2632938e-f145-4a1a-9abb-b273de473141",
   "metadata": {},
   "source": [
    "We add variables to include the day of the week and the time of the day into our model. These could prove essential because of patterns such as flights being more expensive towards the end of the week (as people leave for weekend trips) and towards later in the day (after people get off work). "
   ]
  },
  {
   "cell_type": "code",
   "execution_count": 211,
   "id": "9e71dfc9-7464-48c1-9bae-19a0a66f2105",
   "metadata": {},
   "outputs": [],
   "source": [
    "from pyspark.sql.functions import date_format, to_date"
   ]
  },
  {
   "cell_type": "code",
   "execution_count": 212,
   "id": "ad5c9e80-b90e-450c-b266-fc31b48b4f6a",
   "metadata": {},
   "outputs": [],
   "source": [
    "# retrieve the data of departure, get the weekday and convert it into numerical using stringindexer\n",
    "df = df.withColumn(\"departure_date\", col(\"segmentsDepartureTimeRaw\").substr(1, 10))\n",
    "\n",
    "# retrieve the stringed time of departure and convert it into an integer\n",
    "df = df.withColumn(\"departure_time\", col(\"segmentsDepartureTimeRaw\").substr(12, 2))\n",
    "df = df.withColumn(\"departure_hour\", col(\"departure_time\").cast(\"integer\"))"
   ]
  },
  {
   "cell_type": "code",
   "execution_count": 213,
   "id": "40fdbb1c-46df-402c-9c01-a230605d0b3b",
   "metadata": {},
   "outputs": [],
   "source": [
    "df = df.withColumn(\"departure_dow\", date_format(\"departure_date\", \"E\"))"
   ]
  },
  {
   "cell_type": "code",
   "execution_count": 214,
   "id": "1429ae5a-5f95-4898-8418-f45def1b3abe",
   "metadata": {},
   "outputs": [
    {
     "name": "stderr",
     "output_type": "stream",
     "text": [
      "                                                                                \r"
     ]
    }
   ],
   "source": [
    "string_indexer_dow = StringIndexer(inputCol=\"departure_dow\", outputCol=\"departure_dow_idx\")\n",
    "modelx = string_indexer_dow.fit(df)\n",
    "df = modelx.transform(df)"
   ]
  },
  {
   "cell_type": "code",
   "execution_count": 215,
   "id": "cf179215-e469-4a48-a18d-e4a5a84626ef",
   "metadata": {},
   "outputs": [],
   "source": [
    "# drop unneeded columns\n",
    "unneeded = [\"departure_date\", \"departure_time\", \"departure_dow\", \"flightDate\", \"segmentsDepartureTimeRaw\", \"segmentsArrivalTimeRaw\"]\n",
    "df = df.drop(*unneeded)"
   ]
  },
  {
   "cell_type": "code",
   "execution_count": 216,
   "id": "4603a30d-f5ab-4da9-956e-5b525b4f4086",
   "metadata": {},
   "outputs": [
    {
     "name": "stderr",
     "output_type": "stream",
     "text": [
      "[Stage 132:>                                                        (0 + 1) / 1]\r"
     ]
    },
    {
     "name": "stdout",
     "output_type": "stream",
     "text": [
      "+----------+---------------+------------------+--------------+------------+---------+---------+------------------------+----------------------+------------------+---+-----------------------+--------------------------+--------+--------+--------------------+--------+--------------+-----------------+\n",
      "|flightDate|startingAirport|destinationAirport|isBasicEconomy|isRefundable|isNonStop|totalFare|segmentsDepartureTimeRaw|segmentsArrivalTimeRaw|days_before_flight|day|startingAirport_encoded|destinationAirport_encoded|num_legs|All_Same|airline_name_encoded|distance|departure_hour|departure_dow_idx|\n",
      "+----------+---------------+------------------+--------------+------------+---------+---------+------------------------+----------------------+------------------+---+-----------------------+--------------------------+--------+--------+--------------------+--------+--------------+-----------------+\n",
      "|2022-04-17|            ATL|               BOS|             0|           0|        1|    248.6|    2022-04-17T12:57:...|  2022-04-17T15:26:...|                 1| 17|         (15,[1],[1.0])|            (15,[2],[1.0])|       1|       1|      (12,[1],[1.0])|1521.342|            12|              0.0|\n",
      "|2022-04-17|            ATL|               BOS|             0|           0|        1|    248.6|    2022-04-17T06:30:...|  2022-04-17T09:00:...|                 1| 17|         (15,[1],[1.0])|            (15,[2],[1.0])|       1|       1|      (12,[1],[1.0])|1521.342|             6|              0.0|\n",
      "|2022-04-17|            ATL|               BOS|             0|           0|        1|    248.6|    2022-04-17T11:35:...|  2022-04-17T14:05:...|                 1| 17|         (15,[1],[1.0])|            (15,[2],[1.0])|       1|       1|      (12,[1],[1.0])|1521.342|            11|              0.0|\n",
      "|2022-04-17|            ATL|               BOS|             0|           0|        1|    248.6|    2022-04-17T13:59:...|  2022-04-17T16:31:...|                 1| 17|         (15,[1],[1.0])|            (15,[2],[1.0])|       1|       1|      (12,[1],[1.0])|1521.342|            13|              0.0|\n",
      "|2022-04-17|            ATL|               BOS|             0|           0|        1|    248.6|    2022-04-17T09:59:...|  2022-04-17T12:33:...|                 1| 17|         (15,[1],[1.0])|            (15,[2],[1.0])|       1|       1|      (12,[1],[1.0])|1521.342|             9|              0.0|\n",
      "|2022-04-17|            ATL|               BOS|             0|           0|        1|    248.6|    2022-04-17T10:45:...|  2022-04-17T13:23:...|                 1| 17|         (15,[1],[1.0])|            (15,[2],[1.0])|       1|       1|      (12,[3],[1.0])|1521.342|            10|              0.0|\n",
      "|2022-04-17|            ATL|               BOS|             0|           0|        0|    251.1|    2022-04-17T08:20:...|  2022-04-17T09:50:...|                 1| 17|         (15,[1],[1.0])|            (15,[2],[1.0])|       2|       1|      (12,[0],[1.0])|1521.342|             8|              0.0|\n",
      "|2022-04-17|            ATL|               BOS|             0|           0|        0|    251.1|    2022-04-17T08:20:...|  2022-04-17T09:50:...|                 1| 17|         (15,[1],[1.0])|            (15,[2],[1.0])|       2|       1|      (12,[0],[1.0])|1521.342|             8|              0.0|\n",
      "|2022-04-17|            ATL|               BOS|             0|           0|        0|    251.1|    2022-04-17T07:00:...|  2022-04-17T08:21:...|                 1| 17|         (15,[1],[1.0])|            (15,[2],[1.0])|       2|       1|      (12,[0],[1.0])|1521.342|             7|              0.0|\n",
      "|2022-04-17|            ATL|               BOS|             0|           0|        0|    251.1|    2022-04-17T07:00:...|  2022-04-17T08:21:...|                 1| 17|         (15,[1],[1.0])|            (15,[2],[1.0])|       2|       1|      (12,[0],[1.0])|1521.342|             7|              0.0|\n",
      "|2022-04-17|            ATL|               BOS|             0|           0|        0|    252.6|    2022-04-17T05:30:...|  2022-04-17T07:18:...|                 1| 17|         (15,[1],[1.0])|            (15,[2],[1.0])|       2|       1|      (12,[2],[1.0])|1521.342|             5|              0.0|\n",
      "|2022-04-17|            ATL|               BOS|             0|           0|        0|    252.6|    2022-04-17T14:39:...|  2022-04-17T15:54:...|                 1| 17|         (15,[1],[1.0])|            (15,[2],[1.0])|       2|       1|      (12,[0],[1.0])|1521.342|            14|              0.0|\n",
      "|2022-04-17|            ATL|               BOS|             0|           0|        0|    252.6|    2022-04-17T18:00:...|  2022-04-17T19:11:...|                 1| 17|         (15,[1],[1.0])|            (15,[2],[1.0])|       2|       1|      (12,[0],[1.0])|1521.342|            18|              0.0|\n",
      "|2022-04-17|            ATL|               BOS|             0|           0|        0|    252.6|    2022-04-17T14:39:...|  2022-04-17T15:54:...|                 1| 17|         (15,[1],[1.0])|            (15,[2],[1.0])|       2|       1|      (12,[0],[1.0])|1521.342|            14|              0.0|\n",
      "|2022-04-17|            ATL|               BOS|             0|           0|        0|    252.6|    2022-04-17T06:10:...|  2022-04-17T07:20:...|                 1| 17|         (15,[1],[1.0])|            (15,[2],[1.0])|       2|       1|      (12,[2],[1.0])|1521.342|             6|              0.0|\n",
      "|2022-04-17|            ATL|               BOS|             0|           0|        0|   290.58|    2022-04-17T05:26:...|  2022-04-17T07:20:...|                 1| 17|         (15,[1],[1.0])|            (15,[2],[1.0])|       2|       1|      (12,[4],[1.0])|1521.342|             5|              0.0|\n",
      "|2022-04-17|            ATL|               BOS|             0|           0|        1|    300.1|    2022-04-17T10:45:...|  2022-04-17T13:23:...|                 1| 17|         (15,[1],[1.0])|            (15,[2],[1.0])|       1|       1|      (12,[0],[1.0])|1521.342|            10|              0.0|\n",
      "|2022-04-17|            ATL|               BOS|             0|           0|        0|   302.11|    2022-04-17T18:15:...|  2022-04-17T19:37:...|                 1| 17|         (15,[1],[1.0])|            (15,[2],[1.0])|       2|       1|      (12,[0],[1.0])|1521.342|            18|              0.0|\n",
      "|2022-04-17|            ATL|               BOS|             0|           0|        0|   302.11|    2022-04-17T11:02:...|  2022-04-17T12:28:...|                 1| 17|         (15,[1],[1.0])|            (15,[2],[1.0])|       2|       1|      (12,[0],[1.0])|1521.342|            11|              0.0|\n",
      "|2022-04-17|            ATL|               BOS|             0|           0|        0|   302.11|    2022-04-17T16:18:...|  2022-04-17T17:26:...|                 1| 17|         (15,[1],[1.0])|            (15,[2],[1.0])|       2|       1|      (12,[0],[1.0])|1521.342|            16|              0.0|\n",
      "+----------+---------------+------------------+--------------+------------+---------+---------+------------------------+----------------------+------------------+---+-----------------------+--------------------------+--------+--------+--------------------+--------+--------------+-----------------+\n",
      "only showing top 20 rows\n",
      "\n"
     ]
    },
    {
     "name": "stderr",
     "output_type": "stream",
     "text": [
      "                                                                                \r"
     ]
    }
   ],
   "source": [
    "df.show()"
   ]
  },
  {
   "cell_type": "markdown",
   "id": "1574d86d-a01d-482b-b12f-ff6e9344b18e",
   "metadata": {},
   "source": [
    "## Population: A Proxy for Demand"
   ]
  },
  {
   "cell_type": "markdown",
   "id": "a84df2de-f286-48db-b591-ec7b4b5d4237",
   "metadata": {},
   "source": [
    "The price of a ticket is heavily impacted by the total air traffic passing through a city. For example, a small airport may charge a lot more for a comparable flight because there are very few flights departing. We attempt to proxy this factor using the population of the departure and arrival cities. "
   ]
  },
  {
   "cell_type": "code",
   "execution_count": 217,
   "id": "fd769ce3-cb44-4513-9803-6d1db167d99f",
   "metadata": {},
   "outputs": [],
   "source": [
    "# dictionary encompassing the metropolitan airports surrounding each city\n",
    "\n",
    "pop_dict = {\n",
    "    'ATL': 6930423,\n",
    "    'DFW': 7846293,\n",
    "    'DEN': 3623560,\n",
    "    'ORD': 9458539,\n",
    "    'LAX': 13200998,\n",
    "    'CLT': 2701046,\n",
    "    'MIA': 6138333,\n",
    "    'JFK': 19768458, # Representing the NY metropolitan area\n",
    "    'LGA': 19768458, # Representing the NY metropolitan area\n",
    "    'EWR': 19768458, # Representing the NY metropolitan area\n",
    "    'SFO': 4749008,\n",
    "    'DTW': 4392041,\n",
    "    'BOS': 4941632,\n",
    "    'PHL': 6245051,\n",
    "    'IAD': 6385162, # Representing the Washington D.C. metropolitan area\n",
    "    'OAK': 4749008  # Included in the San Francisco metropolitan area\n",
    "}\n",
    "\n",
    "# apply minmax scaling to get more digestable features \n",
    "pop_values = list(pop_dict.values())\n",
    "\n",
    "# Calculating min and max for the scaling formula\n",
    "min_pop = min(pop_values)\n",
    "max_pop = max(pop_values)\n",
    "\n",
    "scaled_pop_dict = {airport: ((population - min_pop) / (max_pop - min_pop)) * 100 \n",
    "                      for airport, population in pop_dict.items()}"
   ]
  },
  {
   "cell_type": "code",
   "execution_count": 218,
   "id": "4f436a93-8918-45ae-b0d0-3540ffd10a31",
   "metadata": {},
   "outputs": [
    {
     "data": {
      "text/plain": [
       "{'ATL': 24.780423651810832,\n",
       " 'DFW': 30.14661508141949,\n",
       " 'DEN': 5.405119417050459,\n",
       " 'ORD': 39.59295644823011,\n",
       " 'LAX': 61.520469535744496,\n",
       " 'CLT': 0.0,\n",
       " 'MIA': 20.139473987034474,\n",
       " 'JFK': 100.0,\n",
       " 'LGA': 100.0,\n",
       " 'EWR': 100.0,\n",
       " 'SFO': 11.999253313859185,\n",
       " 'DTW': 9.907741138492469,\n",
       " 'BOS': 13.127860275477033,\n",
       " 'PHL': 20.764747461419457,\n",
       " 'IAD': 21.58567450062142,\n",
       " 'OAK': 11.999253313859185}"
      ]
     },
     "execution_count": 218,
     "metadata": {},
     "output_type": "execute_result"
    }
   ],
   "source": [
    "scaled_pop_dict"
   ]
  },
  {
   "cell_type": "code",
   "execution_count": 219,
   "id": "435f8b6b-3e18-4060-b088-9be916bb04eb",
   "metadata": {},
   "outputs": [],
   "source": [
    "# apply this population dict to the \n",
    "\n",
    "def get_pop(val):\n",
    "    # Return the mapped value if it exists, else return the original value\n",
    "    return scaled_pop_dict.get(val, val)\n",
    "\n",
    "# instantiate the udf\n",
    "get_pop_udf = udf(get_pop, FloatType())"
   ]
  },
  {
   "cell_type": "code",
   "execution_count": 220,
   "id": "c4a26a18-79b4-4aa6-9629-8d305134c371",
   "metadata": {},
   "outputs": [],
   "source": [
    "df = df.withColumn(\"starting_pop\", get_pop_udf(\"startingAirport\"))\n",
    "df = df.withColumn(\"destination_pop\", get_pop_udf(\"destinationAirport\"))"
   ]
  },
  {
   "cell_type": "code",
   "execution_count": 221,
   "id": "d80f36a6-65e2-4fc1-a1ff-bdce73949040",
   "metadata": {},
   "outputs": [],
   "source": [
    "# drop starting and destination airports\n",
    "df = df.drop(*[\"startingAirport\", \"destinationAirport\"])"
   ]
  },
  {
   "cell_type": "code",
   "execution_count": 226,
   "id": "1df38c14-73f6-4d8f-a056-02c8a0a11ab3",
   "metadata": {},
   "outputs": [
    {
     "name": "stdout",
     "output_type": "stream",
     "text": [
      "+--------------+------------+---------+---------+------------------+---+-----------------------+--------------------------+--------+--------+--------------------+--------+--------------+-----------------+------------+---------------+\n",
      "|isBasicEconomy|isRefundable|isNonStop|totalFare|days_before_flight|day|startingAirport_encoded|destinationAirport_encoded|num_legs|All_Same|airline_name_encoded|distance|departure_hour|departure_dow_idx|starting_pop|destination_pop|\n",
      "+--------------+------------+---------+---------+------------------+---+-----------------------+--------------------------+--------+--------+--------------------+--------+--------------+-----------------+------------+---------------+\n",
      "|             0|           0|        1|    248.6|                 1| 17|         (15,[1],[1.0])|            (15,[2],[1.0])|       1|       1|      (12,[1],[1.0])|1521.342|            12|              0.0|   24.780424|       13.12786|\n",
      "|             0|           0|        1|    248.6|                 1| 17|         (15,[1],[1.0])|            (15,[2],[1.0])|       1|       1|      (12,[1],[1.0])|1521.342|             6|              0.0|   24.780424|       13.12786|\n",
      "|             0|           0|        1|    248.6|                 1| 17|         (15,[1],[1.0])|            (15,[2],[1.0])|       1|       1|      (12,[1],[1.0])|1521.342|            11|              0.0|   24.780424|       13.12786|\n",
      "|             0|           0|        1|    248.6|                 1| 17|         (15,[1],[1.0])|            (15,[2],[1.0])|       1|       1|      (12,[1],[1.0])|1521.342|            13|              0.0|   24.780424|       13.12786|\n",
      "|             0|           0|        1|    248.6|                 1| 17|         (15,[1],[1.0])|            (15,[2],[1.0])|       1|       1|      (12,[1],[1.0])|1521.342|             9|              0.0|   24.780424|       13.12786|\n",
      "|             0|           0|        1|    248.6|                 1| 17|         (15,[1],[1.0])|            (15,[2],[1.0])|       1|       1|      (12,[3],[1.0])|1521.342|            10|              0.0|   24.780424|       13.12786|\n",
      "|             0|           0|        0|    251.1|                 1| 17|         (15,[1],[1.0])|            (15,[2],[1.0])|       2|       1|      (12,[0],[1.0])|1521.342|             8|              0.0|   24.780424|       13.12786|\n",
      "|             0|           0|        0|    251.1|                 1| 17|         (15,[1],[1.0])|            (15,[2],[1.0])|       2|       1|      (12,[0],[1.0])|1521.342|             8|              0.0|   24.780424|       13.12786|\n",
      "|             0|           0|        0|    251.1|                 1| 17|         (15,[1],[1.0])|            (15,[2],[1.0])|       2|       1|      (12,[0],[1.0])|1521.342|             7|              0.0|   24.780424|       13.12786|\n",
      "|             0|           0|        0|    251.1|                 1| 17|         (15,[1],[1.0])|            (15,[2],[1.0])|       2|       1|      (12,[0],[1.0])|1521.342|             7|              0.0|   24.780424|       13.12786|\n",
      "|             0|           0|        0|    252.6|                 1| 17|         (15,[1],[1.0])|            (15,[2],[1.0])|       2|       1|      (12,[2],[1.0])|1521.342|             5|              0.0|   24.780424|       13.12786|\n",
      "|             0|           0|        0|    252.6|                 1| 17|         (15,[1],[1.0])|            (15,[2],[1.0])|       2|       1|      (12,[0],[1.0])|1521.342|            14|              0.0|   24.780424|       13.12786|\n",
      "|             0|           0|        0|    252.6|                 1| 17|         (15,[1],[1.0])|            (15,[2],[1.0])|       2|       1|      (12,[0],[1.0])|1521.342|            18|              0.0|   24.780424|       13.12786|\n",
      "|             0|           0|        0|    252.6|                 1| 17|         (15,[1],[1.0])|            (15,[2],[1.0])|       2|       1|      (12,[0],[1.0])|1521.342|            14|              0.0|   24.780424|       13.12786|\n",
      "|             0|           0|        0|    252.6|                 1| 17|         (15,[1],[1.0])|            (15,[2],[1.0])|       2|       1|      (12,[2],[1.0])|1521.342|             6|              0.0|   24.780424|       13.12786|\n",
      "|             0|           0|        0|   290.58|                 1| 17|         (15,[1],[1.0])|            (15,[2],[1.0])|       2|       1|      (12,[4],[1.0])|1521.342|             5|              0.0|   24.780424|       13.12786|\n",
      "|             0|           0|        1|    300.1|                 1| 17|         (15,[1],[1.0])|            (15,[2],[1.0])|       1|       1|      (12,[0],[1.0])|1521.342|            10|              0.0|   24.780424|       13.12786|\n",
      "|             0|           0|        0|   302.11|                 1| 17|         (15,[1],[1.0])|            (15,[2],[1.0])|       2|       1|      (12,[0],[1.0])|1521.342|            18|              0.0|   24.780424|       13.12786|\n",
      "|             0|           0|        0|   302.11|                 1| 17|         (15,[1],[1.0])|            (15,[2],[1.0])|       2|       1|      (12,[0],[1.0])|1521.342|            11|              0.0|   24.780424|       13.12786|\n",
      "|             0|           0|        0|   302.11|                 1| 17|         (15,[1],[1.0])|            (15,[2],[1.0])|       2|       1|      (12,[0],[1.0])|1521.342|            16|              0.0|   24.780424|       13.12786|\n",
      "+--------------+------------+---------+---------+------------------+---+-----------------------+--------------------------+--------+--------+--------------------+--------+--------------+-----------------+------------+---------------+\n",
      "only showing top 20 rows\n",
      "\n"
     ]
    }
   ],
   "source": [
    "df.show()"
   ]
  },
  {
   "cell_type": "markdown",
   "id": "977abb31-db4d-4678-b052-f3e455bacf37",
   "metadata": {},
   "source": [
    "## Save the final Data"
   ]
  },
  {
   "cell_type": "code",
   "execution_count": 204,
   "id": "b2e69906-dc07-470f-919c-966127dba7da",
   "metadata": {},
   "outputs": [],
   "source": [
    "# change to code cell to save"
   ]
  },
  {
   "cell_type": "code",
   "execution_count": 225,
   "id": "4e1b74e0-cb5c-4941-bbfe-a7f5abfdaaf9",
   "metadata": {},
   "outputs": [
    {
     "name": "stderr",
     "output_type": "stream",
     "text": [
      "                                                                                \r"
     ]
    }
   ],
   "source": [
    "# Where the file should be saved\n",
    "#TARGET_PATH = \"../data/itineraries_processed.csv\"\n",
    "TARGET_PATH_PAR = \"../data/itineraries_processed.parquet\"\n",
    "\n",
    "# save to csv\n",
    "# df.toPandas().to_csv(TARGET_PATH, header=True, index=False)\n",
    "\n",
    "# writing to parquet makes loading the data easier\n",
    "df.write.parquet(TARGET_PATH_PAR)"
   ]
  },
  {
   "cell_type": "code",
   "execution_count": 227,
   "id": "758344dd-547c-408e-bd44-40c9292036a8",
   "metadata": {},
   "outputs": [],
   "source": [
    "spark.stop()"
   ]
  },
  {
   "cell_type": "code",
   "execution_count": null,
   "id": "c4e57f17-8345-468e-98b3-b4e09178616f",
   "metadata": {},
   "outputs": [],
   "source": []
  }
 ],
 "metadata": {
  "kernelspec": {
   "display_name": "Python 3 (ipykernel)",
   "language": "python",
   "name": "python3"
  },
  "language_info": {
   "codemirror_mode": {
    "name": "ipython",
    "version": 3
   },
   "file_extension": ".py",
   "mimetype": "text/x-python",
   "name": "python",
   "nbconvert_exporter": "python",
   "pygments_lexer": "ipython3",
   "version": "3.12.1"
  }
 },
 "nbformat": 4,
 "nbformat_minor": 5
}
