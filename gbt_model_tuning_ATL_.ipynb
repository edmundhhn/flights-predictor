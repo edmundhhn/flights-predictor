{
 "cells": [
  {
   "cell_type": "markdown",
   "metadata": {
    "application/vnd.databricks.v1+cell": {
     "cellMetadata": {},
     "inputWidgets": {},
     "nuid": "abb8828e-8aac-494b-979a-1fb89e3f4d48",
     "showTitle": false,
     "title": ""
    }
   },
   "source": [
    "# Hyperparameter Tuning"
   ]
  },
  {
   "cell_type": "markdown",
   "metadata": {
    "application/vnd.databricks.v1+cell": {
     "cellMetadata": {},
     "inputWidgets": {},
     "nuid": "83deacc2-7398-4322-8be3-884e519a72fb",
     "showTitle": false,
     "title": ""
    }
   },
   "source": [
    "---"
   ]
  },
  {
   "cell_type": "markdown",
   "metadata": {
    "application/vnd.databricks.v1+cell": {
     "cellMetadata": {},
     "inputWidgets": {},
     "nuid": "34583860-e543-4d41-a99d-928bb6738823",
     "showTitle": false,
     "title": ""
    }
   },
   "source": [
    "We tune the hyperparameters for the GBTRegressor"
   ]
  },
  {
   "cell_type": "markdown",
   "metadata": {
    "application/vnd.databricks.v1+cell": {
     "cellMetadata": {},
     "inputWidgets": {},
     "nuid": "7ffcd6b9-d127-4167-a19d-f72ef294c39c",
     "showTitle": false,
     "title": ""
    }
   },
   "source": [
    "For a more comprehsneive tuning process, we utilize k fold cross validation, with various tree sizes and maximum depths"
   ]
  },
  {
   "cell_type": "markdown",
   "metadata": {
    "application/vnd.databricks.v1+cell": {
     "cellMetadata": {},
     "inputWidgets": {},
     "nuid": "aca9ebf4-5bbf-4993-990e-181b4ecbc8aa",
     "showTitle": false,
     "title": ""
    }
   },
   "source": [
    "---"
   ]
  },
  {
   "cell_type": "markdown",
   "metadata": {
    "application/vnd.databricks.v1+cell": {
     "cellMetadata": {},
     "inputWidgets": {},
     "nuid": "0d0032cc-d45d-4716-8015-1a0b509edc58",
     "showTitle": false,
     "title": ""
    }
   },
   "source": [
    "## Load Spark & Data"
   ]
  },
  {
   "cell_type": "code",
   "execution_count": 0,
   "metadata": {
    "application/vnd.databricks.v1+cell": {
     "cellMetadata": {
      "byteLimit": 2048000,
      "rowLimit": 10000
     },
     "inputWidgets": {},
     "nuid": "7ccf09b2-3964-4f21-8f56-4c1a39bca863",
     "showTitle": false,
     "title": ""
    }
   },
   "outputs": [],
   "source": [
    "from pyspark.ml import Pipeline\n",
    "from pyspark.ml.feature import VectorAssembler\n",
    "from pyspark.ml.regression import GBTRegressor\n",
    "from pyspark.ml.evaluation import RegressionEvaluator\n",
    "from pyspark.ml.tuning import ParamGridBuilder, CrossValidator\n",
    "from pyspark.sql import SparkSession"
   ]
  },
  {
   "cell_type": "code",
   "execution_count": 0,
   "metadata": {
    "application/vnd.databricks.v1+cell": {
     "cellMetadata": {
      "byteLimit": 2048000,
      "rowLimit": 10000
     },
     "inputWidgets": {},
     "nuid": "573607e1-50ee-40bd-bbbe-abee228bd549",
     "showTitle": false,
     "title": ""
    }
   },
   "outputs": [],
   "source": [
    "spark = SparkSession.builder \\\n",
    ".appName(\"gbt_tune\") \\\n",
    ".config(\"spark.executor.memory\", \"8g\") \\\n",
    ".config(\"spark.driver.memory\", \"4g\") \\\n",
    ".config(\"spark.executor.cores\", \"2\") \\\n",
    ".config(\"spark.executor.instances\", \"4\") \\\n",
    ".getOrCreate()"
   ]
  },
  {
   "cell_type": "code",
   "execution_count": 0,
   "metadata": {
    "application/vnd.databricks.v1+cell": {
     "cellMetadata": {
      "byteLimit": 2048000,
      "rowLimit": 10000
     },
     "inputWidgets": {},
     "nuid": "4deae43c-6e11-468b-af8c-d68b9dee6307",
     "showTitle": false,
     "title": ""
    }
   },
   "outputs": [],
   "source": [
    "# display(dbutils.fs.ls(\"/mnt/nguyen1/starting_paths/startingAirport=ATL\"))"
   ]
  },
  {
   "cell_type": "code",
   "execution_count": 0,
   "metadata": {
    "application/vnd.databricks.v1+cell": {
     "cellMetadata": {
      "byteLimit": 2048000,
      "rowLimit": 10000
     },
     "inputWidgets": {},
     "nuid": "6598a862-640f-4886-9a62-32eae1f88dab",
     "showTitle": false,
     "title": ""
    }
   },
   "outputs": [],
   "source": [
    "# REPLACE WITH PROCESSED DATA FILEPATH\n",
    "DATA_PATH = \"/mnt/nguyen1/starting_paths/startingAirport=ATL\""
   ]
  },
  {
   "cell_type": "code",
   "execution_count": 0,
   "metadata": {
    "application/vnd.databricks.v1+cell": {
     "cellMetadata": {
      "byteLimit": 2048000,
      "rowLimit": 10000
     },
     "inputWidgets": {},
     "nuid": "1b2bd788-4e91-48b2-8605-61976e6ced4d",
     "showTitle": false,
     "title": ""
    }
   },
   "outputs": [],
   "source": [
    "df = spark.read.parquet(DATA_PATH)"
   ]
  },
  {
   "cell_type": "code",
   "execution_count": 0,
   "metadata": {
    "application/vnd.databricks.v1+cell": {
     "cellMetadata": {
      "byteLimit": 2048000,
      "rowLimit": 10000
     },
     "inputWidgets": {},
     "nuid": "38be6ca5-7b46-40ac-ae8d-fbcfa7c5d14b",
     "showTitle": false,
     "title": ""
    }
   },
   "outputs": [
    {
     "output_type": "execute_result",
     "data": {
      "text/plain": [
       "5141232"
      ]
     },
     "execution_count": 7,
     "metadata": {},
     "output_type": "execute_result"
    }
   ],
   "source": [
    "df.count()"
   ]
  },
  {
   "cell_type": "code",
   "execution_count": 0,
   "metadata": {
    "application/vnd.databricks.v1+cell": {
     "cellMetadata": {
      "byteLimit": 2048000,
      "rowLimit": 10000
     },
     "inputWidgets": {},
     "nuid": "dbda7758-21bf-42ca-a6b3-29f8cc2747b0",
     "showTitle": false,
     "title": ""
    }
   },
   "outputs": [],
   "source": [
    "df = df.drop(*[\"startingAirport\", \"destinationAirport\"])"
   ]
  },
  {
   "cell_type": "code",
   "execution_count": 0,
   "metadata": {
    "application/vnd.databricks.v1+cell": {
     "cellMetadata": {
      "byteLimit": 2048000,
      "rowLimit": 10000
     },
     "inputWidgets": {},
     "nuid": "e7fccd68-e11b-45b5-a1c2-b91c03cea7af",
     "showTitle": false,
     "title": ""
    }
   },
   "outputs": [],
   "source": [
    "# train test split\n",
    "train_data, test_data = df.randomSplit([0.8, 0.2], seed=42)"
   ]
  },
  {
   "cell_type": "markdown",
   "metadata": {
    "application/vnd.databricks.v1+cell": {
     "cellMetadata": {},
     "inputWidgets": {},
     "nuid": "7008d598-04ab-4e01-af0d-0cf6cee45bee",
     "showTitle": false,
     "title": ""
    }
   },
   "source": [
    "## Create Vector Assembler"
   ]
  },
  {
   "cell_type": "code",
   "execution_count": 0,
   "metadata": {
    "application/vnd.databricks.v1+cell": {
     "cellMetadata": {
      "byteLimit": 2048000,
      "rowLimit": 10000
     },
     "inputWidgets": {},
     "nuid": "e9a29f17-f3c0-4e92-b65f-eaf4bad58865",
     "showTitle": false,
     "title": ""
    }
   },
   "outputs": [],
   "source": [
    "feature_columns = df.columns[:-1]\n",
    "feature_columns.remove('totalFare')\n",
    "\n",
    "# Assemble features into a vector\n",
    "assembler = VectorAssembler(inputCols=feature_columns, outputCol=\"features\")\n",
    "# df_ass = assembler.transform(df)"
   ]
  },
  {
   "cell_type": "markdown",
   "metadata": {
    "application/vnd.databricks.v1+cell": {
     "cellMetadata": {},
     "inputWidgets": {},
     "nuid": "9e0af433-b6e7-4648-ad98-0584e7d3fa02",
     "showTitle": false,
     "title": ""
    }
   },
   "source": [
    "## Run Model"
   ]
  },
  {
   "cell_type": "code",
   "execution_count": 0,
   "metadata": {
    "application/vnd.databricks.v1+cell": {
     "cellMetadata": {
      "byteLimit": 2048000,
      "rowLimit": 10000
     },
     "inputWidgets": {},
     "nuid": "fe5ad6b2-5a20-47cc-ba54-d5fce20ab433",
     "showTitle": false,
     "title": ""
    },
    "scrolled": true
   },
   "outputs": [],
   "source": [
    "# Initialize the GBTRegressor\n",
    "gbt = GBTRegressor(featuresCol=\"features\", labelCol=\"totalFare\")\n",
    "\n",
    "# Define the pipeline with the stages\n",
    "pipeline = Pipeline(stages=[assembler, gbt])\n",
    "\n",
    "# Define evaluator\n",
    "evaluator = RegressionEvaluator(predictionCol=\"prediction\", labelCol=\"totalFare\", metricName=\"rmse\")\n",
    "\n",
    "# Create ParamGrid for Cross Validation\n",
    "paramGrid = ParamGridBuilder() \\\n",
    "    .addGrid(gbt.maxDepth, [2,4]) \\\n",
    "    .addGrid(gbt.maxIter, [10, 20]) \\\n",
    "    .build()\n",
    "\n",
    "# Create CrossValidator"
   ]
  },
  {
   "cell_type": "code",
   "execution_count": 0,
   "metadata": {
    "application/vnd.databricks.v1+cell": {
     "cellMetadata": {
      "byteLimit": 2048000,
      "rowLimit": 10000
     },
     "inputWidgets": {},
     "nuid": "198fb1f2-92f3-4d00-a436-7c5b115f5ca7",
     "showTitle": false,
     "title": ""
    }
   },
   "outputs": [
    {
     "output_type": "display_data",
     "data": {
      "text/html": [
       "<style scoped>\n",
       "  .ansiout {\n",
       "    display: block;\n",
       "    unicode-bidi: embed;\n",
       "    white-space: pre-wrap;\n",
       "    word-wrap: break-word;\n",
       "    word-break: break-all;\n",
       "    font-family: \"Menlo\", \"Monaco\", \"Consolas\", \"Ubuntu Mono\", \"Source Code Pro\", monospace;\n",
       "    font-size: 13px;\n",
       "    color: #555;\n",
       "    margin-left: 4px;\n",
       "    line-height: 19px;\n",
       "  }\n",
       "</style>"
      ]
     },
     "metadata": {
      "application/vnd.databricks.v1+output": {
       "arguments": {},
       "data": "",
       "errorSummary": "Cancelled",
       "errorTraceType": "html",
       "metadata": {},
       "type": "ipynbError"
      }
     },
     "output_type": "display_data"
    }
   ],
   "source": [
    "cv = CrossValidator(estimator=pipeline,\n",
    "                    estimatorParamMaps=paramGrid,\n",
    "                    evaluator=evaluator,\n",
    "                    numFolds=5)\n",
    "\n",
    "# Run cross-validation\n",
    "cvModel = cv.fit(train_data)"
   ]
  },
  {
   "cell_type": "markdown",
   "metadata": {
    "application/vnd.databricks.v1+cell": {
     "cellMetadata": {},
     "inputWidgets": {},
     "nuid": "96521bed-05f1-4c16-97fd-1384ca9e601d",
     "showTitle": false,
     "title": ""
    }
   },
   "source": [
    "## Investigate the best performing model"
   ]
  },
  {
   "cell_type": "code",
   "execution_count": 0,
   "metadata": {
    "application/vnd.databricks.v1+cell": {
     "cellMetadata": {
      "byteLimit": 2048000,
      "rowLimit": 10000
     },
     "inputWidgets": {},
     "nuid": "e5f5cb09-1cf2-4d8e-8360-3d432b95e4e0",
     "showTitle": false,
     "title": ""
    }
   },
   "outputs": [
    {
     "output_type": "stream",
     "name": "stdout",
     "output_type": "stream",
     "text": [
      "Best Model Parameters:\ncacheNodeIds : False\ncheckpointInterval : 10\nfeatureSubsetStrategy : all\nfeaturesCol : features\nimpurity : variance\nlabelCol : totalFare\nleafCol : \nlossType : squared\nmaxBins : 32\nmaxDepth : 4\nmaxIter : 20\nmaxMemoryInMB : 256\nminInfoGain : 0.0\nminInstancesPerNode : 1\nminWeightFractionPerNode : 0.0\npredictionCol : prediction\nseed : -6682481135904123338\nstepSize : 0.1\nsubsamplingRate : 1.0\nvalidationTol : 0.01\n"
     ]
    }
   ],
   "source": [
    "# Get the best model\n",
    "best_model = cvModel.bestModel\n",
    "\n",
    "# Access the stages of the pipeline\n",
    "stages = best_model.stages\n",
    "\n",
    "# Access the parameters of the RandomForestRegressor stage\n",
    "rf_params = stages[-1].extractParamMap()\n",
    "\n",
    "# Print the parameters\n",
    "print(\"Best Model Parameters:\")\n",
    "for param, value in rf_params.items():\n",
    "    print(param.name, \":\", value)"
   ]
  },
  {
   "cell_type": "markdown",
   "metadata": {
    "application/vnd.databricks.v1+cell": {
     "cellMetadata": {},
     "inputWidgets": {},
     "nuid": "c7b14471-223b-439f-9212-14985f92ee9f",
     "showTitle": false,
     "title": ""
    }
   },
   "source": [
    "## Evaluation"
   ]
  },
  {
   "cell_type": "code",
   "execution_count": 0,
   "metadata": {
    "application/vnd.databricks.v1+cell": {
     "cellMetadata": {
      "byteLimit": 2048000,
      "rowLimit": 10000
     },
     "inputWidgets": {},
     "nuid": "a9c2d444-9529-42df-9efb-a9665affad8e",
     "showTitle": false,
     "title": ""
    }
   },
   "outputs": [
    {
     "output_type": "stream",
     "name": "stdout",
     "output_type": "stream",
     "text": [
      "Root Mean Squared Error (RMSE) on test data: 99.76132813694421\n"
     ]
    }
   ],
   "source": [
    "# Make predictions on test data using the best model\n",
    "predictions = best_model.transform(test_data)\n",
    "\n",
    "\n",
    "# Evaluate the model on test data\n",
    "rmse = evaluator.evaluate(predictions)\n",
    "print(\"Root Mean Squared Error (RMSE) on test data:\", rmse)"
   ]
  },
  {
   "cell_type": "code",
   "execution_count": 0,
   "metadata": {
    "application/vnd.databricks.v1+cell": {
     "cellMetadata": {
      "byteLimit": 2048000,
      "rowLimit": 10000
     },
     "inputWidgets": {},
     "nuid": "0d4de2fc-2780-4805-81aa-5113ace22e45",
     "showTitle": false,
     "title": ""
    }
   },
   "outputs": [
    {
     "output_type": "stream",
     "name": "stdout",
     "output_type": "stream",
     "text": [
      "Max Depth: 2, Num Rounds: 10, RMSE: 123.15748505435097\nMax Depth: 2, Num Rounds: 20, RMSE: 114.07236266863148\nMax Depth: 4, Num Rounds: 10, RMSE: 104.58806592251128\nMax Depth: 4, Num Rounds: 20, RMSE: 99.42598478218939\n"
     ]
    }
   ],
   "source": [
    "# Assuming 'cvModel' is the fitted CrossValidator model\n",
    "avg_metrics = cvModel.avgMetrics  # This holds the average RMSE for each combination\n",
    "\n",
    "# Iterate over each combination of parameters and their corresponding metric\n",
    "for i, params in enumerate(paramGrid):\n",
    "    # Extract the specific parameters\n",
    "    max_depth = params[gbt.maxDepth]\n",
    "    num_round = params[gbt.maxIter]\n",
    "    rmse = avg_metrics[i]  # Assuming RMSE is the metric used in CrossValidator setup\n",
    "\n",
    "    # Print each combination with its RMSE\n",
    "    print(f\"Max Depth: {max_depth}, Num Rounds: {num_round}, RMSE: {rmse}\")"
   ]
  },
  {
   "cell_type": "markdown",
   "metadata": {
    "application/vnd.databricks.v1+cell": {
     "cellMetadata": {},
     "inputWidgets": {},
     "nuid": "be451578-a513-4396-a095-93d259ac5097",
     "showTitle": false,
     "title": ""
    }
   },
   "source": []
  },
  {
   "cell_type": "code",
   "execution_count": 0,
   "metadata": {
    "application/vnd.databricks.v1+cell": {
     "cellMetadata": {
      "byteLimit": 2048000,
      "rowLimit": 10000
     },
     "inputWidgets": {},
     "nuid": "7de7d5de-96c1-4c66-9a68-98e12a2207cd",
     "showTitle": false,
     "title": ""
    }
   },
   "outputs": [],
   "source": [
    "# Save the model to a specified path\n",
    "modelPath = \"/mnt/nguyen1/gbt_atl_model\"\n",
    "cvModel.save(modelPath)"
   ]
  },
  {
   "cell_type": "code",
   "execution_count": 0,
   "metadata": {
    "application/vnd.databricks.v1+cell": {
     "cellMetadata": {},
     "inputWidgets": {},
     "nuid": "c00ac64a-175c-40ae-ac60-7eec63563eb5",
     "showTitle": false,
     "title": ""
    }
   },
   "outputs": [],
   "source": []
  }
 ],
 "metadata": {
  "application/vnd.databricks.v1+notebook": {
   "dashboards": [],
   "language": "python",
   "notebookMetadata": {
    "pythonIndentUnit": 4
   },
   "notebookName": "gbt_model_tuning_ATL_",
   "widgets": {}
  },
  "kernelspec": {
   "display_name": "Python 3",
   "language": "python",
   "name": "python3"
  },
  "language_info": {
   "codemirror_mode": {
    "name": "ipython",
    "version": 3
   },
   "file_extension": ".py",
   "mimetype": "text/x-python",
   "name": "python",
   "nbconvert_exporter": "python",
   "pygments_lexer": "ipython3",
   "version": "3.10.8"
  }
 },
 "nbformat": 4,
 "nbformat_minor": 0
}
