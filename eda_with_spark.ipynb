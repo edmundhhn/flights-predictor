{
 "cells": [
  {
   "cell_type": "markdown",
   "id": "a75cb6fe-b848-46b8-ba76-9923a9aa2c5a",
   "metadata": {},
   "source": [
    "# Exploratory Data Analysis on Flights Data"
   ]
  },
  {
   "cell_type": "markdown",
   "id": "6c200b4d-6ff7-4d2a-a59a-301fe15b4c3f",
   "metadata": {},
   "source": [
    "___\n",
    "We conduct elementary EDA and analysis on our dataset. </br>\n",
    "We try to use Spark as much as possible, in line with the goals of this course. \n",
    "___"
   ]
  },
  {
   "cell_type": "code",
   "execution_count": 1,
   "id": "1685e63f-e5c8-46b2-988e-1cd230f3193e",
   "metadata": {},
   "outputs": [
    {
     "name": "stdout",
     "output_type": "stream",
     "text": [
      "Intel MKL WARNING: Support of Intel(R) Streaming SIMD Extensions 4.2 (Intel(R) SSE4.2) enabled only processors has been deprecated. Intel oneAPI Math Kernel Library 2025.0 will require Intel(R) Advanced Vector Extensions (Intel(R) AVX) instructions.\n",
      "Intel MKL WARNING: Support of Intel(R) Streaming SIMD Extensions 4.2 (Intel(R) SSE4.2) enabled only processors has been deprecated. Intel oneAPI Math Kernel Library 2025.0 will require Intel(R) Advanced Vector Extensions (Intel(R) AVX) instructions.\n"
     ]
    }
   ],
   "source": [
    "import pyspark\n",
    "import pandas as pd\n",
    "import matplotlib.pyplot as plt\n",
    "import seaborn as sns"
   ]
  },
  {
   "cell_type": "code",
   "execution_count": 2,
   "id": "4ceb2cf5-ad65-40f5-985c-3e0f6bfa4fac",
   "metadata": {},
   "outputs": [],
   "source": [
    "from pyspark.sql import SparkSession\n",
    "from pyspark.sql.functions import col, skewness, kurtosis\n",
    "from pyspark.ml.feature import VectorAssembler\n",
    "from pyspark.ml.stat import Correlation"
   ]
  },
  {
   "cell_type": "code",
   "execution_count": 3,
   "id": "92c4b816-bb4b-47d7-8b14-3711a041e350",
   "metadata": {},
   "outputs": [
    {
     "name": "stderr",
     "output_type": "stream",
     "text": [
      "24/03/16 16:37:03 WARN Utils: Your hostname, Edmunds-MacBook-Air.local resolves to a loopback address: 127.0.0.1; using 192.168.5.45 instead (on interface en0)\n",
      "24/03/16 16:37:03 WARN Utils: Set SPARK_LOCAL_IP if you need to bind to another address\n",
      "Setting default log level to \"WARN\".\n",
      "To adjust logging level use sc.setLogLevel(newLevel). For SparkR, use setLogLevel(newLevel).\n",
      "24/03/16 16:37:04 WARN NativeCodeLoader: Unable to load native-hadoop library for your platform... using builtin-java classes where applicable\n"
     ]
    }
   ],
   "source": [
    "spark = SparkSession.builder.appName(\"flights\").getOrCreate()"
   ]
  },
  {
   "cell_type": "code",
   "execution_count": 4,
   "id": "904a7b25-58ef-4647-a842-57fe84f6210e",
   "metadata": {},
   "outputs": [
    {
     "data": {
      "text/html": [
       "\n",
       "            <div>\n",
       "                <p><b>SparkSession - in-memory</b></p>\n",
       "                \n",
       "        <div>\n",
       "            <p><b>SparkContext</b></p>\n",
       "\n",
       "            <p><a href=\"http://192.168.5.45:4040\">Spark UI</a></p>\n",
       "\n",
       "            <dl>\n",
       "              <dt>Version</dt>\n",
       "                <dd><code>v3.5.1</code></dd>\n",
       "              <dt>Master</dt>\n",
       "                <dd><code>local[*]</code></dd>\n",
       "              <dt>AppName</dt>\n",
       "                <dd><code>flights</code></dd>\n",
       "            </dl>\n",
       "        </div>\n",
       "        \n",
       "            </div>\n",
       "        "
      ],
      "text/plain": [
       "<pyspark.sql.session.SparkSession at 0x131793680>"
      ]
     },
     "execution_count": 4,
     "metadata": {},
     "output_type": "execute_result"
    }
   ],
   "source": [
    "spark"
   ]
  },
  {
   "cell_type": "markdown",
   "id": "9174f35f-5baa-48b1-a4ef-ea735dde3437",
   "metadata": {},
   "source": [
    "## Load in Data and Perform Elementary Analysis"
   ]
  },
  {
   "cell_type": "markdown",
   "id": "74d5878c-4383-4af7-b580-7279d994393e",
   "metadata": {},
   "source": [
    "If running locally, the filepath may be too big to unzip to your local computer, instead use the following command\n",
    "\n",
    "```\n",
    "!unzip -p itineraries.zip itineraries.csv | head -n 10000 > itineraries.csv\n",
    "```"
   ]
  },
  {
   "cell_type": "code",
   "execution_count": 5,
   "id": "14ac3b8f-c0dc-4564-bb0d-db2a2da5a814",
   "metadata": {},
   "outputs": [],
   "source": [
    "# REPLACE WITH DATA FILEPATH\n",
    "DATA_PATH = \"../data/itineraries.csv\""
   ]
  },
  {
   "cell_type": "code",
   "execution_count": 6,
   "id": "02c02166-3de2-4f7c-92d9-bc2dd473888a",
   "metadata": {},
   "outputs": [
    {
     "name": "stderr",
     "output_type": "stream",
     "text": [
      "                                                                                \r"
     ]
    }
   ],
   "source": [
    "# Load both spark and pandas versions of the dataframe\n",
    "df = spark.read.csv(DATA_PATH, header=True, inferSchema=True)\n",
    "df_pd = pd.read_csv(DATA_PATH)"
   ]
  },
  {
   "cell_type": "code",
   "execution_count": 7,
   "id": "8a8ad1b5-fe21-434f-8a5b-9fbb0b935866",
   "metadata": {},
   "outputs": [
    {
     "name": "stdout",
     "output_type": "stream",
     "text": [
      "The data contains 9999 rows and 27 columns\n"
     ]
    }
   ],
   "source": [
    "print(f\"The data contains {df.count()} rows and {len(df.columns)} columns\")"
   ]
  },
  {
   "cell_type": "code",
   "execution_count": 8,
   "id": "e0d16804-fe24-4589-8c50-d656bc34e61c",
   "metadata": {},
   "outputs": [
    {
     "data": {
      "text/plain": [
       "['legId',\n",
       " 'searchDate',\n",
       " 'flightDate',\n",
       " 'startingAirport',\n",
       " 'destinationAirport',\n",
       " 'fareBasisCode',\n",
       " 'travelDuration',\n",
       " 'elapsedDays',\n",
       " 'isBasicEconomy',\n",
       " 'isRefundable',\n",
       " 'isNonStop',\n",
       " 'baseFare',\n",
       " 'totalFare',\n",
       " 'seatsRemaining',\n",
       " 'totalTravelDistance',\n",
       " 'segmentsDepartureTimeEpochSeconds',\n",
       " 'segmentsDepartureTimeRaw',\n",
       " 'segmentsArrivalTimeEpochSeconds',\n",
       " 'segmentsArrivalTimeRaw',\n",
       " 'segmentsArrivalAirportCode',\n",
       " 'segmentsDepartureAirportCode',\n",
       " 'segmentsAirlineName',\n",
       " 'segmentsAirlineCode',\n",
       " 'segmentsEquipmentDescription',\n",
       " 'segmentsDurationInSeconds',\n",
       " 'segmentsDistance',\n",
       " 'segmentsCabinCode']"
      ]
     },
     "execution_count": 8,
     "metadata": {},
     "output_type": "execute_result"
    }
   ],
   "source": [
    "df.columns"
   ]
  },
  {
   "cell_type": "code",
   "execution_count": 9,
   "id": "9a5ea49c-20b3-4c93-805a-2cc82b1c6abc",
   "metadata": {},
   "outputs": [
    {
     "name": "stdout",
     "output_type": "stream",
     "text": [
      "+--------------------+----------+----------+---------------+------------------+-------------+\n",
      "|               legId|searchDate|flightDate|startingAirport|destinationAirport|fareBasisCode|\n",
      "+--------------------+----------+----------+---------------+------------------+-------------+\n",
      "|9ca0e81111c683bec...|2022-04-16|2022-04-17|            ATL|               BOS|     LA0NX0MC|\n",
      "|98685953630e772a0...|2022-04-16|2022-04-17|            ATL|               BOS|     LA0NX0MC|\n",
      "|98d90cbc32bfbb05c...|2022-04-16|2022-04-17|            ATL|               BOS|     LA0NX0MC|\n",
      "|969a269d38eae583f...|2022-04-16|2022-04-17|            ATL|               BOS|     LA0NX0MC|\n",
      "|980370cf27c89b40d...|2022-04-16|2022-04-17|            ATL|               BOS|     LA0NX0MC|\n",
      "|79eda9f841e226a1e...|2022-04-16|2022-04-17|            ATL|               BOS|     VH0AUEL1|\n",
      "|9335fae376c38bb61...|2022-04-16|2022-04-17|            ATL|               BOS|     V0AJZNN1|\n",
      "|3904bf87f2d1daf33...|2022-04-16|2022-04-17|            ATL|               BOS|     V0AJZNN1|\n",
      "|d93988734c44a3c07...|2022-04-16|2022-04-17|            ATL|               BOS|     V0AJZNN1|\n",
      "|562e7d5dd6ecbf150...|2022-04-16|2022-04-17|            ATL|               BOS|     V0AJZNN1|\n",
      "|c38a6e4b807d15541...|2022-04-16|2022-04-17|            ATL|               BOS|     VAA0AKEN|\n",
      "|f66d72ba3a5265766...|2022-04-16|2022-04-17|            ATL|               BOS|     V0AJZNN1|\n",
      "|e7c4054e85cca9bc7...|2022-04-16|2022-04-17|            ATL|               BOS|     V0AJZNN1|\n",
      "|5fa8c0f8b25eb24bf...|2022-04-16|2022-04-17|            ATL|               BOS|     V0AJZNN1|\n",
      "|948d26b3e5658762c...|2022-04-16|2022-04-17|            ATL|               BOS|     VAA0AKEN|\n",
      "|cb345693479e84838...|2022-04-16|2022-04-17|            ATL|               BOS|          VNR|\n",
      "|e1b95e4e6c997517f...|2022-04-16|2022-04-17|            ATL|               BOS|     KH0AUEY5|\n",
      "|eaf033a044596f0a7...|2022-04-16|2022-04-17|            ATL|               BOS|     L0AJZNN1|\n",
      "|721d9a2f66fe479e7...|2022-04-16|2022-04-17|            ATL|               BOS|     L0AJZNN1|\n",
      "|a9f012defb9227f69...|2022-04-16|2022-04-17|            ATL|               BOS|     L0AJZNN1|\n",
      "+--------------------+----------+----------+---------------+------------------+-------------+\n",
      "only showing top 20 rows\n",
      "\n",
      "+--------------+-----------+--------------+------------+---------+--------+\n",
      "|travelDuration|elapsedDays|isBasicEconomy|isRefundable|isNonStop|baseFare|\n",
      "+--------------+-----------+--------------+------------+---------+--------+\n",
      "|       PT2H29M|          0|         false|       false|     true|  217.67|\n",
      "|       PT2H30M|          0|         false|       false|     true|  217.67|\n",
      "|       PT2H30M|          0|         false|       false|     true|  217.67|\n",
      "|       PT2H32M|          0|         false|       false|     true|  217.67|\n",
      "|       PT2H34M|          0|         false|       false|     true|  217.67|\n",
      "|       PT2H38M|          0|         false|       false|     true|  217.67|\n",
      "|       PT4H12M|          0|         false|       false|    false|  213.02|\n",
      "|       PT5H18M|          0|         false|       false|    false|  213.02|\n",
      "|       PT5H32M|          0|         false|       false|    false|  213.02|\n",
      "|       PT6H38M|          0|         false|       false|    false|  213.02|\n",
      "|       PT4H46M|          0|         false|       false|    false|  213.02|\n",
      "|       PT5H45M|          0|         false|       false|    false|  213.02|\n",
      "|       PT5H59M|          0|         false|       false|    false|  213.02|\n",
      "|       PT7H18M|          0|         false|       false|    false|  213.02|\n",
      "|       PT8H10M|          0|         false|       false|    false|  213.02|\n",
      "|       PT5H39M|          0|         false|       false|    false|   183.0|\n",
      "|       PT2H38M|          0|         false|       false|     true|  265.58|\n",
      "|       PT4H17M|          0|         false|       false|    false|  260.47|\n",
      "|       PT4H36M|          0|         false|       false|    false|  260.47|\n",
      "|       PT4H45M|          0|         false|       false|    false|  260.47|\n",
      "+--------------+-----------+--------------+------------+---------+--------+\n",
      "only showing top 20 rows\n",
      "\n",
      "+---------+--------------+-------------------+---------------------------------+------------------------+-------------------------------+\n",
      "|totalFare|seatsRemaining|totalTravelDistance|segmentsDepartureTimeEpochSeconds|segmentsDepartureTimeRaw|segmentsArrivalTimeEpochSeconds|\n",
      "+---------+--------------+-------------------+---------------------------------+------------------------+-------------------------------+\n",
      "|    248.6|             9|                947|                       1650214620|    2022-04-17T12:57:...|                     1650223560|\n",
      "|    248.6|             4|                947|                       1650191400|    2022-04-17T06:30:...|                     1650200400|\n",
      "|    248.6|             9|                947|                       1650209700|    2022-04-17T11:35:...|                     1650218700|\n",
      "|    248.6|             8|                947|                       1650218340|    2022-04-17T13:59:...|                     1650227460|\n",
      "|    248.6|             9|                947|                       1650203940|    2022-04-17T09:59:...|                     1650213180|\n",
      "|    248.6|             7|                947|                       1650206700|    2022-04-17T10:45:...|                     1650216180|\n",
      "|    251.1|             3|                956|             1650198000||16502...|    2022-04-17T08:20:...|           1650203400||16502...|\n",
      "|    251.1|             3|                956|             1650198000||16502...|    2022-04-17T08:20:...|           1650203400||16502...|\n",
      "|    251.1|             7|                956|             1650193200||16502...|    2022-04-17T07:00:...|           1650198060||16502...|\n",
      "|    251.1|             7|                956|             1650193200||16502...|    2022-04-17T07:00:...|           1650198060||16502...|\n",
      "|    252.6|             1|                947|             1650187800||16501...|    2022-04-17T05:30:...|           1650194280||16502...|\n",
      "|    252.6|             3|               1462|             1650220740||16502...|    2022-04-17T14:39:...|           1650228840||16502...|\n",
      "|    252.6|             5|               1462|             1650232800||16502...|    2022-04-17T18:00:...|           1650240660||16502...|\n",
      "|    252.6|             3|               1462|             1650220740||16502...|    2022-04-17T14:39:...|           1650228840||16502...|\n",
      "|    252.6|             2|               1462|             1650190200||16502...|    2022-04-17T06:10:...|           1650198000||16502...|\n",
      "|   290.58|             0|               NULL|             1650187560||16501...|    2022-04-17T05:26:...|           1650194400||16502...|\n",
      "|    300.1|             7|                947|                       1650206700|    2022-04-17T10:45:...|                     1650216180|\n",
      "|   302.11|             1|                956|             1650233700||16502...|    2022-04-17T18:15:...|           1650238620||16502...|\n",
      "|   302.11|             1|                956|             1650207720||16502...|    2022-04-17T11:02:...|           1650212880||16502...|\n",
      "|   302.11|             1|                956|             1650226680||16502...|    2022-04-17T16:18:...|           1650230760||16502...|\n",
      "+---------+--------------+-------------------+---------------------------------+------------------------+-------------------------------+\n",
      "only showing top 20 rows\n",
      "\n",
      "+----------------------+--------------------------+----------------------------+--------------------+-------------------+----------------------------+\n",
      "|segmentsArrivalTimeRaw|segmentsArrivalAirportCode|segmentsDepartureAirportCode| segmentsAirlineName|segmentsAirlineCode|segmentsEquipmentDescription|\n",
      "+----------------------+--------------------------+----------------------------+--------------------+-------------------+----------------------------+\n",
      "|  2022-04-17T15:26:...|                       BOS|                         ATL|               Delta|                 DL|                 Airbus A321|\n",
      "|  2022-04-17T09:00:...|                       BOS|                         ATL|               Delta|                 DL|                 Airbus A321|\n",
      "|  2022-04-17T14:05:...|                       BOS|                         ATL|               Delta|                 DL|              Boeing 757-200|\n",
      "|  2022-04-17T16:31:...|                       BOS|                         ATL|               Delta|                 DL|                 Airbus A321|\n",
      "|  2022-04-17T12:33:...|                       BOS|                         ATL|               Delta|                 DL|                 Airbus A321|\n",
      "|  2022-04-17T13:23:...|                       BOS|                         ATL|     JetBlue Airways|                 B6|                        NULL|\n",
      "|  2022-04-17T09:50:...|                  CLT||BOS|                    ATL||CLT|American Airlines...|             AA||AA|        Airbus A320||Airb...|\n",
      "|  2022-04-17T09:50:...|                  CLT||BOS|                    ATL||CLT|American Airlines...|             AA||AA|        Airbus A320||Boei...|\n",
      "|  2022-04-17T08:21:...|                  CLT||BOS|                    ATL||CLT|American Airlines...|             AA||AA|        Airbus A319||Airb...|\n",
      "|  2022-04-17T08:21:...|                  CLT||BOS|                    ATL||CLT|American Airlines...|             AA||AA|        Airbus A319||Boei...|\n",
      "|  2022-04-17T07:18:...|                  IAD||BOS|                    ATL||IAD|      United||United|             UA||UA|        Airbus A319||Boei...|\n",
      "|  2022-04-17T15:54:...|                  ORD||BOS|                    ATL||ORD|American Airlines...|             AA||AA|        Embraer 175||Boei...|\n",
      "|  2022-04-17T19:11:...|                  ORD||BOS|                    ATL||ORD|American Airlines...|             AA||AA|        Embraer 175||Boei...|\n",
      "|  2022-04-17T15:54:...|                  ORD||BOS|                    ATL||ORD|American Airlines...|             AA||AA|        Embraer 175||Airb...|\n",
      "|  2022-04-17T07:20:...|                  ORD||BOS|                    ATL||ORD|      United||United|             UA||UA|        Embraer 175 (Enha...|\n",
      "|  2022-04-17T07:20:...|                  FLL||BOS|                    ATL||FLL|Spirit Airlines||...|             NK||NK|        AIRBUS INDUSTRIE ...|\n",
      "|  2022-04-17T13:23:...|                       BOS|                         ATL|   American Airlines|                 AA|                        NULL|\n",
      "|  2022-04-17T19:37:...|                  CLT||BOS|                    ATL||CLT|American Airlines...|             AA||AA|        Canadian Regional...|\n",
      "|  2022-04-17T12:28:...|                  CLT||BOS|                    ATL||CLT|American Airlines...|             AA||AA|        Canadair Regional...|\n",
      "|  2022-04-17T17:26:...|                  CLT||BOS|                    ATL||CLT|American Airlines...|             AA||AA|        Airbus A319||Boei...|\n",
      "+----------------------+--------------------------+----------------------------+--------------------+-------------------+----------------------------+\n",
      "only showing top 20 rows\n",
      "\n",
      "+-------------------------+----------------+-----------------+\n",
      "|segmentsDurationInSeconds|segmentsDistance|segmentsCabinCode|\n",
      "+-------------------------+----------------+-----------------+\n",
      "|                     8940|             947|            coach|\n",
      "|                     9000|             947|            coach|\n",
      "|                     9000|             947|            coach|\n",
      "|                     9120|             947|            coach|\n",
      "|                     9240|             947|            coach|\n",
      "|                     9480|             947|            coach|\n",
      "|               5400||7500|        228||728|     coach||coach|\n",
      "|               5400||8280|        228||728|     coach||coach|\n",
      "|               4860||7500|        228||728|     coach||coach|\n",
      "|               4860||8280|        228||728|     coach||coach|\n",
      "|               6480||5940|        541||406|     coach||coach|\n",
      "|               8100||8340|        600||862|     coach||coach|\n",
      "|               7860||8640|        600||862|     coach||coach|\n",
      "|               8100||7920|        600||862|     coach||coach|\n",
      "|               7800||8640|        600||862|     coach||coach|\n",
      "|              6840||11100|      None||None|     coach||coach|\n",
      "|                     9480|             947|            coach|\n",
      "|               4920||7620|        228||728|     coach||coach|\n",
      "|               5160||7860|        228||728|     coach||coach|\n",
      "|               4080||7860|        228||728|     coach||coach|\n",
      "+-------------------------+----------------+-----------------+\n",
      "only showing top 20 rows\n",
      "\n"
     ]
    }
   ],
   "source": [
    "# Too messy to use df.show() directly, lets look at it 6 columns at a time\n",
    "def chunks(lst, n):\n",
    "    \"\"\"Yield successive n-sized chunks from lst.\"\"\"\n",
    "    for i in range(0, len(lst), n):\n",
    "        yield lst[i:i + n]\n",
    "\n",
    "for chunk in chunks(df.columns, 6):\n",
    "    df.select(chunk).show()"
   ]
  },
  {
   "cell_type": "code",
   "execution_count": 10,
   "id": "38d28e36-3532-4f20-8c8f-ba99c4101347",
   "metadata": {},
   "outputs": [
    {
     "name": "stdout",
     "output_type": "stream",
     "text": [
      "root\n",
      " |-- legId: string (nullable = true)\n",
      " |-- searchDate: date (nullable = true)\n",
      " |-- flightDate: date (nullable = true)\n",
      " |-- startingAirport: string (nullable = true)\n",
      " |-- destinationAirport: string (nullable = true)\n",
      " |-- fareBasisCode: string (nullable = true)\n",
      " |-- travelDuration: string (nullable = true)\n",
      " |-- elapsedDays: integer (nullable = true)\n",
      " |-- isBasicEconomy: boolean (nullable = true)\n",
      " |-- isRefundable: boolean (nullable = true)\n",
      " |-- isNonStop: boolean (nullable = true)\n",
      " |-- baseFare: double (nullable = true)\n",
      " |-- totalFare: double (nullable = true)\n",
      " |-- seatsRemaining: integer (nullable = true)\n",
      " |-- totalTravelDistance: integer (nullable = true)\n",
      " |-- segmentsDepartureTimeEpochSeconds: string (nullable = true)\n",
      " |-- segmentsDepartureTimeRaw: string (nullable = true)\n",
      " |-- segmentsArrivalTimeEpochSeconds: string (nullable = true)\n",
      " |-- segmentsArrivalTimeRaw: string (nullable = true)\n",
      " |-- segmentsArrivalAirportCode: string (nullable = true)\n",
      " |-- segmentsDepartureAirportCode: string (nullable = true)\n",
      " |-- segmentsAirlineName: string (nullable = true)\n",
      " |-- segmentsAirlineCode: string (nullable = true)\n",
      " |-- segmentsEquipmentDescription: string (nullable = true)\n",
      " |-- segmentsDurationInSeconds: string (nullable = true)\n",
      " |-- segmentsDistance: string (nullable = true)\n",
      " |-- segmentsCabinCode: string (nullable = true)\n",
      "\n"
     ]
    }
   ],
   "source": [
    "# look at the schema\n",
    "df.printSchema()"
   ]
  },
  {
   "cell_type": "code",
   "execution_count": 11,
   "id": "dfb653a3-2779-450b-94be-671bd83d6d10",
   "metadata": {},
   "outputs": [
    {
     "name": "stdout",
     "output_type": "stream",
     "text": [
      "rows = 9999, columns = 27\n"
     ]
    }
   ],
   "source": [
    "# rows and columns\n",
    "print(f\"rows = {df.count()}, columns = {len(df.columns)}\")"
   ]
  },
  {
   "cell_type": "code",
   "execution_count": 12,
   "id": "9d622b5f-e3ed-4796-95dc-8ab8af86d2ae",
   "metadata": {},
   "outputs": [
    {
     "name": "stdout",
     "output_type": "stream",
     "text": [
      "+--------------------+----------+----------+---------------+------------------+\n",
      "|               legId|searchDate|flightDate|startingAirport|destinationAirport|\n",
      "+--------------------+----------+----------+---------------+------------------+\n",
      "|9ca0e81111c683bec...|2022-04-16|2022-04-17|            ATL|               BOS|\n",
      "|98685953630e772a0...|2022-04-16|2022-04-17|            ATL|               BOS|\n",
      "|98d90cbc32bfbb05c...|2022-04-16|2022-04-17|            ATL|               BOS|\n",
      "|969a269d38eae583f...|2022-04-16|2022-04-17|            ATL|               BOS|\n",
      "|980370cf27c89b40d...|2022-04-16|2022-04-17|            ATL|               BOS|\n",
      "|79eda9f841e226a1e...|2022-04-16|2022-04-17|            ATL|               BOS|\n",
      "|9335fae376c38bb61...|2022-04-16|2022-04-17|            ATL|               BOS|\n",
      "|3904bf87f2d1daf33...|2022-04-16|2022-04-17|            ATL|               BOS|\n",
      "|d93988734c44a3c07...|2022-04-16|2022-04-17|            ATL|               BOS|\n",
      "|562e7d5dd6ecbf150...|2022-04-16|2022-04-17|            ATL|               BOS|\n",
      "|c38a6e4b807d15541...|2022-04-16|2022-04-17|            ATL|               BOS|\n",
      "|f66d72ba3a5265766...|2022-04-16|2022-04-17|            ATL|               BOS|\n",
      "|e7c4054e85cca9bc7...|2022-04-16|2022-04-17|            ATL|               BOS|\n",
      "|5fa8c0f8b25eb24bf...|2022-04-16|2022-04-17|            ATL|               BOS|\n",
      "|948d26b3e5658762c...|2022-04-16|2022-04-17|            ATL|               BOS|\n",
      "|cb345693479e84838...|2022-04-16|2022-04-17|            ATL|               BOS|\n",
      "|e1b95e4e6c997517f...|2022-04-16|2022-04-17|            ATL|               BOS|\n",
      "|eaf033a044596f0a7...|2022-04-16|2022-04-17|            ATL|               BOS|\n",
      "|721d9a2f66fe479e7...|2022-04-16|2022-04-17|            ATL|               BOS|\n",
      "|a9f012defb9227f69...|2022-04-16|2022-04-17|            ATL|               BOS|\n",
      "+--------------------+----------+----------+---------------+------------------+\n",
      "only showing top 20 rows\n",
      "\n"
     ]
    }
   ],
   "source": [
    "# Select Essential Information\n",
    "df.select([\"legId\",\"searchDate\",\"flightDate\",\"startingAirport\",\"destinationAirport\"]).show()"
   ]
  },
  {
   "cell_type": "markdown",
   "id": "8a79925b-942e-4fcf-9d3d-b57887c7ae2a",
   "metadata": {},
   "source": [
    "## NA Analysis"
   ]
  },
  {
   "cell_type": "code",
   "execution_count": 13,
   "id": "e77195f1-de13-4911-be80-9c6052253f00",
   "metadata": {},
   "outputs": [],
   "source": [
    "na_data = [(column, df.filter(col(column).isNull()).count(), df.filter(col(column).isNull()).count()/df.count()*100) for column in df.columns]"
   ]
  },
  {
   "cell_type": "code",
   "execution_count": 14,
   "id": "57130131-d3d6-4e21-a77d-601a83273ae1",
   "metadata": {},
   "outputs": [
    {
     "data": {
      "text/html": [
       "<div>\n",
       "<style scoped>\n",
       "    .dataframe tbody tr th:only-of-type {\n",
       "        vertical-align: middle;\n",
       "    }\n",
       "\n",
       "    .dataframe tbody tr th {\n",
       "        vertical-align: top;\n",
       "    }\n",
       "\n",
       "    .dataframe thead th {\n",
       "        text-align: right;\n",
       "    }\n",
       "</style>\n",
       "<table border=\"1\" class=\"dataframe\">\n",
       "  <thead>\n",
       "    <tr style=\"text-align: right;\">\n",
       "      <th></th>\n",
       "      <th>colname</th>\n",
       "      <th>num_na</th>\n",
       "      <th>percentage_na</th>\n",
       "    </tr>\n",
       "  </thead>\n",
       "  <tbody>\n",
       "    <tr>\n",
       "      <th>0</th>\n",
       "      <td>legId</td>\n",
       "      <td>0</td>\n",
       "      <td>0.000000</td>\n",
       "    </tr>\n",
       "    <tr>\n",
       "      <th>1</th>\n",
       "      <td>searchDate</td>\n",
       "      <td>0</td>\n",
       "      <td>0.000000</td>\n",
       "    </tr>\n",
       "    <tr>\n",
       "      <th>2</th>\n",
       "      <td>flightDate</td>\n",
       "      <td>0</td>\n",
       "      <td>0.000000</td>\n",
       "    </tr>\n",
       "    <tr>\n",
       "      <th>3</th>\n",
       "      <td>startingAirport</td>\n",
       "      <td>0</td>\n",
       "      <td>0.000000</td>\n",
       "    </tr>\n",
       "    <tr>\n",
       "      <th>4</th>\n",
       "      <td>destinationAirport</td>\n",
       "      <td>0</td>\n",
       "      <td>0.000000</td>\n",
       "    </tr>\n",
       "    <tr>\n",
       "      <th>5</th>\n",
       "      <td>fareBasisCode</td>\n",
       "      <td>0</td>\n",
       "      <td>0.000000</td>\n",
       "    </tr>\n",
       "    <tr>\n",
       "      <th>6</th>\n",
       "      <td>travelDuration</td>\n",
       "      <td>0</td>\n",
       "      <td>0.000000</td>\n",
       "    </tr>\n",
       "    <tr>\n",
       "      <th>7</th>\n",
       "      <td>elapsedDays</td>\n",
       "      <td>0</td>\n",
       "      <td>0.000000</td>\n",
       "    </tr>\n",
       "    <tr>\n",
       "      <th>8</th>\n",
       "      <td>isBasicEconomy</td>\n",
       "      <td>0</td>\n",
       "      <td>0.000000</td>\n",
       "    </tr>\n",
       "    <tr>\n",
       "      <th>9</th>\n",
       "      <td>isRefundable</td>\n",
       "      <td>0</td>\n",
       "      <td>0.000000</td>\n",
       "    </tr>\n",
       "    <tr>\n",
       "      <th>10</th>\n",
       "      <td>isNonStop</td>\n",
       "      <td>0</td>\n",
       "      <td>0.000000</td>\n",
       "    </tr>\n",
       "    <tr>\n",
       "      <th>11</th>\n",
       "      <td>baseFare</td>\n",
       "      <td>0</td>\n",
       "      <td>0.000000</td>\n",
       "    </tr>\n",
       "    <tr>\n",
       "      <th>12</th>\n",
       "      <td>totalFare</td>\n",
       "      <td>0</td>\n",
       "      <td>0.000000</td>\n",
       "    </tr>\n",
       "    <tr>\n",
       "      <th>13</th>\n",
       "      <td>seatsRemaining</td>\n",
       "      <td>0</td>\n",
       "      <td>0.000000</td>\n",
       "    </tr>\n",
       "    <tr>\n",
       "      <th>14</th>\n",
       "      <td>totalTravelDistance</td>\n",
       "      <td>386</td>\n",
       "      <td>3.860386</td>\n",
       "    </tr>\n",
       "    <tr>\n",
       "      <th>15</th>\n",
       "      <td>segmentsDepartureTimeEpochSeconds</td>\n",
       "      <td>0</td>\n",
       "      <td>0.000000</td>\n",
       "    </tr>\n",
       "    <tr>\n",
       "      <th>16</th>\n",
       "      <td>segmentsDepartureTimeRaw</td>\n",
       "      <td>0</td>\n",
       "      <td>0.000000</td>\n",
       "    </tr>\n",
       "    <tr>\n",
       "      <th>17</th>\n",
       "      <td>segmentsArrivalTimeEpochSeconds</td>\n",
       "      <td>0</td>\n",
       "      <td>0.000000</td>\n",
       "    </tr>\n",
       "    <tr>\n",
       "      <th>18</th>\n",
       "      <td>segmentsArrivalTimeRaw</td>\n",
       "      <td>0</td>\n",
       "      <td>0.000000</td>\n",
       "    </tr>\n",
       "    <tr>\n",
       "      <th>19</th>\n",
       "      <td>segmentsArrivalAirportCode</td>\n",
       "      <td>0</td>\n",
       "      <td>0.000000</td>\n",
       "    </tr>\n",
       "    <tr>\n",
       "      <th>20</th>\n",
       "      <td>segmentsDepartureAirportCode</td>\n",
       "      <td>0</td>\n",
       "      <td>0.000000</td>\n",
       "    </tr>\n",
       "    <tr>\n",
       "      <th>21</th>\n",
       "      <td>segmentsAirlineName</td>\n",
       "      <td>0</td>\n",
       "      <td>0.000000</td>\n",
       "    </tr>\n",
       "    <tr>\n",
       "      <th>22</th>\n",
       "      <td>segmentsAirlineCode</td>\n",
       "      <td>0</td>\n",
       "      <td>0.000000</td>\n",
       "    </tr>\n",
       "    <tr>\n",
       "      <th>23</th>\n",
       "      <td>segmentsEquipmentDescription</td>\n",
       "      <td>165</td>\n",
       "      <td>1.650165</td>\n",
       "    </tr>\n",
       "    <tr>\n",
       "      <th>24</th>\n",
       "      <td>segmentsDurationInSeconds</td>\n",
       "      <td>0</td>\n",
       "      <td>0.000000</td>\n",
       "    </tr>\n",
       "    <tr>\n",
       "      <th>25</th>\n",
       "      <td>segmentsDistance</td>\n",
       "      <td>0</td>\n",
       "      <td>0.000000</td>\n",
       "    </tr>\n",
       "    <tr>\n",
       "      <th>26</th>\n",
       "      <td>segmentsCabinCode</td>\n",
       "      <td>0</td>\n",
       "      <td>0.000000</td>\n",
       "    </tr>\n",
       "  </tbody>\n",
       "</table>\n",
       "</div>"
      ],
      "text/plain": [
       "                              colname  num_na  percentage_na\n",
       "0                               legId       0       0.000000\n",
       "1                          searchDate       0       0.000000\n",
       "2                          flightDate       0       0.000000\n",
       "3                     startingAirport       0       0.000000\n",
       "4                  destinationAirport       0       0.000000\n",
       "5                       fareBasisCode       0       0.000000\n",
       "6                      travelDuration       0       0.000000\n",
       "7                         elapsedDays       0       0.000000\n",
       "8                      isBasicEconomy       0       0.000000\n",
       "9                        isRefundable       0       0.000000\n",
       "10                          isNonStop       0       0.000000\n",
       "11                           baseFare       0       0.000000\n",
       "12                          totalFare       0       0.000000\n",
       "13                     seatsRemaining       0       0.000000\n",
       "14                totalTravelDistance     386       3.860386\n",
       "15  segmentsDepartureTimeEpochSeconds       0       0.000000\n",
       "16           segmentsDepartureTimeRaw       0       0.000000\n",
       "17    segmentsArrivalTimeEpochSeconds       0       0.000000\n",
       "18             segmentsArrivalTimeRaw       0       0.000000\n",
       "19         segmentsArrivalAirportCode       0       0.000000\n",
       "20       segmentsDepartureAirportCode       0       0.000000\n",
       "21                segmentsAirlineName       0       0.000000\n",
       "22                segmentsAirlineCode       0       0.000000\n",
       "23       segmentsEquipmentDescription     165       1.650165\n",
       "24          segmentsDurationInSeconds       0       0.000000\n",
       "25                   segmentsDistance       0       0.000000\n",
       "26                  segmentsCabinCode       0       0.000000"
      ]
     },
     "execution_count": 14,
     "metadata": {},
     "output_type": "execute_result"
    }
   ],
   "source": [
    "pd.DataFrame(na_data, columns=[\"colname\", \"num_na\", \"percentage_na\"])"
   ]
  },
  {
   "cell_type": "markdown",
   "id": "12f9dc4f-f697-4446-a1dd-514a387155df",
   "metadata": {},
   "source": [
    "Pretty good, only two columns with data missing... what is happening with the missing values?"
   ]
  },
  {
   "cell_type": "markdown",
   "id": "648d2323-a60f-4712-aa5e-63c5aac863c7",
   "metadata": {},
   "source": [
    "### totalTravelDistance"
   ]
  },
  {
   "cell_type": "code",
   "execution_count": 44,
   "id": "78be9fb0-e417-4ba2-be5d-64f0b4309d35",
   "metadata": {},
   "outputs": [],
   "source": [
    "na_dist = df.filter(col(\"totalTravelDistance\").isNull()).select([\"legId\",\"searchDate\",\"flightDate\",\"startingAirport\",\"destinationAirport\", \"travelDuration\",\"totalTravelDistance\", \"segmentsAirlineCode\"])"
   ]
  },
  {
   "cell_type": "code",
   "execution_count": 45,
   "id": "37ae1c58-d74e-4151-b191-aeff7fd3cd04",
   "metadata": {},
   "outputs": [
    {
     "name": "stdout",
     "output_type": "stream",
     "text": [
      "+--------------------+----------+----------+---------------+------------------+--------------+-------------------+-------------------+\n",
      "|               legId|searchDate|flightDate|startingAirport|destinationAirport|travelDuration|totalTravelDistance|segmentsAirlineCode|\n",
      "+--------------------+----------+----------+---------------+------------------+--------------+-------------------+-------------------+\n",
      "|cb345693479e84838...|2022-04-16|2022-04-17|            ATL|               BOS|       PT5H39M|               NULL|             NK||NK|\n",
      "|912ef0fbca3f88a86...|2022-04-16|2022-04-17|            ATL|               BOS|      PT12H19M|               NULL|             NK||NK|\n",
      "|688b7651cc04606ca...|2022-04-16|2022-04-17|            ATL|               DEN|      PT10H32M|               NULL|             NK||NK|\n",
      "|38b144ce2e6a6f0e2...|2022-04-16|2022-04-17|            ATL|               DEN|       PT8H28M|               NULL|             NK||NK|\n",
      "|aa5c91b3ac52f2ee6...|2022-04-16|2022-04-17|            ATL|               DEN|       PT11H6M|               NULL|             NK||NK|\n",
      "|b8632c8d6306eefa0...|2022-04-16|2022-04-17|            ATL|               DFW|       PT2H30M|               NULL|                 NK|\n",
      "|eee2ae5e5875b68d3...|2022-04-16|2022-04-17|            ATL|               DFW|       PT6H13M|               NULL|             NK||NK|\n",
      "|485c56468143b9dd4...|2022-04-16|2022-04-17|            ATL|               DFW|      PT10H58M|               NULL|             NK||NK|\n",
      "|80d7a9d00fbcdd1aa...|2022-04-16|2022-04-17|            ATL|               DFW|      PT12H37M|               NULL|             NK||NK|\n",
      "|3081de76f59d5de85...|2022-04-16|2022-04-17|            ATL|               DFW|       PT5H51M|               NULL|             NK||NK|\n",
      "|2976ef90a45b0ac42...|2022-04-16|2022-04-17|            ATL|               DFW|       PT9H19M|               NULL|             NK||NK|\n",
      "|5063dd3d8bd9f57d7...|2022-04-16|2022-04-17|            ATL|               DTW|       PT1H57M|               NULL|                 NK|\n",
      "|ce8feb4a62bd9e978...|2022-04-16|2022-04-17|            ATL|               DTW|       PT1H58M|               NULL|                 NK|\n",
      "|49c27264cdbc3981c...|2022-04-16|2022-04-17|            ATL|               DTW|       PT7H58M|               NULL|             NK||NK|\n",
      "|25422fcd3f98e9f14...|2022-04-16|2022-04-17|            ATL|               DTW|      PT10H24M|               NULL|             NK||NK|\n",
      "|b8d04bd9992b8bc42...|2022-04-16|2022-04-17|            ATL|               DTW|       PT5H13M|               NULL|             NK||NK|\n",
      "|7a092256184476cf9...|2022-04-16|2022-04-17|            ATL|               DTW|        PT7H7M|               NULL|             NK||NK|\n",
      "|4dea8b28c86f62d37...|2022-04-16|2022-04-17|            ATL|               EWR|        PT2H3M|               NULL|                 NK|\n",
      "|312277cbd98a62fad...|2022-04-16|2022-04-17|            ATL|               EWR|        PT2H5M|               NULL|                 NK|\n",
      "|380331857ea93adce...|2022-04-16|2022-04-17|            ATL|               EWR|       PT9H23M|               NULL|             NK||NK|\n",
      "+--------------------+----------+----------+---------------+------------------+--------------+-------------------+-------------------+\n",
      "only showing top 20 rows\n",
      "\n"
     ]
    }
   ],
   "source": [
    "na_dist.show()"
   ]
  },
  {
   "cell_type": "markdown",
   "id": "31561406-defe-42a4-b00a-7128482170d7",
   "metadata": {},
   "source": [
    "it seems like all the flights which do not have available travel distance belong to the NK segmentsairlinecode, ie. spirit airlines. Lets make sure of this."
   ]
  },
  {
   "cell_type": "code",
   "execution_count": 48,
   "id": "1d2057b7-7d6e-4f1e-90b8-910c9b9e8e54",
   "metadata": {},
   "outputs": [
    {
     "name": "stdout",
     "output_type": "stream",
     "text": [
      "+-------------------+\n",
      "|segmentsAirlineCode|\n",
      "+-------------------+\n",
      "|                 NK|\n",
      "|         NK||NK||NK|\n",
      "|             NK||NK|\n",
      "+-------------------+\n",
      "\n"
     ]
    }
   ],
   "source": [
    "na_dist.select(\"segmentsAirlineCode\").distinct().show()"
   ]
  },
  {
   "cell_type": "code",
   "execution_count": 43,
   "id": "2fceb063-a9ec-4ebd-a4d7-86125978dbf8",
   "metadata": {},
   "outputs": [
    {
     "name": "stdout",
     "output_type": "stream",
     "text": [
      "+--------------------+----------+----------+---------------+------------------+-------------------+-------------------+\n",
      "|               legId|searchDate|flightDate|startingAirport|destinationAirport|totalTravelDistance|segmentsAirlineCode|\n",
      "+--------------------+----------+----------+---------------+------------------+-------------------+-------------------+\n",
      "|9ca0e81111c683bec...|2022-04-16|2022-04-17|            ATL|               BOS|                947|                 DL|\n",
      "|98685953630e772a0...|2022-04-16|2022-04-17|            ATL|               BOS|                947|                 DL|\n",
      "|98d90cbc32bfbb05c...|2022-04-16|2022-04-17|            ATL|               BOS|                947|                 DL|\n",
      "|969a269d38eae583f...|2022-04-16|2022-04-17|            ATL|               BOS|                947|                 DL|\n",
      "|980370cf27c89b40d...|2022-04-16|2022-04-17|            ATL|               BOS|                947|                 DL|\n",
      "|79eda9f841e226a1e...|2022-04-16|2022-04-17|            ATL|               BOS|                947|                 B6|\n",
      "|9335fae376c38bb61...|2022-04-16|2022-04-17|            ATL|               BOS|                956|             AA||AA|\n",
      "|3904bf87f2d1daf33...|2022-04-16|2022-04-17|            ATL|               BOS|                956|             AA||AA|\n",
      "|d93988734c44a3c07...|2022-04-16|2022-04-17|            ATL|               BOS|                956|             AA||AA|\n",
      "|562e7d5dd6ecbf150...|2022-04-16|2022-04-17|            ATL|               BOS|                956|             AA||AA|\n",
      "|c38a6e4b807d15541...|2022-04-16|2022-04-17|            ATL|               BOS|                947|             UA||UA|\n",
      "|f66d72ba3a5265766...|2022-04-16|2022-04-17|            ATL|               BOS|               1462|             AA||AA|\n",
      "|e7c4054e85cca9bc7...|2022-04-16|2022-04-17|            ATL|               BOS|               1462|             AA||AA|\n",
      "|5fa8c0f8b25eb24bf...|2022-04-16|2022-04-17|            ATL|               BOS|               1462|             AA||AA|\n",
      "|948d26b3e5658762c...|2022-04-16|2022-04-17|            ATL|               BOS|               1462|             UA||UA|\n",
      "|cb345693479e84838...|2022-04-16|2022-04-17|            ATL|               BOS|               NULL|             NK||NK|\n",
      "|e1b95e4e6c997517f...|2022-04-16|2022-04-17|            ATL|               BOS|                947|                 AA|\n",
      "|eaf033a044596f0a7...|2022-04-16|2022-04-17|            ATL|               BOS|                956|             AA||AA|\n",
      "|721d9a2f66fe479e7...|2022-04-16|2022-04-17|            ATL|               BOS|                956|             AA||AA|\n",
      "|a9f012defb9227f69...|2022-04-16|2022-04-17|            ATL|               BOS|                956|             AA||AA|\n",
      "+--------------------+----------+----------+---------------+------------------+-------------------+-------------------+\n",
      "only showing top 20 rows\n",
      "\n"
     ]
    }
   ],
   "source": [
    "# check whether start/end have same travel total travel distance, we can use it to fill na\n",
    "df.filter((df.startingAirport == 'ATL') & (df.destinationAirport == \"BOS\")).select([\"legId\",\"searchDate\",\"flightDate\",\"startingAirport\",\"destinationAirport\", \"totalTravelDistance\", \"segmentsAirlineCode\"]).show()"
   ]
  },
  {
   "cell_type": "markdown",
   "id": "45ee4d78-876b-4528-8c8c-e5f22402d77e",
   "metadata": {},
   "source": [
    "There are different total travel distances for the same starting and destination airport. I feel like we can fill this column of NA with the average. But also since this is less than 5% of the data, and also represents more ghetto airlines, ie spirit, we can just drop it."
   ]
  },
  {
   "cell_type": "code",
   "execution_count": 53,
   "id": "2b1c3df4-9454-479b-ac1f-b297b22d31cf",
   "metadata": {},
   "outputs": [],
   "source": [
    "# drop data with null values in totaltraveldistance\n",
    "df = df.dropna(subset=['totalTravelDistance'])"
   ]
  },
  {
   "cell_type": "markdown",
   "id": "07649833-347d-4679-8147-e082f6c8baac",
   "metadata": {},
   "source": [
    "### segmentsEquipmentDescription"
   ]
  },
  {
   "cell_type": "code",
   "execution_count": 52,
   "id": "ac07e980-fd62-4b2b-9d0d-41d0b3536e4b",
   "metadata": {},
   "outputs": [
    {
     "name": "stdout",
     "output_type": "stream",
     "text": [
      "+--------------------+----------+----------+---------------+------------------+--------------+----------------------------+-------------------+\n",
      "|               legId|searchDate|flightDate|startingAirport|destinationAirport|travelDuration|segmentsEquipmentDescription|segmentsAirlineCode|\n",
      "+--------------------+----------+----------+---------------+------------------+--------------+----------------------------+-------------------+\n",
      "|79eda9f841e226a1e...|2022-04-16|2022-04-17|            ATL|               BOS|       PT2H38M|                        NULL|                 B6|\n",
      "|e1b95e4e6c997517f...|2022-04-16|2022-04-17|            ATL|               BOS|       PT2H38M|                        NULL|                 AA|\n",
      "|24c07cf38de8a7a0e...|2022-04-16|2022-04-17|            ATL|               BOS|       PT2H44M|                        NULL|                 B6|\n",
      "|4228d70f70f9ebd1f...|2022-04-16|2022-04-17|            ATL|               BOS|       PT2H38M|                        NULL|                 DL|\n",
      "|68063b78f62c81ac8...|2022-04-16|2022-04-17|            ATL|               BOS|       PT2H44M|                        NULL|                 AA|\n",
      "|5dcea6820b6451609...|2022-04-16|2022-04-17|            ATL|               DEN|       PT3H28M|                        NULL|                 F9|\n",
      "|2411f8ad75dea4c08...|2022-04-16|2022-04-17|            ATL|               DFW|       PT2H35M|                        NULL|                 F9|\n",
      "|278c247fdadaad11f...|2022-04-16|2022-04-17|            ATL|               LGA|        PT2H9M|                        NULL|                 F9|\n",
      "|f2a803cf36fef0c4c...|2022-04-16|2022-04-17|            ATL|               MIA|       PT1H55M|                        NULL|                 F9|\n",
      "|2061002557077295d...|2022-04-16|2022-04-17|            ATL|               PHL|        PT2H2M|                        NULL|                 F9|\n",
      "|0a33a464dda48609c...|2022-04-16|2022-04-17|            ATL|               SFO|       PT5H19M|                        NULL|                 DL|\n",
      "|461605886c51e624d...|2022-04-16|2022-04-17|            ATL|               SFO|       PT5H21M|                        NULL|                 DL|\n",
      "|d35f8240f444be309...|2022-04-16|2022-04-17|            ATL|               SFO|       PT5H20M|                        NULL|                 DL|\n",
      "|7cb2e564e0aaf26f7...|2022-04-16|2022-04-17|            BOS|               ATL|       PT2H57M|                        NULL|                 B6|\n",
      "|8e983803b8063ac9a...|2022-04-16|2022-04-17|            BOS|               ATL|       PT2H59M|                        NULL|                 B6|\n",
      "|e75f8dad155b3b338...|2022-04-16|2022-04-17|            BOS|               ATL|       PT2H57M|                        NULL|                 AA|\n",
      "|974b528e693573508...|2022-04-16|2022-04-17|            BOS|               ATL|       PT2H59M|                        NULL|                 AA|\n",
      "|bfd352b7637876b0d...|2022-04-16|2022-04-17|            BOS|               ATL|       PT2H58M|                        NULL|                 DL|\n",
      "|b6de15dddadc49235...|2022-04-16|2022-04-17|            BOS|               DFW|       PT4H20M|                        NULL|                 B6|\n",
      "|69b635bee6422ef59...|2022-04-16|2022-04-17|            BOS|               MIA|       PT3H47M|                        NULL|                 AA|\n",
      "+--------------------+----------+----------+---------------+------------------+--------------+----------------------------+-------------------+\n",
      "only showing top 20 rows\n",
      "\n"
     ]
    }
   ],
   "source": [
    "df.filter(col(\"segmentsEquipmentDescription\").isNull()).select([\"legId\",\"searchDate\",\"flightDate\",\"startingAirport\",\"destinationAirport\", \"travelDuration\",\"segmentsEquipmentDescription\", \"segmentsAirlineCode\"]).show()"
   ]
  },
  {
   "cell_type": "markdown",
   "id": "96898be4-14ec-454f-89bb-18d2ff7d6dbb",
   "metadata": {},
   "source": [
    "Lets just drop these too as there are very little"
   ]
  },
  {
   "cell_type": "code",
   "execution_count": 54,
   "id": "d8703bb6-ef94-4865-b20f-3312e3a88bd4",
   "metadata": {},
   "outputs": [],
   "source": [
    "# drop data with null values in segmentsEquipmentDescription\n",
    "df = df.dropna(subset=['segmentsEquipmentDescription'])"
   ]
  },
  {
   "cell_type": "markdown",
   "id": "da037902-cfa8-40dd-bcd1-1077d54c49ca",
   "metadata": {},
   "source": [
    "## Understanding totalFare"
   ]
  },
  {
   "cell_type": "markdown",
   "id": "c62f4ccf-b987-48fa-83af-0dc475ee6604",
   "metadata": {},
   "source": [
    "### Summary Statistics"
   ]
  },
  {
   "cell_type": "markdown",
   "id": "17a00c89-504f-41ea-8cca-a16403520553",
   "metadata": {},
   "source": [
    "Because we are ultimately predicting the price of a flight, we are interested in its summary statistics"
   ]
  },
  {
   "cell_type": "code",
   "execution_count": 16,
   "id": "03b11dfb-5a45-4ef1-8b5b-a035f4f0cf7f",
   "metadata": {},
   "outputs": [
    {
     "name": "stderr",
     "output_type": "stream",
     "text": [
      "24/03/16 16:37:49 WARN SparkStringUtils: Truncated the string representation of a plan since it was too large. This behavior can be adjusted by setting 'spark.sql.debug.maxToStringFields'.\n",
      "[Stage 258:>                                                        (0 + 1) / 1]\r"
     ]
    },
    {
     "name": "stdout",
     "output_type": "stream",
     "text": [
      "+-------+-------------------+------------------+-----------------+-----------------+-------------------+\n",
      "|summary|        elapsedDays|          baseFare|        totalFare|   seatsRemaining|totalTravelDistance|\n",
      "+-------+-------------------+------------------+-----------------+-----------------+-------------------+\n",
      "|  count|               9999|              9999|             9999|             9999|               9613|\n",
      "|   mean|0.13671367136713672| 367.8087228722944|419.4587198720273|4.322332233223323| 1572.8127535628837|\n",
      "| stddev|0.34356200036344353|240.42648596335926|258.4762716421801| 2.90497850271777|  806.3720822130301|\n",
      "|    min|                  0|              16.0|            82.61|                0|                 97|\n",
      "|    max|                  1|           2687.44|           2912.6|               10|               3958|\n",
      "+-------+-------------------+------------------+-----------------+-----------------+-------------------+\n",
      "\n"
     ]
    },
    {
     "name": "stderr",
     "output_type": "stream",
     "text": [
      "                                                                                \r"
     ]
    }
   ],
   "source": [
    "# Check out the distributions of numerical columns\n",
    "numerical_columns = [col for col, dtype in df.dtypes if dtype in ('int', 'bigint', 'float', 'double')]\n",
    "df.describe(numerical_columns).show()"
   ]
  },
  {
   "cell_type": "code",
   "execution_count": 17,
   "id": "3cc14028-03cf-42b8-b31c-0020ca38ce7e",
   "metadata": {},
   "outputs": [
    {
     "name": "stdout",
     "output_type": "stream",
     "text": [
      "+------------------+-----------------+\n",
      "|          skewness|         kurtosis|\n",
      "+------------------+-----------------+\n",
      "|3.4983098770886496|18.62549082023013|\n",
      "+------------------+-----------------+\n",
      "\n"
     ]
    }
   ],
   "source": [
    "# look at skewness and kurtosis\n",
    "summary = df.agg(skewness(col(\"totalFare\")).alias(\"skewness\"), kurtosis(col(\"totalFare\")).alias(\"kurtosis\"))\n",
    "summary.show()"
   ]
  },
  {
   "cell_type": "markdown",
   "id": "40c1dd65-a343-4209-bd04-619dc80aed08",
   "metadata": {},
   "source": [
    "### Distribution"
   ]
  },
  {
   "cell_type": "markdown",
   "id": "847f6751-5d68-4490-b271-76372c319080",
   "metadata": {},
   "source": [
    "Lets see the distribution and quartiles"
   ]
  },
  {
   "cell_type": "code",
   "execution_count": 18,
   "id": "5156cb7e-e406-40af-a13a-86144831f9d3",
   "metadata": {},
   "outputs": [
    {
     "name": "stderr",
     "output_type": "stream",
     "text": [
      "/Users/eddie/opt/anaconda3/envs/bigdata/lib/python3.12/site-packages/seaborn/_oldcore.py:1119: FutureWarning: use_inf_as_na option is deprecated and will be removed in a future version. Convert inf values to NaN before operating instead.\n",
      "  with pd.option_context('mode.use_inf_as_na', True):\n"
     ]
    },
    {
     "data": {
      "image/png": "[encoded data removed]",
      "text/plain": [
       "<Figure size 1200x500 with 1 Axes>"
      ]
     },
     "metadata": {},
     "output_type": "display_data"
    }
   ],
   "source": [
    "plt.figure(figsize=(12,5))\n",
    "sns.histplot(df_pd, x=\"totalFare\", bins=80, kde=True, color='blue', edgecolor='black')\n",
    "plt.xlabel('Price ($USD)')\n",
    "plt.ylabel('Frequency')\n",
    "plt.title('Distribution of Total Fare ($USD)')\n",
    "plt.show()"
   ]
  },
  {
   "cell_type": "markdown",
   "id": "26824047-4e4c-48ef-b780-220fc12516d1",
   "metadata": {},
   "source": [
    "We observe that the distribution peaks slightly under 500. Which is makes sense that this is the range of domestic prices "
   ]
  },
  {
   "cell_type": "code",
   "execution_count": 19,
   "id": "5dfe7430-34de-4262-b725-d3e2e0deaa00",
   "metadata": {},
   "outputs": [],
   "source": [
    "quartile_values = [0.01, 0.10, 0.25, 0.5, 0.75, 0.90, 0.99]\n",
    "\n",
    "# Use the approxQuantile function to get quartiles\n",
    "quartiles = df.approxQuantile(\"totalFare\", quartile_values, 0.01)"
   ]
  },
  {
   "cell_type": "code",
   "execution_count": 20,
   "id": "515b94cf-9e28-43cf-bc1e-81ec958f6054",
   "metadata": {},
   "outputs": [
    {
     "data": {
      "text/plain": [
       "[0.01, 0.1, 0.25, 0.5, 0.75, 0.9, 0.99]"
      ]
     },
     "execution_count": 20,
     "metadata": {},
     "output_type": "execute_result"
    }
   ],
   "source": [
    "quartile_values"
   ]
  },
  {
   "cell_type": "code",
   "execution_count": 21,
   "id": "4e6ee83b-c151-4801-b736-caf060207fa2",
   "metadata": {},
   "outputs": [
    {
     "data": {
      "text/html": [
       "<div>\n",
       "<style scoped>\n",
       "    .dataframe tbody tr th:only-of-type {\n",
       "        vertical-align: middle;\n",
       "    }\n",
       "\n",
       "    .dataframe tbody tr th {\n",
       "        vertical-align: top;\n",
       "    }\n",
       "\n",
       "    .dataframe thead th {\n",
       "        text-align: right;\n",
       "    }\n",
       "</style>\n",
       "<table border=\"1\" class=\"dataframe\">\n",
       "  <thead>\n",
       "    <tr style=\"text-align: right;\">\n",
       "      <th></th>\n",
       "      <th>quartile</th>\n",
       "      <th>price</th>\n",
       "    </tr>\n",
       "  </thead>\n",
       "  <tbody>\n",
       "    <tr>\n",
       "      <th>0</th>\n",
       "      <td>0.01</td>\n",
       "      <td>82.61</td>\n",
       "    </tr>\n",
       "    <tr>\n",
       "      <th>1</th>\n",
       "      <td>0.10</td>\n",
       "      <td>207.60</td>\n",
       "    </tr>\n",
       "    <tr>\n",
       "      <th>2</th>\n",
       "      <td>0.25</td>\n",
       "      <td>261.61</td>\n",
       "    </tr>\n",
       "    <tr>\n",
       "      <th>3</th>\n",
       "      <td>0.50</td>\n",
       "      <td>368.60</td>\n",
       "    </tr>\n",
       "    <tr>\n",
       "      <th>4</th>\n",
       "      <td>0.75</td>\n",
       "      <td>488.60</td>\n",
       "    </tr>\n",
       "    <tr>\n",
       "      <th>5</th>\n",
       "      <td>0.90</td>\n",
       "      <td>639.60</td>\n",
       "    </tr>\n",
       "    <tr>\n",
       "      <th>6</th>\n",
       "      <td>0.99</td>\n",
       "      <td>2912.60</td>\n",
       "    </tr>\n",
       "  </tbody>\n",
       "</table>\n",
       "</div>"
      ],
      "text/plain": [
       "   quartile    price\n",
       "0      0.01    82.61\n",
       "1      0.10   207.60\n",
       "2      0.25   261.61\n",
       "3      0.50   368.60\n",
       "4      0.75   488.60\n",
       "5      0.90   639.60\n",
       "6      0.99  2912.60"
      ]
     },
     "execution_count": 21,
     "metadata": {},
     "output_type": "execute_result"
    }
   ],
   "source": [
    "pd.DataFrame({\"quartile\":quartile_values, \"price\":quartiles})"
   ]
  },
  {
   "cell_type": "markdown",
   "id": "0815aedc-ea68-43bc-a707-28e2941f2785",
   "metadata": {},
   "source": [
    "### Correlation with other variables"
   ]
  },
  {
   "cell_type": "code",
   "execution_count": 22,
   "id": "d157ca1b-5c11-45a4-9214-c1023b744650",
   "metadata": {},
   "outputs": [
    {
     "data": {
      "text/plain": [
       "['elapsedDays',\n",
       " 'baseFare',\n",
       " 'totalFare',\n",
       " 'seatsRemaining',\n",
       " 'totalTravelDistance']"
      ]
     },
     "execution_count": 22,
     "metadata": {},
     "output_type": "execute_result"
    }
   ],
   "source": [
    "numerical_columns"
   ]
  },
  {
   "cell_type": "code",
   "execution_count": 23,
   "id": "eff99161-d5e6-4954-9b55-fb9192616705",
   "metadata": {},
   "outputs": [],
   "source": [
    "vector_assembler = VectorAssembler(inputCols=[\"elapsedDays\", \"baseFare\", \"totalFare\", \"seatsRemaining\"], outputCol=\"features\")"
   ]
  },
  {
   "cell_type": "code",
   "execution_count": 24,
   "id": "7e6d6970-defc-435d-9fe9-006cfa82e716",
   "metadata": {},
   "outputs": [],
   "source": [
    "df_num_ass = vector_assembler.transform(df)"
   ]
  },
  {
   "cell_type": "code",
   "execution_count": 25,
   "id": "56b02703-54a1-48cb-ac38-d58ec9055749",
   "metadata": {},
   "outputs": [
    {
     "name": "stderr",
     "output_type": "stream",
     "text": [
      "24/03/16 16:38:00 WARN InstanceBuilder: Failed to load implementation from:dev.ludovic.netlib.blas.JNIBLAS\n",
      "                                                                                \r"
     ]
    }
   ],
   "source": [
    "correlation_matrix = Correlation.corr(df_num_ass, \"features\")\n",
    "correlation_matrix = correlation_matrix.collect()[0][\"pearson({})\".format(\"features\")].values.reshape(4,4)"
   ]
  },
  {
   "cell_type": "code",
   "execution_count": 26,
   "id": "d8f58c7e-6f4f-4df4-8faf-25b71c9f78a6",
   "metadata": {},
   "outputs": [
    {
     "data": {
      "text/plain": [
       "<Axes: >"
      ]
     },
     "execution_count": 26,
     "metadata": {},
     "output_type": "execute_result"
    },
    {
     "data": {
      "image/png": "[encoded data removed]",
      "text/plain": [
       "<Figure size 640x480 with 2 Axes>"
      ]
     },
     "metadata": {},
     "output_type": "display_data"
    }
   ],
   "source": [
    "sns.heatmap(correlation_matrix, annot=False, fmt=\".2f\", cmap=\"coolwarm\", xticklabels=[\"elapsedDays\", \"baseFare\", \"totalFare\", \"seatsRemaining\"], yticklabels=[\"elapsedDays\", \"baseFare\", \"totalFare\", \"seatsRemaining\"])"
   ]
  },
  {
   "cell_type": "markdown",
   "id": "20edd1d8-bec6-44a3-b462-62c3573c7a65",
   "metadata": {},
   "source": [
    "## Flight Routes"
   ]
  },
  {
   "cell_type": "markdown",
   "id": "a7d069d2-4474-40f7-abce-3a2eef93bffc",
   "metadata": {},
   "source": [
    "We are now interested in the flight paths that are represented in the dataset. "
   ]
  },
  {
   "cell_type": "markdown",
   "id": "f5e3539c-21c7-4eb1-9611-b361b05f7fda",
   "metadata": {},
   "source": [
    "### Most Departed From Airports"
   ]
  },
  {
   "cell_type": "code",
   "execution_count": 27,
   "id": "8c07f034-4d89-465e-b2bf-31879b18b1d7",
   "metadata": {},
   "outputs": [
    {
     "name": "stderr",
     "output_type": "stream",
     "text": [
      "[Stage 269:>                                                        (0 + 1) / 1]\r"
     ]
    },
    {
     "name": "stdout",
     "output_type": "stream",
     "text": [
      "+---------------+-----+\n",
      "|startingAirport|count|\n",
      "+---------------+-----+\n",
      "|            CLT| 1215|\n",
      "|            ATL| 1115|\n",
      "|            LAX|  889|\n",
      "|            BOS|  869|\n",
      "|            SFO|  744|\n",
      "|            ORD|  712|\n",
      "|            DEN|  616|\n",
      "|            DTW|  613|\n",
      "|            PHL|  543|\n",
      "|            DFW|  481|\n",
      "|            LGA|  452|\n",
      "|            EWR|  432|\n",
      "|            IAD|  395|\n",
      "|            MIA|  336|\n",
      "|            OAK|  308|\n",
      "|            JFK|  279|\n",
      "+---------------+-----+\n",
      "\n"
     ]
    },
    {
     "name": "stderr",
     "output_type": "stream",
     "text": [
      "                                                                                \r"
     ]
    }
   ],
   "source": [
    "depart_counts = df.groupBy(\"startingAirport\").count()\n",
    "sorted_depart_counts = depart_counts.orderBy(col(\"count\").desc())\n",
    "sorted_depart_counts.show()"
   ]
  },
  {
   "cell_type": "code",
   "execution_count": 28,
   "id": "0efa8b4d-031f-4e57-8f1a-f902d9c07d0d",
   "metadata": {},
   "outputs": [
    {
     "name": "stdout",
     "output_type": "stream",
     "text": [
      "+------------------+-----+\n",
      "|destinationAirport|count|\n",
      "+------------------+-----+\n",
      "|               LAX|  956|\n",
      "|               LGA|  946|\n",
      "|               BOS|  766|\n",
      "|               DEN|  728|\n",
      "|               DFW|  728|\n",
      "|               DTW|  687|\n",
      "|               ATL|  669|\n",
      "|               EWR|  661|\n",
      "|               ORD|  611|\n",
      "|               SFO|  604|\n",
      "|               MIA|  574|\n",
      "|               CLT|  517|\n",
      "|               JFK|  500|\n",
      "|               PHL|  436|\n",
      "|               IAD|  364|\n",
      "|               OAK|  252|\n",
      "+------------------+-----+\n",
      "\n"
     ]
    }
   ],
   "source": [
    "arrive_counts = df.groupBy(\"destinationAirport\").count()\n",
    "sorted_arrive_counts = arrive_counts.orderBy(col(\"count\").desc())\n",
    "sorted_arrive_counts.show()"
   ]
  },
  {
   "cell_type": "markdown",
   "id": "ecf82e06-e6ca-4227-be90-9b0e6fa93874",
   "metadata": {},
   "source": [
    "### Pairs of Flight Paths"
   ]
  },
  {
   "cell_type": "code",
   "execution_count": 29,
   "id": "7adefe68-5dea-444b-bab0-d374b91a1982",
   "metadata": {},
   "outputs": [],
   "source": [
    "airport_counts = df.groupBy(\"startingAirport\", \"destinationAirport\").count()\n",
    "sorted_airport_counts = airport_counts.orderBy(col(\"count\").desc())"
   ]
  },
  {
   "cell_type": "code",
   "execution_count": 30,
   "id": "e45e6367-806f-4552-8ff8-355719169995",
   "metadata": {},
   "outputs": [
    {
     "name": "stdout",
     "output_type": "stream",
     "text": [
      "The total number of routes represented in our data is 234\n"
     ]
    }
   ],
   "source": [
    "# Total number of routes\n",
    "print(f\"The total number of routes represented in our data is {sorted_airport_counts.count()}\")"
   ]
  },
  {
   "cell_type": "code",
   "execution_count": 31,
   "id": "60d6cc33-b517-4c7f-af6b-022ccc43d767",
   "metadata": {},
   "outputs": [
    {
     "name": "stdout",
     "output_type": "stream",
     "text": [
      "+---------------+------------------+-----+\n",
      "|startingAirport|destinationAirport|count|\n",
      "+---------------+------------------+-----+\n",
      "|            CLT|               LAX|  136|\n",
      "|            ATL|               LAX|  133|\n",
      "|            ATL|               DTW|  129|\n",
      "|            CLT|               LGA|  129|\n",
      "|            ATL|               LGA|  109|\n",
      "|            CLT|               DEN|  106|\n",
      "|            DEN|               BOS|  102|\n",
      "|            BOS|               LAX|  101|\n",
      "|            CLT|               ORD|   99|\n",
      "|            CLT|               DFW|   99|\n",
      "+---------------+------------------+-----+\n",
      "only showing top 10 rows\n",
      "\n"
     ]
    }
   ],
   "source": [
    "# Top routes taken\n",
    "sorted_airport_counts.show(n=10)"
   ]
  },
  {
   "cell_type": "code",
   "execution_count": 32,
   "id": "9c4730ba-eb01-48f3-b34e-29659d36cbd1",
   "metadata": {},
   "outputs": [
    {
     "data": {
      "text/plain": [
       "[Row(startingAirport='OAK', destinationAirport='IAD', count=12),\n",
       " Row(startingAirport='DEN', destinationAirport='OAK', count=12),\n",
       " Row(startingAirport='LAX', destinationAirport='OAK', count=11),\n",
       " Row(startingAirport='IAD', destinationAirport='CLT', count=11),\n",
       " Row(startingAirport='PHL', destinationAirport='OAK', count=9),\n",
       " Row(startingAirport='JFK', destinationAirport='IAD', count=9),\n",
       " Row(startingAirport='DTW', destinationAirport='IAD', count=9),\n",
       " Row(startingAirport='JFK', destinationAirport='OAK', count=9),\n",
       " Row(startingAirport='MIA', destinationAirport='OAK', count=7),\n",
       " Row(startingAirport='OAK', destinationAirport='JFK', count=7)]"
      ]
     },
     "execution_count": 32,
     "metadata": {},
     "output_type": "execute_result"
    }
   ],
   "source": [
    "# Least routes taken\n",
    "sorted_airport_counts.tail(10)"
   ]
  },
  {
   "cell_type": "markdown",
   "id": "ba8e463d-2357-43bc-adc8-9b1a7a8aa9a1",
   "metadata": {},
   "source": [
    "## "
   ]
  }
 ],
 "metadata": {
  "kernelspec": {
   "display_name": "Python 3 (ipykernel)",
   "language": "python",
   "name": "python3"
  },
  "language_info": {
   "codemirror_mode": {
    "name": "ipython",
    "version": 3
   },
   "file_extension": ".py",
   "mimetype": "text/x-python",
   "name": "python",
   "nbconvert_exporter": "python",
   "pygments_lexer": "ipython3",
   "version": "3.12.1"
  }
 },
 "nbformat": 4,
 "nbformat_minor": 5
}
