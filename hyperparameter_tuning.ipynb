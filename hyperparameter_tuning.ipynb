{
 "cells": [
  {
   "cell_type": "markdown",
   "id": "4e399788-743d-4eee-8bed-1ec10a7a7e7e",
   "metadata": {},
   "source": [
    "# Hyperparameter Tuning"
   ]
  },
  {
   "cell_type": "markdown",
   "id": "014cacb8-acab-405c-a56c-e06a01c8edc5",
   "metadata": {},
   "source": [
    "---"
   ]
  },
  {
   "cell_type": "markdown",
   "id": "78f93d37-a579-43ac-892f-5f94c65185e4",
   "metadata": {},
   "source": [
    "We tune the hyperparameters for the previously created RandomForestRegressor."
   ]
  },
  {
   "cell_type": "markdown",
   "id": "c999b389-2296-4f1f-872d-6231ac29aae6",
   "metadata": {},
   "source": [
    "For a more comprehsneive tuning process, we utilize k fold cross validation, with various tree sizes and maximum depths"
   ]
  },
  {
   "cell_type": "markdown",
   "id": "5dc55994-8041-468c-80fd-c26826194877",
   "metadata": {},
   "source": [
    "---"
   ]
  },
  {
   "cell_type": "markdown",
   "id": "9a464274-e710-4ea3-bdbb-7fce469f9345",
   "metadata": {},
   "source": [
    "## Load Spark & Data"
   ]
  },
  {
   "cell_type": "code",
   "execution_count": 13,
   "id": "6cba0ba5-887c-4b30-b48b-4d40c72e2dd9",
   "metadata": {},
   "outputs": [],
   "source": [
    "from pyspark.ml import Pipeline\n",
    "from pyspark.ml.feature import VectorAssembler\n",
    "from pyspark.ml.regression import RandomForestRegressor\n",
    "from pyspark.ml.evaluation import RegressionEvaluator\n",
    "from pyspark.ml.tuning import ParamGridBuilder, CrossValidator\n",
    "from pyspark.sql import SparkSession"
   ]
  },
  {
   "cell_type": "code",
   "execution_count": 2,
   "id": "c5a3ef0e-ea6f-4c0b-9799-bd64ceb777f7",
   "metadata": {},
   "outputs": [
    {
     "name": "stderr",
     "output_type": "stream",
     "text": [
      "24/03/28 13:20:53 WARN Utils: Your hostname, Edmunds-MacBook-Air.local resolves to a loopback address: 127.0.0.1; using 10.71.54.143 instead (on interface en0)\n",
      "24/03/28 13:20:53 WARN Utils: Set SPARK_LOCAL_IP if you need to bind to another address\n",
      "Setting default log level to \"WARN\".\n",
      "To adjust logging level use sc.setLogLevel(newLevel). For SparkR, use setLogLevel(newLevel).\n",
      "24/03/28 13:20:54 WARN NativeCodeLoader: Unable to load native-hadoop library for your platform... using builtin-java classes where applicable\n"
     ]
    }
   ],
   "source": [
    "spark = SparkSession.builder \\\n",
    "    .appName(\"baselinemodel\") \\\n",
    "    .getOrCreate()"
   ]
  },
  {
   "cell_type": "code",
   "execution_count": 3,
   "id": "62c2c0ed-4bf6-4101-9c58-93b16398a1ef",
   "metadata": {},
   "outputs": [],
   "source": [
    "# REPLACE WITH PROCESSED DATA FILEPATH\n",
    "DATA_PATH = \"../data/itineraries_processed.parquet\""
   ]
  },
  {
   "cell_type": "code",
   "execution_count": 4,
   "id": "980376d3-8b41-455f-bcb2-406b029a2897",
   "metadata": {},
   "outputs": [
    {
     "name": "stderr",
     "output_type": "stream",
     "text": [
      "                                                                                \r"
     ]
    }
   ],
   "source": [
    "df = spark.read.parquet(DATA_PATH)"
   ]
  },
  {
   "cell_type": "code",
   "execution_count": 10,
   "id": "60043123-84a6-4667-8502-65ca73ea7088",
   "metadata": {},
   "outputs": [],
   "source": [
    "# train test split\n",
    "train_data, test_data = df.randomSplit([0.8, 0.2], seed=42)"
   ]
  },
  {
   "cell_type": "markdown",
   "id": "95e2f518-3f12-4e68-b924-d18e37c44395",
   "metadata": {},
   "source": [
    "## Create Vector Assembler"
   ]
  },
  {
   "cell_type": "code",
   "execution_count": 11,
   "id": "a386c6e8-425c-4ca0-ac14-9ddfdd341a70",
   "metadata": {},
   "outputs": [],
   "source": [
    "feature_columns = df.columns[:-1]\n",
    "feature_columns.remove('totalFare')\n",
    "\n",
    "# Assemble features into a vector\n",
    "assembler = VectorAssembler(inputCols=feature_columns, outputCol=\"features\")\n",
    "# df_ass = assembler.transform(df)"
   ]
  },
  {
   "cell_type": "markdown",
   "id": "2d786a6b-095b-419d-b758-3b0901aa72d3",
   "metadata": {},
   "source": [
    "## Run Model"
   ]
  },
  {
   "cell_type": "code",
   "execution_count": 14,
   "id": "67fcd694-f3c6-418f-bf7d-ee605239067d",
   "metadata": {
    "scrolled": true
   },
   "outputs": [
    {
     "name": "stderr",
     "output_type": "stream",
     "text": [
      "24/03/28 13:40:21 WARN DAGScheduler: Broadcasting large task binary with size 1067.5 KiB\n",
      "24/03/28 13:40:21 WARN DAGScheduler: Broadcasting large task binary with size 1647.9 KiB\n",
      "24/03/28 13:40:21 WARN DAGScheduler: Broadcasting large task binary with size 2.4 MiB\n",
      "24/03/28 13:40:22 WARN DAGScheduler: Broadcasting large task binary with size 3.3 MiB\n",
      "24/03/28 13:40:26 WARN DAGScheduler: Broadcasting large task binary with size 1067.5 KiB\n",
      "24/03/28 13:40:26 WARN DAGScheduler: Broadcasting large task binary with size 1647.9 KiB\n",
      "24/03/28 13:40:27 WARN DAGScheduler: Broadcasting large task binary with size 2.4 MiB\n",
      "24/03/28 13:40:27 WARN DAGScheduler: Broadcasting large task binary with size 3.3 MiB\n",
      "24/03/28 13:40:28 WARN DAGScheduler: Broadcasting large task binary with size 4.5 MiB\n",
      "24/03/28 13:40:29 WARN DAGScheduler: Broadcasting large task binary with size 5.9 MiB\n",
      "24/03/28 13:40:30 WARN DAGScheduler: Broadcasting large task binary with size 7.4 MiB\n",
      "24/03/28 13:40:32 WARN DAGScheduler: Broadcasting large task binary with size 9.0 MiB\n",
      "24/03/28 13:40:33 WARN DAGScheduler: Broadcasting large task binary with size 10.6 MiB\n",
      "24/03/28 13:40:39 WARN DAGScheduler: Broadcasting large task binary with size 1199.0 KiB\n",
      "24/03/28 13:40:40 WARN DAGScheduler: Broadcasting large task binary with size 1965.3 KiB\n",
      "24/03/28 13:40:40 WARN DAGScheduler: Broadcasting large task binary with size 3.0 MiB\n",
      "24/03/28 13:40:41 WARN DAGScheduler: Broadcasting large task binary with size 4.5 MiB\n",
      "24/03/28 13:40:43 WARN DAGScheduler: Broadcasting large task binary with size 6.4 MiB\n",
      "24/03/28 13:40:46 WARN DAGScheduler: Broadcasting large task binary with size 1199.0 KiB\n",
      "24/03/28 13:40:47 WARN DAGScheduler: Broadcasting large task binary with size 1965.3 KiB\n",
      "24/03/28 13:40:47 WARN DAGScheduler: Broadcasting large task binary with size 3.0 MiB\n",
      "24/03/28 13:40:48 WARN DAGScheduler: Broadcasting large task binary with size 4.5 MiB\n",
      "24/03/28 13:40:49 WARN DAGScheduler: Broadcasting large task binary with size 6.4 MiB\n",
      "24/03/28 13:40:51 WARN DAGScheduler: Broadcasting large task binary with size 8.7 MiB\n",
      "24/03/28 13:40:51 WARN DAGScheduler: Broadcasting large task binary with size 1194.3 KiB\n",
      "24/03/28 13:40:53 WARN DAGScheduler: Broadcasting large task binary with size 11.4 MiB\n",
      "24/03/28 13:40:53 WARN DAGScheduler: Broadcasting large task binary with size 1393.9 KiB\n",
      "24/03/28 13:40:55 WARN DAGScheduler: Broadcasting large task binary with size 14.3 MiB\n",
      "24/03/28 13:40:56 WARN DAGScheduler: Broadcasting large task binary with size 1555.4 KiB\n",
      "24/03/28 13:40:57 WARN DAGScheduler: Broadcasting large task binary with size 17.5 MiB\n",
      "24/03/28 13:40:58 WARN DAGScheduler: Broadcasting large task binary with size 1670.9 KiB\n",
      "24/03/28 13:41:00 WARN DAGScheduler: Broadcasting large task binary with size 20.8 MiB\n",
      "24/03/28 13:41:01 WARN DAGScheduler: Broadcasting large task binary with size 1728.3 KiB\n",
      "24/03/28 13:41:08 WARN DAGScheduler: Broadcasting large task binary with size 1704.4 KiB\n",
      "24/03/28 13:41:09 WARN DAGScheduler: Broadcasting large task binary with size 2.8 MiB\n",
      "24/03/28 13:41:10 WARN DAGScheduler: Broadcasting large task binary with size 4.4 MiB\n",
      "24/03/28 13:41:11 WARN DAGScheduler: Broadcasting large task binary with size 6.6 MiB\n",
      "24/03/28 13:41:12 WARN DAGScheduler: Broadcasting large task binary with size 1147.8 KiB\n",
      "24/03/28 13:41:13 WARN DAGScheduler: Broadcasting large task binary with size 9.5 MiB\n",
      "24/03/28 13:41:14 WARN DAGScheduler: Broadcasting large task binary with size 1465.7 KiB\n",
      "24/03/28 13:41:17 WARN DAGScheduler: Broadcasting large task binary with size 1704.4 KiB\n",
      "24/03/28 13:41:18 WARN DAGScheduler: Broadcasting large task binary with size 2.8 MiB\n",
      "24/03/28 13:41:19 WARN DAGScheduler: Broadcasting large task binary with size 4.4 MiB\n",
      "24/03/28 13:41:20 WARN DAGScheduler: Broadcasting large task binary with size 6.6 MiB\n",
      "24/03/28 13:41:21 WARN DAGScheduler: Broadcasting large task binary with size 1147.8 KiB\n",
      "24/03/28 13:41:22 WARN DAGScheduler: Broadcasting large task binary with size 9.5 MiB\n",
      "24/03/28 13:41:23 WARN DAGScheduler: Broadcasting large task binary with size 1465.7 KiB\n",
      "24/03/28 13:41:24 WARN DAGScheduler: Broadcasting large task binary with size 12.9 MiB\n",
      "24/03/28 13:41:25 WARN DAGScheduler: Broadcasting large task binary with size 1789.4 KiB\n",
      "24/03/28 13:41:27 WARN DAGScheduler: Broadcasting large task binary with size 16.9 MiB\n",
      "24/03/28 13:41:29 WARN DAGScheduler: Broadcasting large task binary with size 2.0 MiB\n",
      "24/03/28 13:41:30 WARN DAGScheduler: Broadcasting large task binary with size 21.4 MiB\n",
      "24/03/28 13:41:32 WARN DAGScheduler: Broadcasting large task binary with size 2.3 MiB\n",
      "24/03/28 13:41:34 WARN DAGScheduler: Broadcasting large task binary with size 26.1 MiB\n",
      "24/03/28 13:41:35 WARN DAGScheduler: Broadcasting large task binary with size 2.4 MiB\n",
      "24/03/28 13:41:38 WARN DAGScheduler: Broadcasting large task binary with size 31.0 MiB\n",
      "24/03/28 13:41:40 WARN DAGScheduler: Broadcasting large task binary with size 2.5 MiB\n",
      "24/03/28 13:41:47 WARN DAGScheduler: Broadcasting large task binary with size 1049.4 KiB\n",
      "24/03/28 13:41:47 WARN DAGScheduler: Broadcasting large task binary with size 1593.3 KiB\n",
      "24/03/28 13:41:48 WARN DAGScheduler: Broadcasting large task binary with size 2.3 MiB\n",
      "24/03/28 13:41:49 WARN DAGScheduler: Broadcasting large task binary with size 3.2 MiB\n",
      "24/03/28 13:41:51 WARN DAGScheduler: Broadcasting large task binary with size 1049.4 KiB\n",
      "24/03/28 13:41:51 WARN DAGScheduler: Broadcasting large task binary with size 1593.3 KiB\n",
      "24/03/28 13:41:52 WARN DAGScheduler: Broadcasting large task binary with size 2.3 MiB\n",
      "24/03/28 13:41:52 WARN DAGScheduler: Broadcasting large task binary with size 3.2 MiB\n",
      "24/03/28 13:41:53 WARN DAGScheduler: Broadcasting large task binary with size 4.3 MiB\n",
      "24/03/28 13:41:54 WARN DAGScheduler: Broadcasting large task binary with size 5.6 MiB\n",
      "24/03/28 13:41:55 WARN DAGScheduler: Broadcasting large task binary with size 7.1 MiB\n",
      "24/03/28 13:41:56 WARN DAGScheduler: Broadcasting large task binary with size 8.6 MiB\n",
      "24/03/28 13:41:57 WARN DAGScheduler: Broadcasting large task binary with size 10.2 MiB\n",
      "24/03/28 13:42:02 WARN DAGScheduler: Broadcasting large task binary with size 1181.0 KiB\n",
      "24/03/28 13:42:03 WARN DAGScheduler: Broadcasting large task binary with size 1918.8 KiB\n",
      "24/03/28 13:42:04 WARN DAGScheduler: Broadcasting large task binary with size 2.9 MiB\n",
      "24/03/28 13:42:04 WARN DAGScheduler: Broadcasting large task binary with size 4.3 MiB\n",
      "24/03/28 13:42:05 WARN DAGScheduler: Broadcasting large task binary with size 6.1 MiB\n",
      "24/03/28 13:42:09 WARN DAGScheduler: Broadcasting large task binary with size 1181.0 KiB\n",
      "24/03/28 13:42:09 WARN DAGScheduler: Broadcasting large task binary with size 1918.8 KiB\n",
      "24/03/28 13:42:10 WARN DAGScheduler: Broadcasting large task binary with size 2.9 MiB\n",
      "24/03/28 13:42:11 WARN DAGScheduler: Broadcasting large task binary with size 4.3 MiB\n",
      "24/03/28 13:42:12 WARN DAGScheduler: Broadcasting large task binary with size 6.1 MiB\n",
      "24/03/28 13:42:13 WARN DAGScheduler: Broadcasting large task binary with size 8.3 MiB\n",
      "24/03/28 13:42:14 WARN DAGScheduler: Broadcasting large task binary with size 1138.7 KiB\n",
      "24/03/28 13:42:15 WARN DAGScheduler: Broadcasting large task binary with size 10.8 MiB\n",
      "24/03/28 13:42:15 WARN DAGScheduler: Broadcasting large task binary with size 1327.5 KiB\n",
      "24/03/28 13:42:17 WARN DAGScheduler: Broadcasting large task binary with size 13.7 MiB\n",
      "24/03/28 13:42:17 WARN DAGScheduler: Broadcasting large task binary with size 1480.3 KiB\n",
      "24/03/28 13:42:19 WARN DAGScheduler: Broadcasting large task binary with size 16.7 MiB\n",
      "24/03/28 13:42:20 WARN DAGScheduler: Broadcasting large task binary with size 1606.0 KiB\n",
      "24/03/28 13:42:21 WARN DAGScheduler: Broadcasting large task binary with size 19.9 MiB\n",
      "24/03/28 13:42:22 WARN DAGScheduler: Broadcasting large task binary with size 1684.0 KiB\n",
      "24/03/28 13:42:29 WARN DAGScheduler: Broadcasting large task binary with size 1704.6 KiB\n",
      "24/03/28 13:42:30 WARN DAGScheduler: Broadcasting large task binary with size 2.7 MiB\n",
      "24/03/28 13:42:31 WARN DAGScheduler: Broadcasting large task binary with size 4.3 MiB\n",
      "24/03/28 13:42:32 WARN DAGScheduler: Broadcasting large task binary with size 6.5 MiB\n",
      "24/03/28 13:42:33 WARN DAGScheduler: Broadcasting large task binary with size 1098.6 KiB\n",
      "24/03/28 13:42:34 WARN DAGScheduler: Broadcasting large task binary with size 9.2 MiB\n",
      "24/03/28 13:42:34 WARN DAGScheduler: Broadcasting large task binary with size 1408.9 KiB\n",
      "24/03/28 13:42:38 WARN DAGScheduler: Broadcasting large task binary with size 1704.6 KiB\n",
      "24/03/28 13:42:38 WARN DAGScheduler: Broadcasting large task binary with size 2.7 MiB\n",
      "24/03/28 13:42:39 WARN DAGScheduler: Broadcasting large task binary with size 4.3 MiB\n",
      "24/03/28 13:42:41 WARN DAGScheduler: Broadcasting large task binary with size 6.5 MiB\n",
      "24/03/28 13:42:41 WARN DAGScheduler: Broadcasting large task binary with size 1098.6 KiB\n",
      "24/03/28 13:42:42 WARN DAGScheduler: Broadcasting large task binary with size 9.2 MiB\n",
      "24/03/28 13:42:43 WARN DAGScheduler: Broadcasting large task binary with size 1408.9 KiB\n",
      "24/03/28 13:42:45 WARN DAGScheduler: Broadcasting large task binary with size 12.5 MiB\n",
      "24/03/28 13:42:45 WARN DAGScheduler: Broadcasting large task binary with size 1715.3 KiB\n",
      "24/03/28 13:42:47 WARN DAGScheduler: Broadcasting large task binary with size 16.3 MiB\n",
      "24/03/28 13:42:49 WARN DAGScheduler: Broadcasting large task binary with size 2005.9 KiB\n",
      "24/03/28 13:42:51 WARN DAGScheduler: Broadcasting large task binary with size 20.7 MiB\n",
      "24/03/28 13:42:52 WARN DAGScheduler: Broadcasting large task binary with size 2.2 MiB\n",
      "24/03/28 13:42:54 WARN DAGScheduler: Broadcasting large task binary with size 25.4 MiB\n",
      "24/03/28 13:42:56 WARN DAGScheduler: Broadcasting large task binary with size 2.4 MiB\n",
      "24/03/28 13:42:58 WARN DAGScheduler: Broadcasting large task binary with size 30.3 MiB\n",
      "24/03/28 13:43:00 WARN DAGScheduler: Broadcasting large task binary with size 2.5 MiB\n",
      "24/03/28 13:43:07 WARN DAGScheduler: Broadcasting large task binary with size 1059.6 KiB\n",
      "24/03/28 13:43:07 WARN DAGScheduler: Broadcasting large task binary with size 1627.3 KiB\n",
      "24/03/28 13:43:08 WARN DAGScheduler: Broadcasting large task binary with size 2.3 MiB\n",
      "24/03/28 13:43:08 WARN DAGScheduler: Broadcasting large task binary with size 3.3 MiB\n",
      "24/03/28 13:43:11 WARN DAGScheduler: Broadcasting large task binary with size 1059.6 KiB\n",
      "24/03/28 13:43:11 WARN DAGScheduler: Broadcasting large task binary with size 1627.3 KiB\n",
      "24/03/28 13:43:12 WARN DAGScheduler: Broadcasting large task binary with size 2.3 MiB\n",
      "24/03/28 13:43:12 WARN DAGScheduler: Broadcasting large task binary with size 3.3 MiB\n",
      "24/03/28 13:43:13 WARN DAGScheduler: Broadcasting large task binary with size 4.4 MiB\n",
      "24/03/28 13:43:14 WARN DAGScheduler: Broadcasting large task binary with size 5.8 MiB\n",
      "24/03/28 13:43:15 WARN DAGScheduler: Broadcasting large task binary with size 7.2 MiB\n",
      "24/03/28 13:43:16 WARN DAGScheduler: Broadcasting large task binary with size 8.8 MiB\n",
      "24/03/28 13:43:17 WARN DAGScheduler: Broadcasting large task binary with size 10.5 MiB\n",
      "24/03/28 13:43:22 WARN DAGScheduler: Broadcasting large task binary with size 1197.2 KiB\n",
      "24/03/28 13:43:22 WARN DAGScheduler: Broadcasting large task binary with size 1941.0 KiB\n",
      "24/03/28 13:43:23 WARN DAGScheduler: Broadcasting large task binary with size 3.0 MiB\n",
      "24/03/28 13:43:24 WARN DAGScheduler: Broadcasting large task binary with size 4.4 MiB\n",
      "24/03/28 13:43:25 WARN DAGScheduler: Broadcasting large task binary with size 6.2 MiB\n",
      "24/03/28 13:43:29 WARN DAGScheduler: Broadcasting large task binary with size 1197.2 KiB\n",
      "24/03/28 13:43:29 WARN DAGScheduler: Broadcasting large task binary with size 1941.0 KiB\n",
      "24/03/28 13:43:30 WARN DAGScheduler: Broadcasting large task binary with size 3.0 MiB\n",
      "24/03/28 13:43:31 WARN DAGScheduler: Broadcasting large task binary with size 4.4 MiB\n",
      "24/03/28 13:43:32 WARN DAGScheduler: Broadcasting large task binary with size 6.2 MiB\n",
      "24/03/28 13:43:33 WARN DAGScheduler: Broadcasting large task binary with size 8.4 MiB\n",
      "24/03/28 13:43:34 WARN DAGScheduler: Broadcasting large task binary with size 1161.7 KiB\n",
      "24/03/28 13:43:35 WARN DAGScheduler: Broadcasting large task binary with size 11.0 MiB\n",
      "24/03/28 13:43:35 WARN DAGScheduler: Broadcasting large task binary with size 1345.1 KiB\n",
      "24/03/28 13:43:37 WARN DAGScheduler: Broadcasting large task binary with size 13.9 MiB\n",
      "24/03/28 13:43:37 WARN DAGScheduler: Broadcasting large task binary with size 1498.9 KiB\n",
      "24/03/28 13:43:39 WARN DAGScheduler: Broadcasting large task binary with size 16.9 MiB\n",
      "24/03/28 13:43:40 WARN DAGScheduler: Broadcasting large task binary with size 1604.1 KiB\n",
      "24/03/28 13:43:42 WARN DAGScheduler: Broadcasting large task binary with size 20.1 MiB\n",
      "24/03/28 13:43:43 WARN DAGScheduler: Broadcasting large task binary with size 1664.5 KiB\n",
      "24/03/28 13:43:49 WARN DAGScheduler: Broadcasting large task binary with size 1711.0 KiB\n",
      "24/03/28 13:43:50 WARN DAGScheduler: Broadcasting large task binary with size 2.8 MiB\n",
      "24/03/28 13:43:51 WARN DAGScheduler: Broadcasting large task binary with size 4.4 MiB\n",
      "24/03/28 13:43:52 WARN DAGScheduler: Broadcasting large task binary with size 6.6 MiB\n",
      "24/03/28 13:43:53 WARN DAGScheduler: Broadcasting large task binary with size 1114.0 KiB\n",
      "24/03/28 13:43:54 WARN DAGScheduler: Broadcasting large task binary with size 9.3 MiB\n",
      "24/03/28 13:43:54 WARN DAGScheduler: Broadcasting large task binary with size 1422.4 KiB\n",
      "24/03/28 13:43:58 WARN DAGScheduler: Broadcasting large task binary with size 1711.0 KiB\n",
      "24/03/28 13:43:59 WARN DAGScheduler: Broadcasting large task binary with size 2.8 MiB\n",
      "24/03/28 13:44:00 WARN DAGScheduler: Broadcasting large task binary with size 4.4 MiB\n",
      "24/03/28 13:44:01 WARN DAGScheduler: Broadcasting large task binary with size 6.6 MiB\n",
      "24/03/28 13:44:02 WARN DAGScheduler: Broadcasting large task binary with size 1114.0 KiB\n",
      "24/03/28 13:44:03 WARN DAGScheduler: Broadcasting large task binary with size 9.3 MiB\n",
      "24/03/28 13:44:03 WARN DAGScheduler: Broadcasting large task binary with size 1422.4 KiB\n",
      "24/03/28 13:44:05 WARN DAGScheduler: Broadcasting large task binary with size 12.6 MiB\n",
      "24/03/28 13:44:05 WARN DAGScheduler: Broadcasting large task binary with size 1730.9 KiB\n",
      "24/03/28 13:44:08 WARN DAGScheduler: Broadcasting large task binary with size 16.4 MiB\n",
      "24/03/28 13:44:09 WARN DAGScheduler: Broadcasting large task binary with size 2005.6 KiB\n",
      "24/03/28 13:44:11 WARN DAGScheduler: Broadcasting large task binary with size 20.7 MiB\n",
      "24/03/28 13:44:12 WARN DAGScheduler: Broadcasting large task binary with size 2.2 MiB\n",
      "24/03/28 13:44:14 WARN DAGScheduler: Broadcasting large task binary with size 25.3 MiB\n",
      "24/03/28 13:44:15 WARN DAGScheduler: Broadcasting large task binary with size 2.4 MiB\n",
      "24/03/28 13:44:18 WARN DAGScheduler: Broadcasting large task binary with size 30.1 MiB\n",
      "24/03/28 13:44:20 WARN DAGScheduler: Broadcasting large task binary with size 2.5 MiB\n",
      "24/03/28 13:44:26 WARN DAGScheduler: Broadcasting large task binary with size 1045.0 KiB\n",
      "24/03/28 13:44:26 WARN DAGScheduler: Broadcasting large task binary with size 1604.2 KiB\n",
      "24/03/28 13:44:27 WARN DAGScheduler: Broadcasting large task binary with size 2.3 MiB\n",
      "24/03/28 13:44:27 WARN DAGScheduler: Broadcasting large task binary with size 3.2 MiB\n",
      "24/03/28 13:44:30 WARN DAGScheduler: Broadcasting large task binary with size 1045.0 KiB\n",
      "24/03/28 13:44:30 WARN DAGScheduler: Broadcasting large task binary with size 1604.2 KiB\n",
      "24/03/28 13:44:30 WARN DAGScheduler: Broadcasting large task binary with size 2.3 MiB\n",
      "24/03/28 13:44:31 WARN DAGScheduler: Broadcasting large task binary with size 3.2 MiB\n",
      "24/03/28 13:44:32 WARN DAGScheduler: Broadcasting large task binary with size 4.3 MiB\n",
      "24/03/28 13:44:32 WARN DAGScheduler: Broadcasting large task binary with size 5.5 MiB\n",
      "24/03/28 13:44:33 WARN DAGScheduler: Broadcasting large task binary with size 6.9 MiB\n",
      "24/03/28 13:44:34 WARN DAGScheduler: Broadcasting large task binary with size 8.5 MiB\n",
      "24/03/28 13:44:36 WARN DAGScheduler: Broadcasting large task binary with size 10.0 MiB\n",
      "24/03/28 13:44:40 WARN DAGScheduler: Broadcasting large task binary with size 1186.1 KiB\n",
      "24/03/28 13:44:41 WARN DAGScheduler: Broadcasting large task binary with size 1924.9 KiB\n",
      "24/03/28 13:44:42 WARN DAGScheduler: Broadcasting large task binary with size 2.9 MiB\n",
      "24/03/28 13:44:42 WARN DAGScheduler: Broadcasting large task binary with size 4.3 MiB\n",
      "24/03/28 13:44:44 WARN DAGScheduler: Broadcasting large task binary with size 6.1 MiB\n",
      "24/03/28 13:44:47 WARN DAGScheduler: Broadcasting large task binary with size 1186.1 KiB\n",
      "24/03/28 13:44:47 WARN DAGScheduler: Broadcasting large task binary with size 1924.9 KiB\n",
      "24/03/28 13:44:48 WARN DAGScheduler: Broadcasting large task binary with size 2.9 MiB\n",
      "24/03/28 13:44:49 WARN DAGScheduler: Broadcasting large task binary with size 4.3 MiB\n",
      "24/03/28 13:44:50 WARN DAGScheduler: Broadcasting large task binary with size 6.1 MiB\n",
      "24/03/28 13:44:51 WARN DAGScheduler: Broadcasting large task binary with size 8.3 MiB\n",
      "24/03/28 13:44:52 WARN DAGScheduler: Broadcasting large task binary with size 1131.3 KiB\n",
      "24/03/28 13:44:53 WARN DAGScheduler: Broadcasting large task binary with size 10.8 MiB\n",
      "24/03/28 13:44:54 WARN DAGScheduler: Broadcasting large task binary with size 1307.8 KiB\n",
      "24/03/28 13:44:55 WARN DAGScheduler: Broadcasting large task binary with size 13.5 MiB\n",
      "24/03/28 13:44:56 WARN DAGScheduler: Broadcasting large task binary with size 1452.7 KiB\n",
      "24/03/28 13:44:57 WARN DAGScheduler: Broadcasting large task binary with size 16.5 MiB\n",
      "24/03/28 13:44:58 WARN DAGScheduler: Broadcasting large task binary with size 1563.3 KiB\n",
      "24/03/28 13:45:00 WARN DAGScheduler: Broadcasting large task binary with size 19.6 MiB\n",
      "24/03/28 13:45:01 WARN DAGScheduler: Broadcasting large task binary with size 1624.3 KiB\n",
      "24/03/28 13:45:07 WARN DAGScheduler: Broadcasting large task binary with size 1714.3 KiB\n",
      "24/03/28 13:45:08 WARN DAGScheduler: Broadcasting large task binary with size 2.8 MiB\n",
      "24/03/28 13:45:09 WARN DAGScheduler: Broadcasting large task binary with size 4.4 MiB\n",
      "24/03/28 13:45:10 WARN DAGScheduler: Broadcasting large task binary with size 6.5 MiB\n",
      "24/03/28 13:45:11 WARN DAGScheduler: Broadcasting large task binary with size 1110.3 KiB\n",
      "24/03/28 13:45:11 WARN DAGScheduler: Broadcasting large task binary with size 9.3 MiB\n",
      "24/03/28 13:45:12 WARN DAGScheduler: Broadcasting large task binary with size 1426.2 KiB\n",
      "24/03/28 13:45:16 WARN DAGScheduler: Broadcasting large task binary with size 1714.3 KiB\n",
      "24/03/28 13:45:16 WARN DAGScheduler: Broadcasting large task binary with size 2.8 MiB\n",
      "24/03/28 13:45:17 WARN DAGScheduler: Broadcasting large task binary with size 4.4 MiB\n",
      "24/03/28 13:45:19 WARN DAGScheduler: Broadcasting large task binary with size 6.5 MiB\n",
      "24/03/28 13:45:20 WARN DAGScheduler: Broadcasting large task binary with size 1110.3 KiB\n",
      "24/03/28 13:45:21 WARN DAGScheduler: Broadcasting large task binary with size 9.3 MiB\n",
      "24/03/28 13:45:22 WARN DAGScheduler: Broadcasting large task binary with size 1426.2 KiB\n",
      "24/03/28 13:45:23 WARN DAGScheduler: Broadcasting large task binary with size 12.6 MiB\n",
      "24/03/28 13:45:24 WARN DAGScheduler: Broadcasting large task binary with size 1746.2 KiB\n",
      "24/03/28 13:45:25 WARN DAGScheduler: Broadcasting large task binary with size 16.5 MiB\n",
      "24/03/28 13:45:26 WARN DAGScheduler: Broadcasting large task binary with size 2022.6 KiB\n",
      "24/03/28 13:45:28 WARN DAGScheduler: Broadcasting large task binary with size 20.8 MiB\n",
      "24/03/28 13:45:30 WARN DAGScheduler: Broadcasting large task binary with size 2.2 MiB\n",
      "24/03/28 13:45:32 WARN DAGScheduler: Broadcasting large task binary with size 25.3 MiB\n",
      "24/03/28 13:45:33 WARN DAGScheduler: Broadcasting large task binary with size 2.3 MiB\n",
      "24/03/28 13:45:36 WARN DAGScheduler: Broadcasting large task binary with size 29.9 MiB\n",
      "24/03/28 13:45:37 WARN DAGScheduler: Broadcasting large task binary with size 2.4 MiB\n",
      "24/03/28 13:45:43 WARN DAGScheduler: Broadcasting large task binary with size 1052.6 KiB\n",
      "24/03/28 13:45:44 WARN DAGScheduler: Broadcasting large task binary with size 1615.3 KiB\n",
      "24/03/28 13:45:44 WARN DAGScheduler: Broadcasting large task binary with size 2.3 MiB\n",
      "24/03/28 13:45:45 WARN DAGScheduler: Broadcasting large task binary with size 3.2 MiB\n",
      "24/03/28 13:45:47 WARN DAGScheduler: Broadcasting large task binary with size 1052.6 KiB\n",
      "24/03/28 13:45:47 WARN DAGScheduler: Broadcasting large task binary with size 1615.3 KiB\n",
      "24/03/28 13:45:48 WARN DAGScheduler: Broadcasting large task binary with size 2.3 MiB\n",
      "24/03/28 13:45:48 WARN DAGScheduler: Broadcasting large task binary with size 3.2 MiB\n",
      "24/03/28 13:45:49 WARN DAGScheduler: Broadcasting large task binary with size 4.3 MiB\n",
      "24/03/28 13:45:50 WARN DAGScheduler: Broadcasting large task binary with size 5.6 MiB\n",
      "24/03/28 13:45:51 WARN DAGScheduler: Broadcasting large task binary with size 7.1 MiB\n",
      "24/03/28 13:45:52 WARN DAGScheduler: Broadcasting large task binary with size 8.7 MiB\n",
      "24/03/28 13:45:53 WARN DAGScheduler: Broadcasting large task binary with size 10.3 MiB\n",
      "24/03/28 13:45:58 WARN DAGScheduler: Broadcasting large task binary with size 1202.2 KiB\n",
      "24/03/28 13:45:58 WARN DAGScheduler: Broadcasting large task binary with size 1968.5 KiB\n",
      "24/03/28 13:45:59 WARN DAGScheduler: Broadcasting large task binary with size 3.0 MiB\n",
      "24/03/28 13:46:00 WARN DAGScheduler: Broadcasting large task binary with size 4.5 MiB\n",
      "24/03/28 13:46:01 WARN DAGScheduler: Broadcasting large task binary with size 6.4 MiB\n",
      "24/03/28 13:46:04 WARN DAGScheduler: Broadcasting large task binary with size 1202.2 KiB\n",
      "24/03/28 13:46:05 WARN DAGScheduler: Broadcasting large task binary with size 1968.5 KiB\n",
      "24/03/28 13:46:05 WARN DAGScheduler: Broadcasting large task binary with size 3.0 MiB\n",
      "24/03/28 13:46:06 WARN DAGScheduler: Broadcasting large task binary with size 4.5 MiB\n",
      "24/03/28 13:46:08 WARN DAGScheduler: Broadcasting large task binary with size 6.4 MiB\n",
      "24/03/28 13:46:09 WARN DAGScheduler: Broadcasting large task binary with size 8.7 MiB\n",
      "24/03/28 13:46:09 WARN DAGScheduler: Broadcasting large task binary with size 1207.4 KiB\n",
      "24/03/28 13:46:11 WARN DAGScheduler: Broadcasting large task binary with size 11.4 MiB\n",
      "24/03/28 13:46:11 WARN DAGScheduler: Broadcasting large task binary with size 1410.6 KiB\n",
      "24/03/28 13:46:13 WARN DAGScheduler: Broadcasting large task binary with size 14.4 MiB\n",
      "24/03/28 13:46:14 WARN DAGScheduler: Broadcasting large task binary with size 1573.2 KiB\n",
      "24/03/28 13:46:15 WARN DAGScheduler: Broadcasting large task binary with size 17.6 MiB\n",
      "24/03/28 13:46:16 WARN DAGScheduler: Broadcasting large task binary with size 1684.2 KiB\n",
      "24/03/28 13:46:18 WARN DAGScheduler: Broadcasting large task binary with size 21.0 MiB\n",
      "24/03/28 13:46:19 WARN DAGScheduler: Broadcasting large task binary with size 1751.2 KiB\n",
      "24/03/28 13:46:23 WARN DAGScheduler: Broadcasting large task binary with size 1006.8 KiB\n",
      "24/03/28 13:46:25 WARN DAGScheduler: Broadcasting large task binary with size 1006.8 KiB\n",
      "24/03/28 13:46:26 WARN DAGScheduler: Broadcasting large task binary with size 1745.1 KiB\n",
      "24/03/28 13:46:27 WARN DAGScheduler: Broadcasting large task binary with size 2.8 MiB\n",
      "24/03/28 13:46:28 WARN DAGScheduler: Broadcasting large task binary with size 4.5 MiB\n",
      "24/03/28 13:46:29 WARN DAGScheduler: Broadcasting large task binary with size 6.8 MiB\n",
      "24/03/28 13:46:30 WARN DAGScheduler: Broadcasting large task binary with size 1167.1 KiB\n",
      "24/03/28 13:46:31 WARN DAGScheduler: Broadcasting large task binary with size 9.6 MiB\n",
      "24/03/28 13:46:32 WARN DAGScheduler: Broadcasting large task binary with size 1483.1 KiB\n",
      "24/03/28 13:46:35 WARN DAGScheduler: Broadcasting large task binary with size 1006.8 KiB\n",
      "24/03/28 13:46:35 WARN DAGScheduler: Broadcasting large task binary with size 1745.1 KiB\n",
      "24/03/28 13:46:36 WARN DAGScheduler: Broadcasting large task binary with size 2.8 MiB\n",
      "24/03/28 13:46:37 WARN DAGScheduler: Broadcasting large task binary with size 4.5 MiB\n",
      "24/03/28 13:46:38 WARN DAGScheduler: Broadcasting large task binary with size 6.8 MiB\n",
      "24/03/28 13:46:39 WARN DAGScheduler: Broadcasting large task binary with size 1167.1 KiB\n",
      "24/03/28 13:46:40 WARN DAGScheduler: Broadcasting large task binary with size 9.6 MiB\n",
      "24/03/28 13:46:40 WARN DAGScheduler: Broadcasting large task binary with size 1483.1 KiB\n",
      "24/03/28 13:46:42 WARN DAGScheduler: Broadcasting large task binary with size 13.1 MiB\n",
      "24/03/28 13:46:43 WARN DAGScheduler: Broadcasting large task binary with size 1810.4 KiB\n",
      "24/03/28 13:46:44 WARN DAGScheduler: Broadcasting large task binary with size 17.1 MiB\n",
      "24/03/28 13:46:45 WARN DAGScheduler: Broadcasting large task binary with size 2.0 MiB\n",
      "24/03/28 13:46:48 WARN DAGScheduler: Broadcasting large task binary with size 21.6 MiB\n",
      "24/03/28 13:46:49 WARN DAGScheduler: Broadcasting large task binary with size 2.3 MiB\n",
      "24/03/28 13:46:52 WARN DAGScheduler: Broadcasting large task binary with size 26.4 MiB\n",
      "24/03/28 13:46:53 WARN DAGScheduler: Broadcasting large task binary with size 2.5 MiB\n",
      "24/03/28 13:46:56 WARN DAGScheduler: Broadcasting large task binary with size 31.5 MiB\n",
      "24/03/28 13:46:58 WARN DAGScheduler: Broadcasting large task binary with size 2.6 MiB\n",
      "24/03/28 13:47:03 WARN DAGScheduler: Broadcasting large task binary with size 1051.3 KiB\n",
      "24/03/28 13:47:03 WARN DAGScheduler: Broadcasting large task binary with size 1642.3 KiB\n",
      "24/03/28 13:47:04 WARN DAGScheduler: Broadcasting large task binary with size 2.4 MiB\n",
      "24/03/28 13:47:05 WARN DAGScheduler: Broadcasting large task binary with size 3.4 MiB\n",
      "24/03/28 13:47:05 WARN DAGScheduler: Broadcasting large task binary with size 4.6 MiB\n",
      "24/03/28 13:47:06 WARN DAGScheduler: Broadcasting large task binary with size 6.0 MiB\n",
      "24/03/28 13:47:07 WARN DAGScheduler: Broadcasting large task binary with size 7.6 MiB\n",
      "24/03/28 13:47:09 WARN DAGScheduler: Broadcasting large task binary with size 9.3 MiB\n",
      "24/03/28 13:47:10 WARN DAGScheduler: Broadcasting large task binary with size 11.2 MiB\n"
     ]
    }
   ],
   "source": [
    "# Instantiate random forest\n",
    "rf = RandomForestRegressor(featuresCol=\"features\", labelCol=\"totalFare\")\n",
    "\n",
    "# Create a pipeline\n",
    "pipeline = Pipeline(stages=[assembler, rf])\n",
    "\n",
    "# Create ParamGrid for Cross Validation\n",
    "param_grid = ParamGridBuilder() \\\n",
    "    .addGrid(rf.numTrees, [50, 100, 150, 200]) \\\n",
    "    .addGrid(rf.maxDepth, [5, 10, 15, 20]) \\\n",
    "    .build()\n",
    "\n",
    "# Define evaluator\n",
    "evaluator = RegressionEvaluator(predictionCol=\"prediction\", labelCol=\"totalFare\", metricName=\"rmse\")\n",
    "\n",
    "# Create CrossValidator\n",
    "cv = CrossValidator(estimator=pipeline,\n",
    "                    estimatorParamMaps=param_grid,\n",
    "                    evaluator=evaluator,\n",
    "                    numFolds=5)\n",
    "\n",
    "# Run cross-validation\n",
    "cv_model = cv.fit(train_data)"
   ]
  },
  {
   "cell_type": "markdown",
   "id": "e8623f22-b9cc-4ea4-ab64-4428abef2b66",
   "metadata": {},
   "source": [
    "## Investigate the best performing model"
   ]
  },
  {
   "cell_type": "code",
   "execution_count": 16,
   "id": "fbb70c79-70e4-482a-866b-f07130f9a433",
   "metadata": {},
   "outputs": [
    {
     "name": "stdout",
     "output_type": "stream",
     "text": [
      "Best Model Parameters:\n",
      "bootstrap : True\n",
      "cacheNodeIds : False\n",
      "checkpointInterval : 10\n",
      "featureSubsetStrategy : auto\n",
      "featuresCol : features\n",
      "impurity : variance\n",
      "labelCol : totalFare\n",
      "leafCol : \n",
      "maxBins : 32\n",
      "maxDepth : 15\n",
      "maxMemoryInMB : 256\n",
      "minInfoGain : 0.0\n",
      "minInstancesPerNode : 1\n",
      "minWeightFractionPerNode : 0.0\n",
      "numTrees : 50\n",
      "predictionCol : prediction\n",
      "seed : 2768091509843736401\n",
      "subsamplingRate : 1.0\n"
     ]
    }
   ],
   "source": [
    "# Get the best model\n",
    "best_model = cv_model.bestModel\n",
    "\n",
    "# Access the stages of the pipeline\n",
    "stages = best_model.stages\n",
    "\n",
    "# Access the parameters of the RandomForestRegressor stage\n",
    "rf_params = stages[-1].extractParamMap()\n",
    "\n",
    "# Print the parameters\n",
    "print(\"Best Model Parameters:\")\n",
    "for param, value in rf_params.items():\n",
    "    print(param.name, \":\", value)"
   ]
  },
  {
   "cell_type": "markdown",
   "id": "37cd8a83-7823-4c73-814d-e6cfa07ff3f2",
   "metadata": {},
   "source": [
    "We obtain the best results using a maxdepth of 15 and numtrees of 50. "
   ]
  },
  {
   "cell_type": "markdown",
   "id": "15132645-871e-44f4-bf36-0a63f9135966",
   "metadata": {},
   "source": [
    "## Evaluation"
   ]
  },
  {
   "cell_type": "code",
   "execution_count": 15,
   "id": "291f4efd-fc08-4acf-8d15-3e23a24db2a3",
   "metadata": {},
   "outputs": [
    {
     "name": "stdout",
     "output_type": "stream",
     "text": [
      "Root Mean Squared Error (RMSE) on test data: 179.04594487306673\n"
     ]
    }
   ],
   "source": [
    "# Make predictions on test data using the best model\n",
    "predictions = best_model.transform(test_data)\n",
    "\n",
    "# Evaluate the model on test data\n",
    "rmse = evaluator.evaluate(predictions)\n",
    "print(\"Root Mean Squared Error (RMSE) on test data:\", rmse)"
   ]
  },
  {
   "cell_type": "markdown",
   "id": "81e8f129-436e-4013-8e38-1f33602b2db8",
   "metadata": {},
   "source": []
  },
  {
   "cell_type": "code",
   "execution_count": null,
   "id": "042f283f-92a7-4547-973d-aa0223b4830d",
   "metadata": {},
   "outputs": [],
   "source": []
  }
 ],
 "metadata": {
  "kernelspec": {
   "display_name": "Python 3 (ipykernel)",
   "language": "python",
   "name": "python3"
  },
  "language_info": {
   "codemirror_mode": {
    "name": "ipython",
    "version": 3
   },
   "file_extension": ".py",
   "mimetype": "text/x-python",
   "name": "python",
   "nbconvert_exporter": "python",
   "pygments_lexer": "ipython3",
   "version": "3.12.1"
  }
 },
 "nbformat": 4,
 "nbformat_minor": 5
}
