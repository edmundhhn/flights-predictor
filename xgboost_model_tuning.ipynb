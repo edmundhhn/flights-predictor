{
 "cells": [
  {
   "cell_type": "markdown",
   "metadata": {
    "application/vnd.databricks.v1+cell": {
     "cellMetadata": {},
     "inputWidgets": {},
     "nuid": "61a40377-9154-495f-9d65-61aa0a498fbc",
     "showTitle": false,
     "title": ""
    }
   },
   "source": [
    "# Generating Models for Each Airport Destination "
   ]
  },
  {
   "cell_type": "markdown",
   "metadata": {
    "application/vnd.databricks.v1+cell": {
     "cellMetadata": {},
     "inputWidgets": {},
     "nuid": "675c086c-d2f7-48b8-9627-15cf694299f7",
     "showTitle": false,
     "title": ""
    }
   },
   "source": [
    "---"
   ]
  },
  {
   "cell_type": "markdown",
   "metadata": {
    "application/vnd.databricks.v1+cell": {
     "cellMetadata": {},
     "inputWidgets": {},
     "nuid": "7ac20572-eba9-4252-aef9-d1eec4271c69",
     "showTitle": false,
     "title": ""
    }
   },
   "source": [
    "We tune the hyperparameters for the GBTRegressor"
   ]
  },
  {
   "cell_type": "markdown",
   "metadata": {
    "application/vnd.databricks.v1+cell": {
     "cellMetadata": {},
     "inputWidgets": {},
     "nuid": "1ef1f83a-dd41-4beb-8c5d-79b578e78827",
     "showTitle": false,
     "title": ""
    }
   },
   "source": [
    "For a more comprehsneive tuning process, we utilize k fold cross validation, with various tree sizes and maximum depths"
   ]
  },
  {
   "cell_type": "markdown",
   "metadata": {
    "application/vnd.databricks.v1+cell": {
     "cellMetadata": {},
     "inputWidgets": {},
     "nuid": "959f1027-f0d5-4721-8646-a18ce0a6f91c",
     "showTitle": false,
     "title": ""
    }
   },
   "source": [
    "---"
   ]
  },
  {
   "cell_type": "markdown",
   "metadata": {
    "application/vnd.databricks.v1+cell": {
     "cellMetadata": {},
     "inputWidgets": {},
     "nuid": "052bf326-aa31-4d75-8ac0-eb8c7e683c1b",
     "showTitle": false,
     "title": ""
    }
   },
   "source": [
    "## Load Spark & Data"
   ]
  },
  {
   "cell_type": "code",
   "execution_count": 0,
   "metadata": {
    "application/vnd.databricks.v1+cell": {
     "cellMetadata": {
      "byteLimit": 2048000,
      "rowLimit": 10000
     },
     "inputWidgets": {},
     "nuid": "370b06c1-6084-4bf0-9c79-505fc3e823cf",
     "showTitle": false,
     "title": ""
    }
   },
   "outputs": [],
   "source": [
    "# %pip install xgboost "
   ]
  },
  {
   "cell_type": "code",
   "execution_count": 0,
   "metadata": {
    "application/vnd.databricks.v1+cell": {
     "cellMetadata": {
      "byteLimit": 2048000,
      "rowLimit": 10000
     },
     "inputWidgets": {},
     "nuid": "894d5503-3530-4e24-88bb-edaa376b11cb",
     "showTitle": false,
     "title": ""
    }
   },
   "outputs": [],
   "source": [
    "# %pip install hyperopt"
   ]
  },
  {
   "cell_type": "code",
   "execution_count": 0,
   "metadata": {
    "application/vnd.databricks.v1+cell": {
     "cellMetadata": {
      "byteLimit": 2048000,
      "rowLimit": 10000
     },
     "inputWidgets": {},
     "nuid": "20435f34-9933-4cc5-9137-bc3842c6a1c9",
     "showTitle": false,
     "title": ""
    }
   },
   "outputs": [],
   "source": [
    "dbutils.library.restartPython()"
   ]
  },
  {
   "cell_type": "code",
   "execution_count": 0,
   "metadata": {
    "application/vnd.databricks.v1+cell": {
     "cellMetadata": {
      "byteLimit": 2048000,
      "rowLimit": 10000
     },
     "inputWidgets": {},
     "nuid": "41bbc111-131d-4ac8-b52f-1e5c87892c7a",
     "showTitle": false,
     "title": ""
    }
   },
   "outputs": [],
   "source": [
    "\n",
    "# from hyperopt import fmin, tpe, hp, Trials, STATUS_OK, SparkTrials\n",
    "from pyspark.ml import Pipeline\n",
    "from pyspark.ml.feature import VectorAssembler\n",
    "from pyspark.ml.regression import GBTRegressor\n",
    "from pyspark.ml.evaluation import RegressionEvaluator\n",
    "from pyspark.ml.tuning import ParamGridBuilder, CrossValidator\n",
    "from xgboost.spark import SparkXGBRegressor\n",
    "from pyspark.sql import SparkSession"
   ]
  },
  {
   "cell_type": "code",
   "execution_count": 0,
   "metadata": {
    "application/vnd.databricks.v1+cell": {
     "cellMetadata": {
      "byteLimit": 2048000,
      "rowLimit": 10000
     },
     "inputWidgets": {},
     "nuid": "49478eb4-5566-4116-8a12-50c68d0b4eaa",
     "showTitle": false,
     "title": ""
    }
   },
   "outputs": [],
   "source": [
    "from pyspark.sql.functions import udf\n",
    "from pyspark.sql.types import BooleanType\n",
    "from pyspark.ml.linalg import VectorUDT"
   ]
  },
  {
   "cell_type": "code",
   "execution_count": 0,
   "metadata": {
    "application/vnd.databricks.v1+cell": {
     "cellMetadata": {
      "byteLimit": 2048000,
      "rowLimit": 10000
     },
     "inputWidgets": {},
     "nuid": "e5d5f92c-160d-4f02-8510-27b7fff51a82",
     "showTitle": false,
     "title": ""
    }
   },
   "outputs": [],
   "source": [
    "spark = SparkSession.builder \\\n",
    ".appName(\"xgboost_large\") \\\n",
    ".config(\"spark.executor.memory\", \"8g\") \\\n",
    ".config(\"spark.driver.memory\", \"4g\") \\\n",
    ".config(\"spark.executor.cores\", \"2\") \\\n",
    ".config(\"spark.executor.instances\", \"4\") \\\n",
    ".getOrCreate()"
   ]
  },
  {
   "cell_type": "code",
   "execution_count": 0,
   "metadata": {
    "application/vnd.databricks.v1+cell": {
     "cellMetadata": {
      "byteLimit": 2048000,
      "rowLimit": 10000
     },
     "inputWidgets": {},
     "nuid": "a32e8d63-9a58-4d2c-8f8e-a4eb449f7cbe",
     "showTitle": false,
     "title": ""
    }
   },
   "outputs": [],
   "source": [
    "# REPLACE WITH PROCESSED DATA FILEPATH\n",
    "DATA_PATH = \"/mnt/nguyen1/itineraries_processed_0.1.parquet\""
   ]
  },
  {
   "cell_type": "code",
   "execution_count": 0,
   "metadata": {
    "application/vnd.databricks.v1+cell": {
     "cellMetadata": {
      "byteLimit": 2048000,
      "rowLimit": 10000
     },
     "inputWidgets": {},
     "nuid": "d82b96cf-50c5-41c1-9eae-7ba47485c82b",
     "showTitle": false,
     "title": ""
    }
   },
   "outputs": [],
   "source": [
    "# display(dbutils.fs.ls(\"/mnt/nguyen1/itineraries_processed_0.1.parquet/\"))"
   ]
  },
  {
   "cell_type": "code",
   "execution_count": 0,
   "metadata": {
    "application/vnd.databricks.v1+cell": {
     "cellMetadata": {
      "byteLimit": 2048000,
      "rowLimit": 10000
     },
     "inputWidgets": {},
     "nuid": "72045c0a-00e4-434e-abbc-4b7078f5d25c",
     "showTitle": false,
     "title": ""
    }
   },
   "outputs": [],
   "source": [
    "# display(df)"
   ]
  },
  {
   "cell_type": "code",
   "execution_count": 0,
   "metadata": {
    "application/vnd.databricks.v1+cell": {
     "cellMetadata": {
      "byteLimit": 2048000,
      "rowLimit": 10000
     },
     "inputWidgets": {},
     "nuid": "099f426d-6ec1-4b06-8f2e-81ade64fd768",
     "showTitle": false,
     "title": ""
    }
   },
   "outputs": [],
   "source": [
    "train_data, test_data = df.randomSplit([0.8, 0.2], seed=42)"
   ]
  },
  {
   "cell_type": "code",
   "execution_count": 0,
   "metadata": {
    "application/vnd.databricks.v1+cell": {
     "cellMetadata": {
      "byteLimit": 2048000,
      "rowLimit": 10000
     },
     "inputWidgets": {},
     "nuid": "db47f4f6-b9c4-4ac2-b0b5-c1406b56d311",
     "showTitle": false,
     "title": ""
    }
   },
   "outputs": [
    {
     "output_type": "execute_result",
     "data": {
      "text/plain": [
       "6029346"
      ]
     },
     "execution_count": 10,
     "metadata": {},
     "output_type": "execute_result"
    }
   ],
   "source": [
    "train_data.count()"
   ]
  },
  {
   "cell_type": "code",
   "execution_count": 0,
   "metadata": {
    "application/vnd.databricks.v1+cell": {
     "cellMetadata": {
      "byteLimit": 2048000,
      "rowLimit": 10000
     },
     "inputWidgets": {},
     "nuid": "9a2247fe-9657-4e36-881a-9ac195a3fb44",
     "showTitle": false,
     "title": ""
    }
   },
   "outputs": [
    {
     "output_type": "execute_result",
     "data": {
      "text/plain": [
       "1508468"
      ]
     },
     "execution_count": 11,
     "metadata": {},
     "output_type": "execute_result"
    }
   ],
   "source": [
    "test_data.count()"
   ]
  },
  {
   "cell_type": "markdown",
   "metadata": {
    "application/vnd.databricks.v1+cell": {
     "cellMetadata": {},
     "inputWidgets": {},
     "nuid": "fffc38f9-3ccb-452e-870c-3952008a982c",
     "showTitle": false,
     "title": ""
    }
   },
   "source": [
    "## Create Vector Assembler"
   ]
  },
  {
   "cell_type": "code",
   "execution_count": 0,
   "metadata": {
    "application/vnd.databricks.v1+cell": {
     "cellMetadata": {
      "byteLimit": 2048000,
      "rowLimit": 10000
     },
     "inputWidgets": {},
     "nuid": "200eebcf-2e8d-4eb9-8baf-a67f7a6ea7f0",
     "showTitle": false,
     "title": ""
    }
   },
   "outputs": [],
   "source": [
    "feature_columns = df.columns[:-1]\n",
    "feature_columns.remove('totalFare')\n",
    "\n",
    "# Assemble features into a vector\n",
    "assembler = VectorAssembler(inputCols=feature_columns, outputCol=\"features\")\n",
    "# df_ass = assembler.transform(df)"
   ]
  },
  {
   "cell_type": "markdown",
   "metadata": {
    "application/vnd.databricks.v1+cell": {
     "cellMetadata": {},
     "inputWidgets": {},
     "nuid": "bf0a275e-4aa7-47e6-96d1-3c9643a73867",
     "showTitle": false,
     "title": ""
    }
   },
   "source": [
    "## XGboost Tuning"
   ]
  },
  {
   "cell_type": "code",
   "execution_count": 0,
   "metadata": {
    "application/vnd.databricks.v1+cell": {
     "cellMetadata": {
      "byteLimit": 2048000,
      "rowLimit": 10000
     },
     "inputWidgets": {},
     "nuid": "de7f3c44-d6a9-4425-8b93-ca6847c1f4cc",
     "showTitle": false,
     "title": ""
    }
   },
   "outputs": [
    {
     "output_type": "stream",
     "name": "stderr",
     "output_type": "stream",
     "text": [
      "2024-04-12 22:10:05,539 INFO XGBoost-PySpark: _fit Running xgboost-2.0.3 on 1 workers with\n\tbooster params: {'device': 'cpu', 'max_depth': 3, 'objective': 'reg:squarederror', 'nthread': 1}\n\ttrain_call_kwargs_params: {'verbose_eval': True, 'num_boost_round': 10}\n\tdmatrix_kwargs: {'nthread': 1, 'missing': nan}\n2024-04-12 22:11:03,787 INFO XGBoost-PySpark: _fit Finished xgboost training!\n2024-04-12 22:11:51,706 INFO XGBoost-PySpark: _fit Running xgboost-2.0.3 on 1 workers with\n\tbooster params: {'device': 'cpu', 'max_depth': 3, 'objective': 'reg:squarederror', 'nthread': 1}\n\ttrain_call_kwargs_params: {'verbose_eval': True, 'num_boost_round': 15}\n\tdmatrix_kwargs: {'nthread': 1, 'missing': nan}\n2024-04-12 22:12:26,944 INFO XGBoost-PySpark: _fit Finished xgboost training!\n2024-04-12 22:12:34,662 INFO XGBoost-PySpark: _fit Running xgboost-2.0.3 on 1 workers with\n\tbooster params: {'device': 'cpu', 'max_depth': 3, 'objective': 'reg:squarederror', 'nthread': 1}\n\ttrain_call_kwargs_params: {'verbose_eval': True, 'num_boost_round': 20}\n\tdmatrix_kwargs: {'nthread': 1, 'missing': nan}\n2024-04-12 22:13:10,873 INFO XGBoost-PySpark: _fit Finished xgboost training!\n2024-04-12 22:13:18,208 INFO XGBoost-PySpark: _fit Running xgboost-2.0.3 on 1 workers with\n\tbooster params: {'device': 'cpu', 'max_depth': 3, 'objective': 'reg:squarederror', 'nthread': 1}\n\ttrain_call_kwargs_params: {'verbose_eval': True, 'num_boost_round': 40}\n\tdmatrix_kwargs: {'nthread': 1, 'missing': nan}\n2024-04-12 22:14:02,021 INFO XGBoost-PySpark: _fit Finished xgboost training!\n2024-04-12 22:14:09,213 INFO XGBoost-PySpark: _fit Running xgboost-2.0.3 on 1 workers with\n\tbooster params: {'device': 'cpu', 'max_depth': 3, 'objective': 'reg:squarederror', 'nthread': 1}\n\ttrain_call_kwargs_params: {'verbose_eval': True, 'num_boost_round': 30}\n\tdmatrix_kwargs: {'nthread': 1, 'missing': nan}\n2024-04-12 22:14:51,172 INFO XGBoost-PySpark: _fit Finished xgboost training!\n2024-04-12 22:14:58,213 INFO XGBoost-PySpark: _fit Running xgboost-2.0.3 on 1 workers with\n\tbooster params: {'device': 'cpu', 'max_depth': 5, 'objective': 'reg:squarederror', 'nthread': 1}\n\ttrain_call_kwargs_params: {'verbose_eval': True, 'num_boost_round': 10}\n\tdmatrix_kwargs: {'nthread': 1, 'missing': nan}\n2024-04-12 22:15:33,315 INFO XGBoost-PySpark: _fit Finished xgboost training!\n2024-04-12 22:15:40,377 INFO XGBoost-PySpark: _fit Running xgboost-2.0.3 on 1 workers with\n\tbooster params: {'device': 'cpu', 'max_depth': 5, 'objective': 'reg:squarederror', 'nthread': 1}\n\ttrain_call_kwargs_params: {'verbose_eval': True, 'num_boost_round': 15}\n\tdmatrix_kwargs: {'nthread': 1, 'missing': nan}\n2024-04-12 22:16:16,654 INFO XGBoost-PySpark: _fit Finished xgboost training!\n2024-04-12 22:16:23,557 INFO XGBoost-PySpark: _fit Running xgboost-2.0.3 on 1 workers with\n\tbooster params: {'device': 'cpu', 'max_depth': 5, 'objective': 'reg:squarederror', 'nthread': 1}\n\ttrain_call_kwargs_params: {'verbose_eval': True, 'num_boost_round': 20}\n\tdmatrix_kwargs: {'nthread': 1, 'missing': nan}\n2024-04-12 22:17:02,451 INFO XGBoost-PySpark: _fit Finished xgboost training!\n2024-04-12 22:17:09,390 INFO XGBoost-PySpark: _fit Running xgboost-2.0.3 on 1 workers with\n\tbooster params: {'device': 'cpu', 'max_depth': 5, 'objective': 'reg:squarederror', 'nthread': 1}\n\ttrain_call_kwargs_params: {'verbose_eval': True, 'num_boost_round': 40}\n\tdmatrix_kwargs: {'nthread': 1, 'missing': nan}\n2024-04-12 22:17:59,750 INFO XGBoost-PySpark: _fit Finished xgboost training!\n2024-04-12 22:18:06,749 INFO XGBoost-PySpark: _fit Running xgboost-2.0.3 on 1 workers with\n\tbooster params: {'device': 'cpu', 'max_depth': 5, 'objective': 'reg:squarederror', 'nthread': 1}\n\ttrain_call_kwargs_params: {'verbose_eval': True, 'num_boost_round': 30}\n\tdmatrix_kwargs: {'nthread': 1, 'missing': nan}\n2024-04-12 22:18:50,932 INFO XGBoost-PySpark: _fit Finished xgboost training!\n2024-04-12 22:18:58,051 INFO XGBoost-PySpark: _fit Running xgboost-2.0.3 on 1 workers with\n\tbooster params: {'device': 'cpu', 'max_depth': 7, 'objective': 'reg:squarederror', 'nthread': 1}\n\ttrain_call_kwargs_params: {'verbose_eval': True, 'num_boost_round': 10}\n\tdmatrix_kwargs: {'nthread': 1, 'missing': nan}\n2024-04-12 22:19:34,480 INFO XGBoost-PySpark: _fit Finished xgboost training!\n2024-04-12 22:19:41,415 INFO XGBoost-PySpark: _fit Running xgboost-2.0.3 on 1 workers with\n\tbooster params: {'device': 'cpu', 'max_depth': 7, 'objective': 'reg:squarederror', 'nthread': 1}\n\ttrain_call_kwargs_params: {'verbose_eval': True, 'num_boost_round': 15}\n\tdmatrix_kwargs: {'nthread': 1, 'missing': nan}\n2024-04-12 22:20:20,878 INFO XGBoost-PySpark: _fit Finished xgboost training!\n2024-04-12 22:20:28,029 INFO XGBoost-PySpark: _fit Running xgboost-2.0.3 on 1 workers with\n\tbooster params: {'device': 'cpu', 'max_depth': 7, 'objective': 'reg:squarederror', 'nthread': 1}\n\ttrain_call_kwargs_params: {'verbose_eval': True, 'num_boost_round': 20}\n\tdmatrix_kwargs: {'nthread': 1, 'missing': nan}\n2024-04-12 22:21:16,963 INFO XGBoost-PySpark: _fit Finished xgboost training!\n2024-04-12 22:21:27,255 INFO XGBoost-PySpark: _fit Running xgboost-2.0.3 on 1 workers with\n\tbooster params: {'device': 'cpu', 'max_depth': 7, 'objective': 'reg:squarederror', 'nthread': 1}\n\ttrain_call_kwargs_params: {'verbose_eval': True, 'num_boost_round': 40}\n\tdmatrix_kwargs: {'nthread': 1, 'missing': nan}\n2024-04-12 22:22:25,076 INFO XGBoost-PySpark: _fit Finished xgboost training!\n2024-04-12 22:22:32,933 INFO XGBoost-PySpark: _fit Running xgboost-2.0.3 on 1 workers with\n\tbooster params: {'device': 'cpu', 'max_depth': 7, 'objective': 'reg:squarederror', 'nthread': 1}\n\ttrain_call_kwargs_params: {'verbose_eval': True, 'num_boost_round': 30}\n\tdmatrix_kwargs: {'nthread': 1, 'missing': nan}\n2024-04-12 22:23:24,421 INFO XGBoost-PySpark: _fit Finished xgboost training!\n2024-04-12 22:23:31,545 INFO XGBoost-PySpark: _fit Running xgboost-2.0.3 on 1 workers with\n\tbooster params: {'device': 'cpu', 'max_depth': 9, 'objective': 'reg:squarederror', 'nthread': 1}\n\ttrain_call_kwargs_params: {'verbose_eval': True, 'num_boost_round': 10}\n\tdmatrix_kwargs: {'nthread': 1, 'missing': nan}\n2024-04-12 22:24:10,043 INFO XGBoost-PySpark: _fit Finished xgboost training!\n2024-04-12 22:24:16,345 INFO XGBoost-PySpark: _fit Running xgboost-2.0.3 on 1 workers with\n\tbooster params: {'device': 'cpu', 'max_depth': 9, 'objective': 'reg:squarederror', 'nthread': 1}\n\ttrain_call_kwargs_params: {'verbose_eval': True, 'num_boost_round': 15}\n\tdmatrix_kwargs: {'nthread': 1, 'missing': nan}\n2024-04-12 22:24:58,207 INFO XGBoost-PySpark: _fit Finished xgboost training!\n2024-04-12 22:25:05,035 INFO XGBoost-PySpark: _fit Running xgboost-2.0.3 on 1 workers with\n\tbooster params: {'device': 'cpu', 'max_depth': 9, 'objective': 'reg:squarederror', 'nthread': 1}\n\ttrain_call_kwargs_params: {'verbose_eval': True, 'num_boost_round': 20}\n\tdmatrix_kwargs: {'nthread': 1, 'missing': nan}\n2024-04-12 22:25:52,128 INFO XGBoost-PySpark: _fit Finished xgboost training!\n2024-04-12 22:25:58,696 INFO XGBoost-PySpark: _fit Running xgboost-2.0.3 on 1 workers with\n\tbooster params: {'device': 'cpu', 'max_depth': 9, 'objective': 'reg:squarederror', 'nthread': 1}\n\ttrain_call_kwargs_params: {'verbose_eval': True, 'num_boost_round': 40}\n\tdmatrix_kwargs: {'nthread': 1, 'missing': nan}\n2024-04-12 22:27:17,636 INFO XGBoost-PySpark: _fit Finished xgboost training!\n2024-04-12 22:27:26,451 INFO XGBoost-PySpark: _fit Running xgboost-2.0.3 on 1 workers with\n\tbooster params: {'device': 'cpu', 'max_depth': 9, 'objective': 'reg:squarederror', 'nthread': 1}\n\ttrain_call_kwargs_params: {'verbose_eval': True, 'num_boost_round': 30}\n\tdmatrix_kwargs: {'nthread': 1, 'missing': nan}\n2024-04-12 22:28:19,587 INFO XGBoost-PySpark: _fit Finished xgboost training!\n2024-04-12 22:28:26,468 INFO XGBoost-PySpark: _fit Running xgboost-2.0.3 on 1 workers with\n\tbooster params: {'device': 'cpu', 'max_depth': 10, 'objective': 'reg:squarederror', 'nthread': 1}\n\ttrain_call_kwargs_params: {'verbose_eval': True, 'num_boost_round': 10}\n\tdmatrix_kwargs: {'nthread': 1, 'missing': nan}\n2024-04-12 22:29:04,506 INFO XGBoost-PySpark: _fit Finished xgboost training!\n2024-04-12 22:29:10,851 INFO XGBoost-PySpark: _fit Running xgboost-2.0.3 on 1 workers with\n\tbooster params: {'device': 'cpu', 'max_depth': 10, 'objective': 'reg:squarederror', 'nthread': 1}\n\ttrain_call_kwargs_params: {'verbose_eval': True, 'num_boost_round': 15}\n\tdmatrix_kwargs: {'nthread': 1, 'missing': nan}\n2024-04-12 22:29:53,443 INFO XGBoost-PySpark: _fit Finished xgboost training!\n2024-04-12 22:29:59,930 INFO XGBoost-PySpark: _fit Running xgboost-2.0.3 on 1 workers with\n\tbooster params: {'device': 'cpu', 'max_depth': 10, 'objective': 'reg:squarederror', 'nthread': 1}\n\ttrain_call_kwargs_params: {'verbose_eval': True, 'num_boost_round': 20}\n\tdmatrix_kwargs: {'nthread': 1, 'missing': nan}\n2024-04-12 22:30:48,125 INFO XGBoost-PySpark: _fit Finished xgboost training!\n2024-04-12 22:30:54,812 INFO XGBoost-PySpark: _fit Running xgboost-2.0.3 on 1 workers with\n\tbooster params: {'device': 'cpu', 'max_depth': 10, 'objective': 'reg:squarederror', 'nthread': 1}\n\ttrain_call_kwargs_params: {'verbose_eval': True, 'num_boost_round': 40}\n\tdmatrix_kwargs: {'nthread': 1, 'missing': nan}\n2024-04-12 22:31:57,958 INFO XGBoost-PySpark: _fit Finished xgboost training!\n2024-04-12 22:32:05,462 INFO XGBoost-PySpark: _fit Running xgboost-2.0.3 on 1 workers with\n\tbooster params: {'device': 'cpu', 'max_depth': 10, 'objective': 'reg:squarederror', 'nthread': 1}\n\ttrain_call_kwargs_params: {'verbose_eval': True, 'num_boost_round': 30}\n\tdmatrix_kwargs: {'nthread': 1, 'missing': nan}\n2024-04-12 22:33:01,668 INFO XGBoost-PySpark: _fit Finished xgboost training!\n2024-04-12 22:33:09,571 INFO XGBoost-PySpark: _fit Running xgboost-2.0.3 on 1 workers with\n\tbooster params: {'device': 'cpu', 'max_depth': 3, 'objective': 'reg:squarederror', 'nthread': 1}\n\ttrain_call_kwargs_params: {'verbose_eval': True, 'num_boost_round': 10}\n\tdmatrix_kwargs: {'nthread': 1, 'missing': nan}\n2024-04-12 22:35:00,136 INFO XGBoost-PySpark: _fit Finished xgboost training!\n2024-04-12 22:35:59,338 INFO XGBoost-PySpark: _fit Running xgboost-2.0.3 on 1 workers with\n\tbooster params: {'device': 'cpu', 'max_depth': 3, 'objective': 'reg:squarederror', 'nthread': 1}\n\ttrain_call_kwargs_params: {'verbose_eval': True, 'num_boost_round': 15}\n\tdmatrix_kwargs: {'nthread': 1, 'missing': nan}\n2024-04-12 22:36:40,573 INFO XGBoost-PySpark: _fit Finished xgboost training!\n2024-04-12 22:36:48,288 INFO XGBoost-PySpark: _fit Running xgboost-2.0.3 on 1 workers with\n\tbooster params: {'device': 'cpu', 'max_depth': 3, 'objective': 'reg:squarederror', 'nthread': 1}\n\ttrain_call_kwargs_params: {'verbose_eval': True, 'num_boost_round': 20}\n\tdmatrix_kwargs: {'nthread': 1, 'missing': nan}\n2024-04-12 22:37:24,527 INFO XGBoost-PySpark: _fit Finished xgboost training!\n2024-04-12 22:37:31,593 INFO XGBoost-PySpark: _fit Running xgboost-2.0.3 on 1 workers with\n\tbooster params: {'device': 'cpu', 'max_depth': 3, 'objective': 'reg:squarederror', 'nthread': 1}\n\ttrain_call_kwargs_params: {'verbose_eval': True, 'num_boost_round': 40}\n\tdmatrix_kwargs: {'nthread': 1, 'missing': nan}\n2024-04-12 22:38:14,935 INFO XGBoost-PySpark: _fit Finished xgboost training!\n2024-04-12 22:38:22,203 INFO XGBoost-PySpark: _fit Running xgboost-2.0.3 on 1 workers with\n\tbooster params: {'device': 'cpu', 'max_depth': 3, 'objective': 'reg:squarederror', 'nthread': 1}\n\ttrain_call_kwargs_params: {'verbose_eval': True, 'num_boost_round': 30}\n\tdmatrix_kwargs: {'nthread': 1, 'missing': nan}\n2024-04-12 22:39:03,417 INFO XGBoost-PySpark: _fit Finished xgboost training!\n2024-04-12 22:39:10,289 INFO XGBoost-PySpark: _fit Running xgboost-2.0.3 on 1 workers with\n\tbooster params: {'device': 'cpu', 'max_depth': 5, 'objective': 'reg:squarederror', 'nthread': 1}\n\ttrain_call_kwargs_params: {'verbose_eval': True, 'num_boost_round': 10}\n\tdmatrix_kwargs: {'nthread': 1, 'missing': nan}\n2024-04-12 22:39:44,356 INFO XGBoost-PySpark: _fit Finished xgboost training!\n2024-04-12 22:39:51,224 INFO XGBoost-PySpark: _fit Running xgboost-2.0.3 on 1 workers with\n\tbooster params: {'device': 'cpu', 'max_depth': 5, 'objective': 'reg:squarederror', 'nthread': 1}\n\ttrain_call_kwargs_params: {'verbose_eval': True, 'num_boost_round': 15}\n\tdmatrix_kwargs: {'nthread': 1, 'missing': nan}\n2024-04-12 22:40:27,680 INFO XGBoost-PySpark: _fit Finished xgboost training!\n2024-04-12 22:40:34,618 INFO XGBoost-PySpark: _fit Running xgboost-2.0.3 on 1 workers with\n\tbooster params: {'device': 'cpu', 'max_depth': 5, 'objective': 'reg:squarederror', 'nthread': 1}\n\ttrain_call_kwargs_params: {'verbose_eval': True, 'num_boost_round': 20}\n\tdmatrix_kwargs: {'nthread': 1, 'missing': nan}\n2024-04-12 22:41:16,498 INFO XGBoost-PySpark: _fit Finished xgboost training!\n2024-04-12 22:41:23,331 INFO XGBoost-PySpark: _fit Running xgboost-2.0.3 on 1 workers with\n\tbooster params: {'device': 'cpu', 'max_depth': 5, 'objective': 'reg:squarederror', 'nthread': 1}\n\ttrain_call_kwargs_params: {'verbose_eval': True, 'num_boost_round': 40}\n\tdmatrix_kwargs: {'nthread': 1, 'missing': nan}\n2024-04-12 22:42:12,080 INFO XGBoost-PySpark: _fit Finished xgboost training!\n2024-04-12 22:42:19,234 INFO XGBoost-PySpark: _fit Running xgboost-2.0.3 on 1 workers with\n\tbooster params: {'device': 'cpu', 'max_depth': 5, 'objective': 'reg:squarederror', 'nthread': 1}\n\ttrain_call_kwargs_params: {'verbose_eval': True, 'num_boost_round': 30}\n\tdmatrix_kwargs: {'nthread': 1, 'missing': nan}\n2024-04-12 22:43:03,203 INFO XGBoost-PySpark: _fit Finished xgboost training!\n2024-04-12 22:43:10,225 INFO XGBoost-PySpark: _fit Running xgboost-2.0.3 on 1 workers with\n\tbooster params: {'device': 'cpu', 'max_depth': 7, 'objective': 'reg:squarederror', 'nthread': 1}\n\ttrain_call_kwargs_params: {'verbose_eval': True, 'num_boost_round': 10}\n\tdmatrix_kwargs: {'nthread': 1, 'missing': nan}\n2024-04-12 22:43:46,247 INFO XGBoost-PySpark: _fit Finished xgboost training!\n2024-04-12 22:43:52,877 INFO XGBoost-PySpark: _fit Running xgboost-2.0.3 on 1 workers with\n\tbooster params: {'device': 'cpu', 'max_depth': 7, 'objective': 'reg:squarederror', 'nthread': 1}\n\ttrain_call_kwargs_params: {'verbose_eval': True, 'num_boost_round': 15}\n\tdmatrix_kwargs: {'nthread': 1, 'missing': nan}\n2024-04-12 22:44:32,061 INFO XGBoost-PySpark: _fit Finished xgboost training!\n2024-04-12 22:44:38,821 INFO XGBoost-PySpark: _fit Running xgboost-2.0.3 on 1 workers with\n\tbooster params: {'device': 'cpu', 'max_depth': 7, 'objective': 'reg:squarederror', 'nthread': 1}\n\ttrain_call_kwargs_params: {'verbose_eval': True, 'num_boost_round': 20}\n\tdmatrix_kwargs: {'nthread': 1, 'missing': nan}\n2024-04-12 22:45:20,918 INFO XGBoost-PySpark: _fit Finished xgboost training!\n2024-04-12 22:45:27,836 INFO XGBoost-PySpark: _fit Running xgboost-2.0.3 on 1 workers with\n\tbooster params: {'device': 'cpu', 'max_depth': 7, 'objective': 'reg:squarederror', 'nthread': 1}\n\ttrain_call_kwargs_params: {'verbose_eval': True, 'num_boost_round': 40}\n\tdmatrix_kwargs: {'nthread': 1, 'missing': nan}\n2024-04-12 22:46:22,098 INFO XGBoost-PySpark: _fit Finished xgboost training!\n2024-04-12 22:46:29,506 INFO XGBoost-PySpark: _fit Running xgboost-2.0.3 on 1 workers with\n\tbooster params: {'device': 'cpu', 'max_depth': 7, 'objective': 'reg:squarederror', 'nthread': 1}\n\ttrain_call_kwargs_params: {'verbose_eval': True, 'num_boost_round': 30}\n\tdmatrix_kwargs: {'nthread': 1, 'missing': nan}\n2024-04-12 22:47:17,597 INFO XGBoost-PySpark: _fit Finished xgboost training!\n2024-04-12 22:47:24,899 INFO XGBoost-PySpark: _fit Running xgboost-2.0.3 on 1 workers with\n\tbooster params: {'device': 'cpu', 'max_depth': 9, 'objective': 'reg:squarederror', 'nthread': 1}\n\ttrain_call_kwargs_params: {'verbose_eval': True, 'num_boost_round': 10}\n\tdmatrix_kwargs: {'nthread': 1, 'missing': nan}\n2024-04-12 22:48:04,847 INFO XGBoost-PySpark: _fit Finished xgboost training!\n2024-04-12 22:48:12,030 INFO XGBoost-PySpark: _fit Running xgboost-2.0.3 on 1 workers with\n\tbooster params: {'device': 'cpu', 'max_depth': 9, 'objective': 'reg:squarederror', 'nthread': 1}\n\ttrain_call_kwargs_params: {'verbose_eval': True, 'num_boost_round': 15}\n\tdmatrix_kwargs: {'nthread': 1, 'missing': nan}\n2024-04-12 22:48:55,069 INFO XGBoost-PySpark: _fit Finished xgboost training!\n2024-04-12 22:49:02,164 INFO XGBoost-PySpark: _fit Running xgboost-2.0.3 on 1 workers with\n\tbooster params: {'device': 'cpu', 'max_depth': 9, 'objective': 'reg:squarederror', 'nthread': 1}\n\ttrain_call_kwargs_params: {'verbose_eval': True, 'num_boost_round': 20}\n\tdmatrix_kwargs: {'nthread': 1, 'missing': nan}\n2024-04-12 22:49:48,397 INFO XGBoost-PySpark: _fit Finished xgboost training!\n2024-04-12 22:49:55,513 INFO XGBoost-PySpark: _fit Running xgboost-2.0.3 on 1 workers with\n\tbooster params: {'device': 'cpu', 'max_depth': 9, 'objective': 'reg:squarederror', 'nthread': 1}\n\ttrain_call_kwargs_params: {'verbose_eval': True, 'num_boost_round': 40}\n\tdmatrix_kwargs: {'nthread': 1, 'missing': nan}\n2024-04-12 22:50:59,818 INFO XGBoost-PySpark: _fit Finished xgboost training!\n2024-04-12 22:51:07,804 INFO XGBoost-PySpark: _fit Running xgboost-2.0.3 on 1 workers with\n\tbooster params: {'device': 'cpu', 'max_depth': 9, 'objective': 'reg:squarederror', 'nthread': 1}\n\ttrain_call_kwargs_params: {'verbose_eval': True, 'num_boost_round': 30}\n\tdmatrix_kwargs: {'nthread': 1, 'missing': nan}\n2024-04-12 22:52:17,350 INFO XGBoost-PySpark: _fit Finished xgboost training!\n2024-04-12 22:52:27,309 INFO XGBoost-PySpark: _fit Running xgboost-2.0.3 on 1 workers with\n\tbooster params: {'device': 'cpu', 'max_depth': 10, 'objective': 'reg:squarederror', 'nthread': 1}\n\ttrain_call_kwargs_params: {'verbose_eval': True, 'num_boost_round': 10}\n\tdmatrix_kwargs: {'nthread': 1, 'missing': nan}\n2024-04-12 22:53:13,757 INFO XGBoost-PySpark: _fit Finished xgboost training!\n2024-04-12 22:53:20,484 INFO XGBoost-PySpark: _fit Running xgboost-2.0.3 on 1 workers with\n\tbooster params: {'device': 'cpu', 'max_depth': 10, 'objective': 'reg:squarederror', 'nthread': 1}\n\ttrain_call_kwargs_params: {'verbose_eval': True, 'num_boost_round': 15}\n\tdmatrix_kwargs: {'nthread': 1, 'missing': nan}\n2024-04-12 22:54:03,124 INFO XGBoost-PySpark: _fit Finished xgboost training!\n2024-04-12 22:54:10,142 INFO XGBoost-PySpark: _fit Running xgboost-2.0.3 on 1 workers with\n\tbooster params: {'device': 'cpu', 'max_depth': 10, 'objective': 'reg:squarederror', 'nthread': 1}\n\ttrain_call_kwargs_params: {'verbose_eval': True, 'num_boost_round': 20}\n\tdmatrix_kwargs: {'nthread': 1, 'missing': nan}\n2024-04-12 22:55:01,274 INFO XGBoost-PySpark: _fit Finished xgboost training!\n2024-04-12 22:55:09,558 INFO XGBoost-PySpark: _fit Running xgboost-2.0.3 on 1 workers with\n\tbooster params: {'device': 'cpu', 'max_depth': 10, 'objective': 'reg:squarederror', 'nthread': 1}\n\ttrain_call_kwargs_params: {'verbose_eval': True, 'num_boost_round': 40}\n\tdmatrix_kwargs: {'nthread': 1, 'missing': nan}\n2024-04-12 22:56:16,156 INFO XGBoost-PySpark: _fit Finished xgboost training!\n2024-04-12 22:56:25,712 INFO XGBoost-PySpark: _fit Running xgboost-2.0.3 on 1 workers with\n\tbooster params: {'device': 'cpu', 'max_depth': 10, 'objective': 'reg:squarederror', 'nthread': 1}\n\ttrain_call_kwargs_params: {'verbose_eval': True, 'num_boost_round': 30}\n\tdmatrix_kwargs: {'nthread': 1, 'missing': nan}\n2024-04-12 22:57:22,762 INFO XGBoost-PySpark: _fit Finished xgboost training!\n2024-04-12 22:57:31,166 INFO XGBoost-PySpark: _fit Running xgboost-2.0.3 on 1 workers with\n\tbooster params: {'device': 'cpu', 'max_depth': 3, 'objective': 'reg:squarederror', 'nthread': 1}\n\ttrain_call_kwargs_params: {'verbose_eval': True, 'num_boost_round': 10}\n\tdmatrix_kwargs: {'nthread': 1, 'missing': nan}\n2024-04-12 22:59:24,313 INFO XGBoost-PySpark: _fit Finished xgboost training!\n2024-04-12 23:00:57,451 INFO XGBoost-PySpark: _fit Running xgboost-2.0.3 on 1 workers with\n\tbooster params: {'device': 'cpu', 'max_depth': 3, 'objective': 'reg:squarederror', 'nthread': 1}\n\ttrain_call_kwargs_params: {'verbose_eval': True, 'num_boost_round': 15}\n\tdmatrix_kwargs: {'nthread': 1, 'missing': nan}\n2024-04-12 23:01:47,807 INFO XGBoost-PySpark: _fit Finished xgboost training!\n2024-04-12 23:01:56,037 INFO XGBoost-PySpark: _fit Running xgboost-2.0.3 on 1 workers with\n\tbooster params: {'device': 'cpu', 'max_depth': 3, 'objective': 'reg:squarederror', 'nthread': 1}\n\ttrain_call_kwargs_params: {'verbose_eval': True, 'num_boost_round': 20}\n\tdmatrix_kwargs: {'nthread': 1, 'missing': nan}\n2024-04-12 23:02:39,602 INFO XGBoost-PySpark: _fit Finished xgboost training!\n2024-04-12 23:02:46,697 INFO XGBoost-PySpark: _fit Running xgboost-2.0.3 on 1 workers with\n\tbooster params: {'device': 'cpu', 'max_depth': 3, 'objective': 'reg:squarederror', 'nthread': 1}\n\ttrain_call_kwargs_params: {'verbose_eval': True, 'num_boost_round': 40}\n\tdmatrix_kwargs: {'nthread': 1, 'missing': nan}\n2024-04-12 23:03:36,281 INFO XGBoost-PySpark: _fit Finished xgboost training!\n2024-04-12 23:03:43,436 INFO XGBoost-PySpark: _fit Running xgboost-2.0.3 on 1 workers with\n\tbooster params: {'device': 'cpu', 'max_depth': 3, 'objective': 'reg:squarederror', 'nthread': 1}\n\ttrain_call_kwargs_params: {'verbose_eval': True, 'num_boost_round': 30}\n\tdmatrix_kwargs: {'nthread': 1, 'missing': nan}\n2024-04-12 23:04:24,255 INFO XGBoost-PySpark: _fit Finished xgboost training!\n2024-04-12 23:04:31,135 INFO XGBoost-PySpark: _fit Running xgboost-2.0.3 on 1 workers with\n\tbooster params: {'device': 'cpu', 'max_depth': 5, 'objective': 'reg:squarederror', 'nthread': 1}\n\ttrain_call_kwargs_params: {'verbose_eval': True, 'num_boost_round': 10}\n\tdmatrix_kwargs: {'nthread': 1, 'missing': nan}\n2024-04-12 23:05:31,046 INFO XGBoost-PySpark: _fit Finished xgboost training!\n2024-04-12 23:05:38,049 INFO XGBoost-PySpark: _fit Running xgboost-2.0.3 on 1 workers with\n\tbooster params: {'device': 'cpu', 'max_depth': 5, 'objective': 'reg:squarederror', 'nthread': 1}\n\ttrain_call_kwargs_params: {'verbose_eval': True, 'num_boost_round': 15}\n\tdmatrix_kwargs: {'nthread': 1, 'missing': nan}\n2024-04-12 23:06:16,970 INFO XGBoost-PySpark: _fit Finished xgboost training!\n2024-04-12 23:06:23,327 INFO XGBoost-PySpark: _fit Running xgboost-2.0.3 on 1 workers with\n\tbooster params: {'device': 'cpu', 'max_depth': 5, 'objective': 'reg:squarederror', 'nthread': 1}\n\ttrain_call_kwargs_params: {'verbose_eval': True, 'num_boost_round': 20}\n\tdmatrix_kwargs: {'nthread': 1, 'missing': nan}\n2024-04-12 23:07:02,504 INFO XGBoost-PySpark: _fit Finished xgboost training!\n2024-04-12 23:07:09,152 INFO XGBoost-PySpark: _fit Running xgboost-2.0.3 on 1 workers with\n\tbooster params: {'device': 'cpu', 'max_depth': 5, 'objective': 'reg:squarederror', 'nthread': 1}\n\ttrain_call_kwargs_params: {'verbose_eval': True, 'num_boost_round': 40}\n\tdmatrix_kwargs: {'nthread': 1, 'missing': nan}\n2024-04-12 23:08:03,020 INFO XGBoost-PySpark: _fit Finished xgboost training!\n2024-04-12 23:08:10,373 INFO XGBoost-PySpark: _fit Running xgboost-2.0.3 on 1 workers with\n\tbooster params: {'device': 'cpu', 'max_depth': 5, 'objective': 'reg:squarederror', 'nthread': 1}\n\ttrain_call_kwargs_params: {'verbose_eval': True, 'num_boost_round': 30}\n\tdmatrix_kwargs: {'nthread': 1, 'missing': nan}\n2024-04-12 23:09:09,307 INFO XGBoost-PySpark: _fit Finished xgboost training!\n2024-04-12 23:09:16,016 INFO XGBoost-PySpark: _fit Running xgboost-2.0.3 on 1 workers with\n\tbooster params: {'device': 'cpu', 'max_depth': 7, 'objective': 'reg:squarederror', 'nthread': 1}\n\ttrain_call_kwargs_params: {'verbose_eval': True, 'num_boost_round': 10}\n\tdmatrix_kwargs: {'nthread': 1, 'missing': nan}\n2024-04-12 23:09:51,741 INFO XGBoost-PySpark: _fit Finished xgboost training!\n2024-04-12 23:09:58,150 INFO XGBoost-PySpark: _fit Running xgboost-2.0.3 on 1 workers with\n\tbooster params: {'device': 'cpu', 'max_depth': 7, 'objective': 'reg:squarederror', 'nthread': 1}\n\ttrain_call_kwargs_params: {'verbose_eval': True, 'num_boost_round': 15}\n\tdmatrix_kwargs: {'nthread': 1, 'missing': nan}\n2024-04-12 23:10:38,840 INFO XGBoost-PySpark: _fit Finished xgboost training!\n2024-04-12 23:10:45,914 INFO XGBoost-PySpark: _fit Running xgboost-2.0.3 on 1 workers with\n\tbooster params: {'device': 'cpu', 'max_depth': 7, 'objective': 'reg:squarederror', 'nthread': 1}\n\ttrain_call_kwargs_params: {'verbose_eval': True, 'num_boost_round': 20}\n\tdmatrix_kwargs: {'nthread': 1, 'missing': nan}\n2024-04-12 23:11:29,442 INFO XGBoost-PySpark: _fit Finished xgboost training!\n2024-04-12 23:11:35,963 INFO XGBoost-PySpark: _fit Running xgboost-2.0.3 on 1 workers with\n\tbooster params: {'device': 'cpu', 'max_depth': 7, 'objective': 'reg:squarederror', 'nthread': 1}\n\ttrain_call_kwargs_params: {'verbose_eval': True, 'num_boost_round': 40}\n\tdmatrix_kwargs: {'nthread': 1, 'missing': nan}\n2024-04-12 23:12:30,822 INFO XGBoost-PySpark: _fit Finished xgboost training!\n2024-04-12 23:12:37,861 INFO XGBoost-PySpark: _fit Running xgboost-2.0.3 on 1 workers with\n\tbooster params: {'device': 'cpu', 'max_depth': 7, 'objective': 'reg:squarederror', 'nthread': 1}\n\ttrain_call_kwargs_params: {'verbose_eval': True, 'num_boost_round': 30}\n\tdmatrix_kwargs: {'nthread': 1, 'missing': nan}\n2024-04-12 23:13:26,913 INFO XGBoost-PySpark: _fit Finished xgboost training!\n2024-04-12 23:13:33,581 INFO XGBoost-PySpark: _fit Running xgboost-2.0.3 on 1 workers with\n\tbooster params: {'device': 'cpu', 'max_depth': 9, 'objective': 'reg:squarederror', 'nthread': 1}\n\ttrain_call_kwargs_params: {'verbose_eval': True, 'num_boost_round': 10}\n\tdmatrix_kwargs: {'nthread': 1, 'missing': nan}\n2024-04-12 23:14:12,098 INFO XGBoost-PySpark: _fit Finished xgboost training!\n2024-04-12 23:14:18,567 INFO XGBoost-PySpark: _fit Running xgboost-2.0.3 on 1 workers with\n\tbooster params: {'device': 'cpu', 'max_depth': 9, 'objective': 'reg:squarederror', 'nthread': 1}\n\ttrain_call_kwargs_params: {'verbose_eval': True, 'num_boost_round': 15}\n\tdmatrix_kwargs: {'nthread': 1, 'missing': nan}\n2024-04-12 23:15:00,859 INFO XGBoost-PySpark: _fit Finished xgboost training!\n2024-04-12 23:15:07,551 INFO XGBoost-PySpark: _fit Running xgboost-2.0.3 on 1 workers with\n\tbooster params: {'device': 'cpu', 'max_depth': 9, 'objective': 'reg:squarederror', 'nthread': 1}\n\ttrain_call_kwargs_params: {'verbose_eval': True, 'num_boost_round': 20}\n\tdmatrix_kwargs: {'nthread': 1, 'missing': nan}\n2024-04-12 23:15:54,511 INFO XGBoost-PySpark: _fit Finished xgboost training!\n2024-04-12 23:16:01,581 INFO XGBoost-PySpark: _fit Running xgboost-2.0.3 on 1 workers with\n\tbooster params: {'device': 'cpu', 'max_depth': 9, 'objective': 'reg:squarederror', 'nthread': 1}\n\ttrain_call_kwargs_params: {'verbose_eval': True, 'num_boost_round': 40}\n\tdmatrix_kwargs: {'nthread': 1, 'missing': nan}\n2024-04-12 23:17:04,990 INFO XGBoost-PySpark: _fit Finished xgboost training!\n2024-04-12 23:17:13,961 INFO XGBoost-PySpark: _fit Running xgboost-2.0.3 on 1 workers with\n\tbooster params: {'device': 'cpu', 'max_depth': 9, 'objective': 'reg:squarederror', 'nthread': 1}\n\ttrain_call_kwargs_params: {'verbose_eval': True, 'num_boost_round': 30}\n\tdmatrix_kwargs: {'nthread': 1, 'missing': nan}\n2024-04-12 23:18:09,315 INFO XGBoost-PySpark: _fit Finished xgboost training!\n2024-04-12 23:18:16,498 INFO XGBoost-PySpark: _fit Running xgboost-2.0.3 on 1 workers with\n\tbooster params: {'device': 'cpu', 'max_depth': 10, 'objective': 'reg:squarederror', 'nthread': 1}\n\ttrain_call_kwargs_params: {'verbose_eval': True, 'num_boost_round': 10}\n\tdmatrix_kwargs: {'nthread': 1, 'missing': nan}\n2024-04-12 23:18:53,418 INFO XGBoost-PySpark: _fit Finished xgboost training!\n2024-04-12 23:19:03,795 INFO XGBoost-PySpark: _fit Running xgboost-2.0.3 on 1 workers with\n\tbooster params: {'device': 'cpu', 'max_depth': 10, 'objective': 'reg:squarederror', 'nthread': 1}\n\ttrain_call_kwargs_params: {'verbose_eval': True, 'num_boost_round': 15}\n\tdmatrix_kwargs: {'nthread': 1, 'missing': nan}\n2024-04-12 23:19:50,875 INFO XGBoost-PySpark: _fit Finished xgboost training!\n2024-04-12 23:19:58,265 INFO XGBoost-PySpark: _fit Running xgboost-2.0.3 on 1 workers with\n\tbooster params: {'device': 'cpu', 'max_depth': 10, 'objective': 'reg:squarederror', 'nthread': 1}\n\ttrain_call_kwargs_params: {'verbose_eval': True, 'num_boost_round': 20}\n\tdmatrix_kwargs: {'nthread': 1, 'missing': nan}\n2024-04-12 23:20:47,173 INFO XGBoost-PySpark: _fit Finished xgboost training!\n2024-04-12 23:20:54,247 INFO XGBoost-PySpark: _fit Running xgboost-2.0.3 on 1 workers with\n\tbooster params: {'device': 'cpu', 'max_depth': 10, 'objective': 'reg:squarederror', 'nthread': 1}\n\ttrain_call_kwargs_params: {'verbose_eval': True, 'num_boost_round': 40}\n\tdmatrix_kwargs: {'nthread': 1, 'missing': nan}\n2024-04-12 23:21:58,769 INFO XGBoost-PySpark: _fit Finished xgboost training!\n2024-04-12 23:22:08,172 INFO XGBoost-PySpark: _fit Running xgboost-2.0.3 on 1 workers with\n\tbooster params: {'device': 'cpu', 'max_depth': 10, 'objective': 'reg:squarederror', 'nthread': 1}\n\ttrain_call_kwargs_params: {'verbose_eval': True, 'num_boost_round': 30}\n\tdmatrix_kwargs: {'nthread': 1, 'missing': nan}\n2024-04-12 23:23:06,081 INFO XGBoost-PySpark: _fit Finished xgboost training!\n2024-04-12 23:23:14,000 INFO XGBoost-PySpark: _fit Running xgboost-2.0.3 on 1 workers with\n\tbooster params: {'device': 'cpu', 'max_depth': 10, 'objective': 'reg:squarederror', 'nthread': 1}\n\ttrain_call_kwargs_params: {'verbose_eval': True, 'num_boost_round': 40}\n\tdmatrix_kwargs: {'nthread': 1, 'missing': nan}\n2024-04-12 23:25:44,429 INFO XGBoost-PySpark: _fit Finished xgboost training!\n"
     ]
    }
   ],
   "source": [
    "xgb_regressor = SparkXGBRegressor(\n",
    "    features_col=\"features\", \n",
    "    label_col=\"totalFare\", \n",
    "    prediction_col=\"prediction\",\n",
    "    objective=\"reg:squarederror\",\n",
    ")\n",
    "\n",
    "# Define the pipeline with stages\n",
    "pipeline = Pipeline(stages=[assembler, xgb_regressor])\n",
    "\n",
    "\n",
    "paramGrid = ParamGridBuilder() \\\n",
    "    .addGrid(xgb_regressor.max_depth, [3, 5, 7, 9, 10]) \\\n",
    "    .addGrid(xgb_regressor.n_estimators, [10, 15, 20, 40, 30]) \\\n",
    "    .build()\n",
    "\n",
    "crossval = CrossValidator(\n",
    "    estimator=pipeline,\n",
    "    estimatorParamMaps=paramGrid,\n",
    "    evaluator=RegressionEvaluator(\n",
    "        labelCol=\"totalFare\",\n",
    "        predictionCol=\"prediction\",\n",
    "        metricName=\"rmse\"\n",
    "    ),\n",
    "    numFolds=3\n",
    ")\n",
    "\n",
    "# Fit the model\n",
    "cv_model = crossval.fit(train_data)\n",
    "\n",
    "# Make predictions\n",
    "prediction = cv_model.transform(test_data)\n",
    "# prediction.show()\n"
   ]
  },
  {
   "cell_type": "code",
   "execution_count": 0,
   "metadata": {
    "application/vnd.databricks.v1+cell": {
     "cellMetadata": {
      "byteLimit": 2048000,
      "rowLimit": 10000
     },
     "inputWidgets": {},
     "nuid": "779f67f8-ae16-44cb-85bd-6cdd157cf031",
     "showTitle": false,
     "title": ""
    }
   },
   "outputs": [
    {
     "output_type": "stream",
     "name": "stdout",
     "output_type": "stream",
     "text": [
      "Root Mean Squared Error (RMSE) on test data = 106.358\nMean Absolute Error (MAE) on test data = 64.2874\n"
     ]
    }
   ],
   "source": [
    "# Define evaluator\n",
    "evaluator = RegressionEvaluator(predictionCol=\"prediction\", labelCol=\"totalFare\", metricName=\"rmse\")\n",
    "\n",
    "# Evaluate the best model\n",
    "rmse = evaluator.evaluate(prediction)\n",
    "print(\"Root Mean Squared Error (RMSE) on test data = %g\" % rmse)\n",
    "\n",
    "evaluator.setMetricName(\"mae\")\n",
    "mae = evaluator.evaluate(prediction)\n",
    "print(\"Mean Absolute Error (MAE) on test data = %g\" % mae)"
   ]
  },
  {
   "cell_type": "code",
   "execution_count": 0,
   "metadata": {
    "application/vnd.databricks.v1+cell": {
     "cellMetadata": {
      "byteLimit": 2048000,
      "rowLimit": 10000
     },
     "inputWidgets": {},
     "nuid": "e7b0a0ad-1f8d-4a80-81b2-97d9d14cf229",
     "showTitle": false,
     "title": ""
    }
   },
   "outputs": [
    {
     "output_type": "stream",
     "name": "stdout",
     "output_type": "stream",
     "text": [
      "Max Depth: 3, Num Rounds: 10, RMSE: 137.9636213333039\nMax Depth: 3, Num Rounds: 15, RMSE: 133.5397413595651\nMax Depth: 3, Num Rounds: 20, RMSE: 131.87884605262445\nMax Depth: 3, Num Rounds: 40, RMSE: 128.3961015423497\nMax Depth: 3, Num Rounds: 30, RMSE: 129.82932742041135\nMax Depth: 5, Num Rounds: 10, RMSE: 131.49060953939204\nMax Depth: 5, Num Rounds: 15, RMSE: 128.14050110122835\nMax Depth: 5, Num Rounds: 20, RMSE: 126.26344183465767\nMax Depth: 5, Num Rounds: 40, RMSE: 122.01823033996921\nMax Depth: 5, Num Rounds: 30, RMSE: 123.65954390702053\nMax Depth: 7, Num Rounds: 10, RMSE: 126.19766141715927\nMax Depth: 7, Num Rounds: 15, RMSE: 122.16652700354892\nMax Depth: 7, Num Rounds: 20, RMSE: 120.3240025228376\nMax Depth: 7, Num Rounds: 40, RMSE: 115.66238708143037\nMax Depth: 7, Num Rounds: 30, RMSE: 117.7248216610373\nMax Depth: 9, Num Rounds: 10, RMSE: 120.52302556843563\nMax Depth: 9, Num Rounds: 15, RMSE: 116.374211620966\nMax Depth: 9, Num Rounds: 20, RMSE: 114.31391543661759\nMax Depth: 9, Num Rounds: 40, RMSE: 109.05244995843684\nMax Depth: 9, Num Rounds: 30, RMSE: 111.2585934664068\nMax Depth: 10, Num Rounds: 10, RMSE: 118.21246556112412\nMax Depth: 10, Num Rounds: 15, RMSE: 114.26207765427323\nMax Depth: 10, Num Rounds: 20, RMSE: 111.84968728499219\nMax Depth: 10, Num Rounds: 40, RMSE: 105.87154566690992\nMax Depth: 10, Num Rounds: 30, RMSE: 108.0968959454634\n"
     ]
    }
   ],
   "source": [
    "# Assuming 'cvModel' is the fitted CrossValidator model\n",
    "avg_metrics = cv_model.avgMetrics  # This holds the average RMSE for each combination\n",
    "\n",
    "# Iterate over each combination of parameters and their corresponding metric\n",
    "for i, params in enumerate(paramGrid):\n",
    "    # Extract the specific parameters\n",
    "    max_depth = params[xgb_regressor.max_depth]\n",
    "    num_round = params[xgb_regressor.n_estimators]\n",
    "    rmse = avg_metrics[i]  # Assuming RMSE is the metric used in CrossValidator setup\n",
    "\n",
    "    # Print each combination with its RMSE\n",
    "    print(f\"Max Depth: {max_depth}, Num Rounds: {num_round}, RMSE: {rmse}\")\n"
   ]
  },
  {
   "cell_type": "code",
   "execution_count": 0,
   "metadata": {
    "application/vnd.databricks.v1+cell": {
     "cellMetadata": {
      "byteLimit": 2048000,
      "rowLimit": 10000
     },
     "inputWidgets": {},
     "nuid": "f36e9177-b65f-423a-972c-e7ecf6193e42",
     "showTitle": false,
     "title": ""
    }
   },
   "outputs": [],
   "source": [
    "# Save the model to a specified path\n",
    "modelPath = \"/mnt/nguyen1/xgb_model_param\"\n",
    "cv_model.save(modelPath)"
   ]
  },
  {
   "cell_type": "markdown",
   "metadata": {
    "application/vnd.databricks.v1+cell": {
     "cellMetadata": {},
     "inputWidgets": {},
     "nuid": "dee205a9-605c-4ad5-bb06-90d61d7b1698",
     "showTitle": false,
     "title": ""
    }
   },
   "source": []
  },
  {
   "cell_type": "code",
   "execution_count": 0,
   "metadata": {
    "application/vnd.databricks.v1+cell": {
     "cellMetadata": {
      "byteLimit": 2048000,
      "rowLimit": 10000
     },
     "inputWidgets": {},
     "nuid": "72a4ce1c-a150-4f56-b19e-04155503e2bf",
     "showTitle": false,
     "title": ""
    }
   },
   "outputs": [],
   "source": [
    "# spark.stop()"
   ]
  },
  {
   "cell_type": "code",
   "execution_count": 0,
   "metadata": {
    "application/vnd.databricks.v1+cell": {
     "cellMetadata": {},
     "inputWidgets": {},
     "nuid": "8ac98dec-804e-4381-ad75-1e891825459f",
     "showTitle": false,
     "title": ""
    }
   },
   "outputs": [],
   "source": []
  }
 ],
 "metadata": {
  "application/vnd.databricks.v1+notebook": {
   "dashboards": [],
   "language": "python",
   "notebookMetadata": {
    "pythonIndentUnit": 4
   },
   "notebookName": "xgboost_model_tuning",
   "widgets": {}
  },
  "kernelspec": {
   "display_name": "Python 3",
   "language": "python",
   "name": "python3"
  },
  "language_info": {
   "codemirror_mode": {
    "name": "ipython",
    "version": 3
   },
   "file_extension": ".py",
   "mimetype": "text/x-python",
   "name": "python",
   "nbconvert_exporter": "python",
   "pygments_lexer": "ipython3",
   "version": "3.10.8"
  }
 },
 "nbformat": 4,
 "nbformat_minor": 0
}
