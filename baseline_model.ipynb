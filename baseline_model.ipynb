{
 "cells": [
  {
   "cell_type": "markdown",
   "id": "9c1208fd-8036-4b23-a1a2-219b94d75995",
   "metadata": {},
   "source": [
    "# Baseline Model"
   ]
  },
  {
   "cell_type": "markdown",
   "id": "2bc108f5-8717-4771-8a02-1ec5e4f7a644",
   "metadata": {},
   "source": [
    "---"
   ]
  },
  {
   "cell_type": "markdown",
   "id": "e825b302-5ca4-4417-8586-f2c35dd70e8e",
   "metadata": {},
   "source": [
    "We create a baseline regression model to fit our data. This is to give a preliminary idea of how well a untuned model is on our raw features."
   ]
  },
  {
   "cell_type": "markdown",
   "id": "0163a658-951b-4d75-a6ed-a036a7c04c83",
   "metadata": {},
   "source": [
    "---"
   ]
  },
  {
   "cell_type": "markdown",
   "id": "ba3d3665-ca24-4422-904c-46bab5e1e688",
   "metadata": {},
   "source": [
    "## Load Spark and Data"
   ]
  },
  {
   "cell_type": "code",
   "execution_count": 20,
   "id": "9071dbe5-1827-4ccb-98a5-ff2bcf68bd58",
   "metadata": {},
   "outputs": [],
   "source": [
    "from pyspark.sql import SparkSession\n",
    "from pyspark.sql.functions import col\n",
    "from pyspark.ml.feature import VectorAssembler\n",
    "from pyspark.ml.regression import RandomForestRegressor\n",
    "from pyspark.ml.evaluation import RegressionEvaluator\n",
    "from pyspark.ml.linalg import VectorUDT"
   ]
  },
  {
   "cell_type": "code",
   "execution_count": 4,
   "id": "7eb7843c-4669-4a16-af3e-f8645e60a9ad",
   "metadata": {},
   "outputs": [],
   "source": [
    "spark = SparkSession.builder \\\n",
    "    .appName(\"baselinemodel\") \\\n",
    "    .getOrCreate()"
   ]
  },
  {
   "cell_type": "code",
   "execution_count": 22,
   "id": "8c2d9d87-3302-4b76-85ad-ddc0580b1fff",
   "metadata": {},
   "outputs": [],
   "source": [
    "# REPLACE WITH PROCESSED DATA FILEPATH\n",
    "DATA_PATH = \"../data/itineraries_processed.parquet\""
   ]
  },
  {
   "cell_type": "code",
   "execution_count": 23,
   "id": "47da0ed7-51eb-4581-910f-1717fcd664d8",
   "metadata": {},
   "outputs": [
    {
     "name": "stderr",
     "output_type": "stream",
     "text": [
      "                                                                                \r"
     ]
    }
   ],
   "source": [
    "df = spark.read.parquet(DATA_PATH)"
   ]
  },
  {
   "cell_type": "code",
   "execution_count": 25,
   "id": "3504dfde-5355-4b25-b759-e76bd02d8807",
   "metadata": {},
   "outputs": [
    {
     "name": "stdout",
     "output_type": "stream",
     "text": [
      "root\n",
      " |-- isBasicEconomy: integer (nullable = true)\n",
      " |-- isRefundable: integer (nullable = true)\n",
      " |-- isNonStop: integer (nullable = true)\n",
      " |-- totalFare: double (nullable = true)\n",
      " |-- days_before_flight: integer (nullable = true)\n",
      " |-- day: integer (nullable = true)\n",
      " |-- startingAirport_encoded: vector (nullable = true)\n",
      " |-- destinationAirport_encoded: vector (nullable = true)\n",
      " |-- num_legs: integer (nullable = true)\n",
      " |-- All_Same: integer (nullable = true)\n",
      " |-- airline_name_encoded: vector (nullable = true)\n",
      "\n"
     ]
    }
   ],
   "source": [
    "df.printSchema()"
   ]
  },
  {
   "cell_type": "markdown",
   "id": "c8abb91a-2958-4a1c-99de-18a03b6853ec",
   "metadata": {},
   "source": [
    "## Assemble into Vectors"
   ]
  },
  {
   "cell_type": "code",
   "execution_count": 39,
   "id": "c8f33828-ff84-4b14-839c-838922019359",
   "metadata": {},
   "outputs": [],
   "source": [
    "feature_columns = df.columns[:-1]\n",
    "feature_columns.remove('totalFare')\n",
    "\n",
    "# Assemble features into a vector\n",
    "assembler = VectorAssembler(inputCols=feature_columns, outputCol=\"features\")\n",
    "df_ass = assembler.transform(df)"
   ]
  },
  {
   "cell_type": "markdown",
   "id": "c0cc3508-7b09-4474-9810-f9dd2d026b49",
   "metadata": {},
   "source": [
    "## Split Data "
   ]
  },
  {
   "cell_type": "code",
   "execution_count": 40,
   "id": "b28c3e4b-64e3-49e0-89a4-ed1380948b8a",
   "metadata": {},
   "outputs": [],
   "source": [
    "# Training split percentage\n",
    "t_perc = 0.8"
   ]
  },
  {
   "cell_type": "code",
   "execution_count": 41,
   "id": "355e9c85-25bf-4036-89b2-dc25754cfaa0",
   "metadata": {},
   "outputs": [],
   "source": [
    "(train, test) = df_ass.randomSplit([t_perc, 1-t_perc])"
   ]
  },
  {
   "cell_type": "markdown",
   "id": "9a0f428f-8099-42a8-b645-e0eeb33eb383",
   "metadata": {},
   "source": [
    "## Create the Model"
   ]
  },
  {
   "cell_type": "code",
   "execution_count": 43,
   "id": "50fb2ec1-2143-4d31-941f-a61bf4f35d3d",
   "metadata": {},
   "outputs": [
    {
     "name": "stderr",
     "output_type": "stream",
     "text": [
      "                                                                                \r"
     ]
    }
   ],
   "source": [
    "# Create a RandomForestRegressor model\n",
    "rf = RandomForestRegressor(featuresCol=\"features\", labelCol=\"totalFare\")\n",
    "\n",
    "# Train the model\n",
    "rf_model = rf.fit(train)"
   ]
  },
  {
   "cell_type": "code",
   "execution_count": 44,
   "id": "0ac6e559-98f9-4d86-95c4-9517b027d583",
   "metadata": {},
   "outputs": [],
   "source": [
    "# Make predictions on the test data\n",
    "preds = rf_model.transform(test)"
   ]
  },
  {
   "cell_type": "code",
   "execution_count": 48,
   "id": "c4f76d75-4723-4398-b6e7-dc633ecf5ebf",
   "metadata": {},
   "outputs": [
    {
     "name": "stderr",
     "output_type": "stream",
     "text": [
      "[Stage 26:>                                                         (0 + 1) / 1]\r"
     ]
    },
    {
     "name": "stdout",
     "output_type": "stream",
     "text": [
      "Root Mean Squared Error (RMSE) on test data = 226.966981076701\n"
     ]
    },
    {
     "name": "stderr",
     "output_type": "stream",
     "text": [
      "                                                                                \r"
     ]
    }
   ],
   "source": [
    "# Evaluate the model\n",
    "evaluator = RegressionEvaluator(labelCol=\"totalFare\", predictionCol=\"prediction\", metricName=\"rmse\")\n",
    "rmse = evaluator.evaluate(preds)\n",
    "print(\"Root Mean Squared Error (RMSE) on test data =\", rmse)"
   ]
  },
  {
   "cell_type": "markdown",
   "id": "e0e5866f-fa63-486d-9d8c-8d90a03fbecc",
   "metadata": {},
   "source": [
    "Considering that the median price is 370, this model is not amazing. However, there is a lot of room for data inclusion as well as feature engineering"
   ]
  },
  {
   "cell_type": "code",
   "execution_count": 49,
   "id": "5dad8190-3fe5-48b2-8188-9fd709fc7a33",
   "metadata": {},
   "outputs": [
    {
     "name": "stderr",
     "output_type": "stream",
     "text": [
      "[Stage 27:>                                                         (0 + 1) / 1]\r"
     ]
    },
    {
     "name": "stdout",
     "output_type": "stream",
     "text": [
      "R-squared (R²) = 0.1610178640709934\n"
     ]
    },
    {
     "name": "stderr",
     "output_type": "stream",
     "text": [
      "                                                                                \r"
     ]
    }
   ],
   "source": [
    "# evaluate the R2\n",
    "evaluator = RegressionEvaluator(labelCol=\"totalFare\", predictionCol=\"prediction\", metricName=\"r2\")\n",
    "r2 = evaluator.evaluate(preds)\n",
    "print(\"R-squared (R²) =\", r2)"
   ]
  },
  {
   "cell_type": "markdown",
   "id": "4b4d2662-f771-4d6d-a942-560e62c38931",
   "metadata": {},
   "source": [
    "yep, this is pretty bad"
   ]
  },
  {
   "cell_type": "code",
   "execution_count": null,
   "id": "a83173d5-fc9a-47af-a787-23b56f4d90aa",
   "metadata": {},
   "outputs": [],
   "source": []
  }
 ],
 "metadata": {
  "kernelspec": {
   "display_name": "Python 3 (ipykernel)",
   "language": "python",
   "name": "python3"
  },
  "language_info": {
   "codemirror_mode": {
    "name": "ipython",
    "version": 3
   },
   "file_extension": ".py",
   "mimetype": "text/x-python",
   "name": "python",
   "nbconvert_exporter": "python",
   "pygments_lexer": "ipython3",
   "version": "3.12.1"
  }
 },
 "nbformat": 4,
 "nbformat_minor": 5
}
